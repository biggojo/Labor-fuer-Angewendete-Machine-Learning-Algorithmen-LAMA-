{
 "cells": [
  {
   "cell_type": "markdown",
   "metadata": {},
   "source": [
    "# LAMA TASK 1 - Data Preparation"
   ]
  },
  {
   "cell_type": "markdown",
   "metadata": {},
   "source": [
    "# Introduction\n",
    "\n",
    "_\"Machine Learning at its most basic is the practice of using algorithms to parse data, learn from it, and then make a determination or prediction about something in the world.\" -- Nvidia (Source: https://emerj.com/ai-glossary-terms/what-is-machine-learning/)_\n",
    "\n",
    "Well, as you might already heard, machine learning is based on data. Basically machine learning algorithms use many data samples to find a generalized solution to a given problem, once unknown or new data is used. Therefore, an important task in the beginning is proper data preparation. \n",
    "\n",
    "Hence you will learn in the first part of this session how data can be read from files. The proper data handling is then discussed. In the next part you learn how to use and utilize your data in order to get the most out of your machine learning approach.    "
   ]
  },
  {
   "cell_type": "markdown",
   "metadata": {},
   "source": [
    "<div class=\"alert alert-block alert-info\">\n",
    "<b>Note:</b> Some definitions.\n",
    "<ul>\n",
    "    <li> Consider a regular dataset, then one <b>sample</b> is given as a <b>row</b> and one <b>feature</b> over all samples by a <b>column</b>.\n",
    "<li> All columns are features but the one you are trying to predict or reveal tendencies is called label/target.\n",
    "<li> So to say, features are generally used as an input and labels as your output.\n",
    "\n",
    "</ul>\n",
    "</div>"
   ]
  },
  {
   "cell_type": "markdown",
   "metadata": {},
   "source": [
    "# 1 Load Data from CSV"
   ]
  },
  {
   "cell_type": "markdown",
   "metadata": {},
   "source": [
    "**First of all let's see what a CSV is.**\n",
    "\n",
    "A very common file format for data is CSV files. This is usually a standard for small datasets. CSV is short for **C**omma **S**eparated **V**alues. A CSV file is constructed out of rows and columns, similar to a table. Columns are separated by commas (,) and each line in the file represents a row."
   ]
  },
  {
   "cell_type": "markdown",
   "metadata": {},
   "source": [
    "As mentioned in the introduction, you will now see how to load a file and convert the input data into data types (such as integers, floats, strings etc...), which then can be handled by our Python programs. The following will provide you with the basics on how to load data.\n",
    "\n",
    "For CSV files we can use a Python standard library, which contains a `reader()` function. This function takes a file as input argument and returns a list of data rows. \n",
    "\n",
    "Let's get started with the code and create a function called `load_csv()`, which will take the filename as an argument and returns the dataset.\n",
    "\n",
    "## 1.1 Dataset\n",
    "\n",
    "During this session we use a diabetes dataset provided by the National Institute of Diabetes and Digestive and Kidney Diseases. \n",
    "\n",
    "\"The objective of the dataset is to diagnostically predict whether or not a patient has diabetes, based on certain diagnostic measurements included in the dataset. Several constraints were placed on the selection of these instances from a larger database. In particular, all patients here are females at least 21 years old of Pima Indian heritage.\" -- (https://www.kaggle.com/uciml/pima-indians-diabetes-database)\n",
    "\n",
    "<div class=\"alert alert-block alert-success\">\n",
    "<b>Task:</b> Complete the given <code>load_csv_one()</code> function. \n",
    "<ul>\n",
    "<li> Hint: It will be tested afterwards in the next code block\n",
    "<li> The reader is an object that returns the rows of the file as a list of strings\n",
    "<li> Use the list command or iterate the reader object to create your dataset\n",
    "\n",
    "</ul>\n",
    "</div>\n",
    "\n",
    "<div class=\"alert alert-block alert-info\">\n",
    "<b>Note:</b> See also https://docs.python.org/3/library/csv.html\n",
    "\n",
    "</div>"
   ]
  },
  {
   "cell_type": "code",
   "execution_count": 2,
   "metadata": {},
   "outputs": [],
   "source": [
    "from typing import *\n",
    "\n",
    "from csv import reader\n",
    "import csv\n",
    "\n",
    "# Load a CSV file\n",
    "def load_csv_one(filename: str) -> List[List[str]]:\n",
    "    \n",
    "    ### STUDENT CODE HERE (2pt)\n",
    "    with open(filename) as csvfile:\n",
    "        dataset =list(csv.reader(csvfile))\n",
    "    ### STUDENT CODE until HERE\n",
    "    \n",
    "    return dataset"
   ]
  },
  {
   "attachments": {
    "CSV.png": {
     "image/png": "[encoded data removed]"
    }
   },
   "cell_type": "markdown",
   "metadata": {},
   "source": [
    "If we look at the structure of the data (p.ex. by using _Notepad++_ in the \"data\" folder, where the file is located), we can see, that it contains numeric data, which is seperated by commas (,) (see picture below). Let's use our written function to learn about some details of the data like the number of rows and used columns.\n",
    "![CSV.png](attachment:CSV.png)\n",
    "\n",
    "<div class=\"alert alert-block alert-success\">\n",
    "<b>Task:</b> Use your function to load the table and print the number of rows and columns it contains.\n",
    "\n",
    "</div>"
   ]
  },
  {
   "cell_type": "code",
   "execution_count": 3,
   "metadata": {},
   "outputs": [
    {
     "name": "stdout",
     "output_type": "stream",
     "text": [
      "780\n",
      "9\n"
     ]
    }
   ],
   "source": [
    "\n",
    "filename = 'data/pima-indians-diabetes.csv'\n",
    "\n",
    "### STUDENT CODE HERE (1pt)\n",
    "x = load_csv_one(filename)\n",
    "datarows = print(len(x))\n",
    "datacolumns = print(len(x[0]))\n",
    "### STUDENT CODE until HERE\n"
   ]
  },
  {
   "cell_type": "markdown",
   "metadata": {},
   "source": [
    "Actually, there is a small problem with our function, since it will load empty lines from the data file and add them to our list of rows. We can handle this case if we are adding only rows with data in it while skipping empty rows.\n",
    "\n",
    "<div class=\"alert alert-block alert-success\">\n",
    "<b>Task:</b> Write an improved function for <code>load_csv()</code>, which skips empty rows.\n",
    "\n",
    "</div>"
   ]
  },
  {
   "cell_type": "code",
   "execution_count": 4,
   "metadata": {},
   "outputs": [
    {
     "name": "stdout",
     "output_type": "stream",
     "text": [
      "Loaded data file data/pima-indians-diabetes.csv with 768 rows and 9 columns\n"
     ]
    }
   ],
   "source": [
    "def load_csv(filename: str) -> List[List[str]]:\n",
    "    \n",
    "    ### STUDENT CODE HERE (1pt)\n",
    "    with open(filename) as csvfile:\n",
    "        dataset =list(csv.reader(csvfile))\n",
    "         \n",
    "    dataset = [row for row in dataset if row]\n",
    "    \n",
    "    return dataset\n",
    "    ### STUDENT CODE until HERE\n",
    "\n",
    "# Test your new function...\n",
    "dataset: List[List[str]] = load_csv(filename)\n",
    "print(f'Loaded data file {filename} with {len(dataset)} rows and {len(dataset[0])} columns')"
   ]
  },
  {
   "cell_type": "markdown",
   "metadata": {},
   "source": [
    "In general, always take a look on your data before loading it, there might be some irregularities in it, you might have to cover when loading it."
   ]
  },
  {
   "cell_type": "markdown",
   "metadata": {},
   "source": [
    "## 1.2 Convert Strings to Floats\n",
    "\n",
    "The majority of all machine learning algorithms prefer to work with numbers, especially floating point numbers. But does our current code for loading a csv file even satisfy this demand?\n",
    "Let's check it by printing one line of data."
   ]
  },
  {
   "cell_type": "code",
   "execution_count": 5,
   "metadata": {},
   "outputs": [
    {
     "name": "stdout",
     "output_type": "stream",
     "text": [
      "['6', '148', '72', '35', '0', '33.6', '0.627', '50', '1']\n",
      "<class 'list'>\n",
      "<class 'list'>\n",
      "<class 'str'>\n"
     ]
    }
   ],
   "source": [
    "print(dataset[0])\n",
    "  \n",
    "print(type(dataset))\n",
    "print(type(dataset[0]))\n",
    "print(type(dataset[0][0]))"
   ]
  },
  {
   "cell_type": "markdown",
   "metadata": {},
   "source": [
    "Our current code for loading a CSV file returns a list of lists with each value being a string (str). As you might guess, now is the time to convert the strings to a floating point number.\n",
    "\n",
    "<div class=\"alert alert-block alert-success\">\n",
    "<b>Task:</b> Create a function called <code>str_column_to_float()</code>. It takes your dataset and the index of a column as input and returns the dataset with the converted column. \n",
    "<ul>\n",
    "<li> Hint: Strip any whitespace from the value before making the conversion.\n",
    "\n",
    "</ul>\n",
    "</div>"
   ]
  },
  {
   "cell_type": "code",
   "execution_count": 6,
   "metadata": {},
   "outputs": [],
   "source": [
    "def str_column_to_float(dataset_new: List[List[Any]], column: int) -> List[List[Any]]:\n",
    "    ### STUDENT CODE HERE (1pt)\n",
    "    for row in range(len(dataset_new)):\n",
    "        dataset_new[row][column] = float(dataset_new[row][column])\n",
    "    return dataset_new\n",
    "    ### STUDENT CODE until HERE"
   ]
  },
  {
   "cell_type": "markdown",
   "metadata": {},
   "source": [
    "Now if we add this function to our previous code we can test if it is working correctly:"
   ]
  },
  {
   "cell_type": "code",
   "execution_count": 7,
   "metadata": {},
   "outputs": [
    {
     "name": "stdout",
     "output_type": "stream",
     "text": [
      "['6', '148', '72', '35', '0', '33.6', '0.627', '50', '1']\n",
      "['6', '148', '72', '35', '0', '33.6', '0.627', '50', '1']\n",
      "[6.0, 148.0, 72.0, 35.0, 0.0, 33.6, 0.627, 50.0, 1.0]\n"
     ]
    }
   ],
   "source": [
    "# To create a new instance of lists of lists\n",
    "import copy\n",
    "\n",
    "dataset_new: List[List[Any]] = copy.deepcopy(dataset)\n",
    "\n",
    "print(dataset[0])\n",
    "\n",
    "print(dataset_new[0])\n",
    "\n",
    "# convert string columns to float\n",
    "for i in range(len(dataset_new[0])):\n",
    "    dataset_new = str_column_to_float(dataset_new, i)\n",
    "\n",
    "print(dataset_new[0])"
   ]
  },
  {
   "attachments": {
    "Iris.png": {
     "image/png": "[encoded data removed]"
    }
   },
   "cell_type": "markdown",
   "metadata": {},
   "source": [
    "## 1.3 Convert String to Integers\n",
    "\n",
    "Now that you know how to convert strings to floats, we learn how to convert strings to integers. This might seem to be a little bit unnecessary, but to show you that there are cases in which you might prefer to have integers instead of strings we use a different training set.\n",
    "\n",
    "The new dataset is called \"iris.csv\". You can find it in the \"data\" folder. Also you can find more information here: http://archive.ics.uci.edu/ml/datasets/Iris\n",
    "\n",
    "If we now take a small peek into our dataset, we see that there is numeric and character data. In the final column, which is commonly reserved to hold the outcome or the predicted value for a row, is a string.\n",
    "\n",
    "![Iris.png](attachment:Iris.png)\n",
    "\n",
    "We can convert the class value to an integer by creating a \"map\" (aka. dictionary in Python). To do so, we take a closer look at the data and see that there are only the following values: \"Iris-setsosa\", \"Iris-versicolor\" and \"Iris-virginica\". The next step, is to assign each class an integer value, like: 0,1,2. In the end the value \"Iris-setsosa\" is assigned to value 0 and so on...\n",
    "\n",
    "<div class=\"alert alert-block alert-success\">\n",
    "<b>Task:</b> Create a function, which first of all extract all possible values for a given column and then assigns numbers to this column. \n",
    "<ul>\n",
    "<li> Your function takes the dataset and the column id as input and returns both the lookup table (a dict of the possible values and the corresponding integer values) and the changed dataset.\n",
    "    <li> Hint: Take a look at the build-in <code>set()</code> constructor and the <code>dict()</code> constructor for the structure of the lookup table.\n",
    "    <li> Hint2: You can use then the build-in <code>enumerate()</code> function to fill your lookup table.\n",
    "<li> Then convert the column.\n",
    "</ul>\n",
    "</div>"
   ]
  },
  {
   "cell_type": "code",
   "execution_count": 8,
   "metadata": {},
   "outputs": [],
   "source": [
    "# Convert string column to integer\n",
    "def str_column_to_int(dataset: List[List[Any]], column: int) -> Tuple[Dict[str, int], List[List[Any]]]:\n",
    "    \n",
    "    ### STUDENT CODE HERE (1pt)\n",
    "    \n",
    "    my_list=[]\n",
    "\n",
    "    for row in range(len(dataset)):\n",
    "\n",
    "        my_list.append(dataset[row][column])\n",
    "    my_list=set(my_list)\n",
    "    my_list=list(my_list)\n",
    "    lookup = {}\n",
    "    for x in range(len(my_list)):\n",
    "        lookup[my_list[x]] = x\n",
    "\n",
    "    for row in range(len(dataset)):\n",
    "        dataset[row][column]=lookup[dataset[row][column]]\n",
    "    ### STUDENT CODE until HERE\n",
    "    \n",
    "    return lookup, dataset"
   ]
  },
  {
   "cell_type": "markdown",
   "metadata": {},
   "source": [
    "At the end of this chapter, we want to use everything we learned so far and see if it works all together.\n",
    "\n",
    "<div class=\"alert alert-block alert-success\">\n",
    "<b>Task:</b> Load the Iris Data Set and convert the first three columns to floats and the last one to an integer. In the end give the lookup table, which reveals the data behind your integer column.\n",
    "\n",
    "</div>"
   ]
  },
  {
   "cell_type": "code",
   "execution_count": 9,
   "metadata": {},
   "outputs": [
    {
     "data": {
      "text/plain": [
       "({'Iris-versicolor': 0, 'Iris-virginica': 1, 'Iris-setosa': 2},\n",
       " [['5.1', '3.5', '1.4', '0.2', 2],\n",
       "  ['4.9', '3.0', '1.4', '0.2', 2],\n",
       "  ['4.7', '3.2', '1.3', '0.2', 2],\n",
       "  ['4.6', '3.1', '1.5', '0.2', 2],\n",
       "  ['5.0', '3.6', '1.4', '0.2', 2],\n",
       "  ['5.4', '3.9', '1.7', '0.4', 2],\n",
       "  ['4.6', '3.4', '1.4', '0.3', 2],\n",
       "  ['5.0', '3.4', '1.5', '0.2', 2],\n",
       "  ['4.4', '2.9', '1.4', '0.2', 2],\n",
       "  ['4.9', '3.1', '1.5', '0.1', 2],\n",
       "  ['5.4', '3.7', '1.5', '0.2', 2],\n",
       "  ['4.8', '3.4', '1.6', '0.2', 2],\n",
       "  ['4.8', '3.0', '1.4', '0.1', 2],\n",
       "  ['4.3', '3.0', '1.1', '0.1', 2],\n",
       "  ['5.8', '4.0', '1.2', '0.2', 2],\n",
       "  ['5.7', '4.4', '1.5', '0.4', 2],\n",
       "  ['5.4', '3.9', '1.3', '0.4', 2],\n",
       "  ['5.1', '3.5', '1.4', '0.3', 2],\n",
       "  ['5.7', '3.8', '1.7', '0.3', 2],\n",
       "  ['5.1', '3.8', '1.5', '0.3', 2],\n",
       "  ['5.4', '3.4', '1.7', '0.2', 2],\n",
       "  ['5.1', '3.7', '1.5', '0.4', 2],\n",
       "  ['4.6', '3.6', '1.0', '0.2', 2],\n",
       "  ['5.1', '3.3', '1.7', '0.5', 2],\n",
       "  ['4.8', '3.4', '1.9', '0.2', 2],\n",
       "  ['5.0', '3.0', '1.6', '0.2', 2],\n",
       "  ['5.0', '3.4', '1.6', '0.4', 2],\n",
       "  ['5.2', '3.5', '1.5', '0.2', 2],\n",
       "  ['5.2', '3.4', '1.4', '0.2', 2],\n",
       "  ['4.7', '3.2', '1.6', '0.2', 2],\n",
       "  ['4.8', '3.1', '1.6', '0.2', 2],\n",
       "  ['5.4', '3.4', '1.5', '0.4', 2],\n",
       "  ['5.2', '4.1', '1.5', '0.1', 2],\n",
       "  ['5.5', '4.2', '1.4', '0.2', 2],\n",
       "  ['4.9', '3.1', '1.5', '0.1', 2],\n",
       "  ['5.0', '3.2', '1.2', '0.2', 2],\n",
       "  ['5.5', '3.5', '1.3', '0.2', 2],\n",
       "  ['4.9', '3.1', '1.5', '0.1', 2],\n",
       "  ['4.4', '3.0', '1.3', '0.2', 2],\n",
       "  ['5.1', '3.4', '1.5', '0.2', 2],\n",
       "  ['5.0', '3.5', '1.3', '0.3', 2],\n",
       "  ['4.5', '2.3', '1.3', '0.3', 2],\n",
       "  ['4.4', '3.2', '1.3', '0.2', 2],\n",
       "  ['5.0', '3.5', '1.6', '0.6', 2],\n",
       "  ['5.1', '3.8', '1.9', '0.4', 2],\n",
       "  ['4.8', '3.0', '1.4', '0.3', 2],\n",
       "  ['5.1', '3.8', '1.6', '0.2', 2],\n",
       "  ['4.6', '3.2', '1.4', '0.2', 2],\n",
       "  ['5.3', '3.7', '1.5', '0.2', 2],\n",
       "  ['5.0', '3.3', '1.4', '0.2', 2],\n",
       "  ['7.0', '3.2', '4.7', '1.4', 0],\n",
       "  ['6.4', '3.2', '4.5', '1.5', 0],\n",
       "  ['6.9', '3.1', '4.9', '1.5', 0],\n",
       "  ['5.5', '2.3', '4.0', '1.3', 0],\n",
       "  ['6.5', '2.8', '4.6', '1.5', 0],\n",
       "  ['5.7', '2.8', '4.5', '1.3', 0],\n",
       "  ['6.3', '3.3', '4.7', '1.6', 0],\n",
       "  ['4.9', '2.4', '3.3', '1.0', 0],\n",
       "  ['6.6', '2.9', '4.6', '1.3', 0],\n",
       "  ['5.2', '2.7', '3.9', '1.4', 0],\n",
       "  ['5.0', '2.0', '3.5', '1.0', 0],\n",
       "  ['5.9', '3.0', '4.2', '1.5', 0],\n",
       "  ['6.0', '2.2', '4.0', '1.0', 0],\n",
       "  ['6.1', '2.9', '4.7', '1.4', 0],\n",
       "  ['5.6', '2.9', '3.6', '1.3', 0],\n",
       "  ['6.7', '3.1', '4.4', '1.4', 0],\n",
       "  ['5.6', '3.0', '4.5', '1.5', 0],\n",
       "  ['5.8', '2.7', '4.1', '1.0', 0],\n",
       "  ['6.2', '2.2', '4.5', '1.5', 0],\n",
       "  ['5.6', '2.5', '3.9', '1.1', 0],\n",
       "  ['5.9', '3.2', '4.8', '1.8', 0],\n",
       "  ['6.1', '2.8', '4.0', '1.3', 0],\n",
       "  ['6.3', '2.5', '4.9', '1.5', 0],\n",
       "  ['6.1', '2.8', '4.7', '1.2', 0],\n",
       "  ['6.4', '2.9', '4.3', '1.3', 0],\n",
       "  ['6.6', '3.0', '4.4', '1.4', 0],\n",
       "  ['6.8', '2.8', '4.8', '1.4', 0],\n",
       "  ['6.7', '3.0', '5.0', '1.7', 0],\n",
       "  ['6.0', '2.9', '4.5', '1.5', 0],\n",
       "  ['5.7', '2.6', '3.5', '1.0', 0],\n",
       "  ['5.5', '2.4', '3.8', '1.1', 0],\n",
       "  ['5.5', '2.4', '3.7', '1.0', 0],\n",
       "  ['5.8', '2.7', '3.9', '1.2', 0],\n",
       "  ['6.0', '2.7', '5.1', '1.6', 0],\n",
       "  ['5.4', '3.0', '4.5', '1.5', 0],\n",
       "  ['6.0', '3.4', '4.5', '1.6', 0],\n",
       "  ['6.7', '3.1', '4.7', '1.5', 0],\n",
       "  ['6.3', '2.3', '4.4', '1.3', 0],\n",
       "  ['5.6', '3.0', '4.1', '1.3', 0],\n",
       "  ['5.5', '2.5', '4.0', '1.3', 0],\n",
       "  ['5.5', '2.6', '4.4', '1.2', 0],\n",
       "  ['6.1', '3.0', '4.6', '1.4', 0],\n",
       "  ['5.8', '2.6', '4.0', '1.2', 0],\n",
       "  ['5.0', '2.3', '3.3', '1.0', 0],\n",
       "  ['5.6', '2.7', '4.2', '1.3', 0],\n",
       "  ['5.7', '3.0', '4.2', '1.2', 0],\n",
       "  ['5.7', '2.9', '4.2', '1.3', 0],\n",
       "  ['6.2', '2.9', '4.3', '1.3', 0],\n",
       "  ['5.1', '2.5', '3.0', '1.1', 0],\n",
       "  ['5.7', '2.8', '4.1', '1.3', 0],\n",
       "  ['6.3', '3.3', '6.0', '2.5', 1],\n",
       "  ['5.8', '2.7', '5.1', '1.9', 1],\n",
       "  ['7.1', '3.0', '5.9', '2.1', 1],\n",
       "  ['6.3', '2.9', '5.6', '1.8', 1],\n",
       "  ['6.5', '3.0', '5.8', '2.2', 1],\n",
       "  ['7.6', '3.0', '6.6', '2.1', 1],\n",
       "  ['4.9', '2.5', '4.5', '1.7', 1],\n",
       "  ['7.3', '2.9', '6.3', '1.8', 1],\n",
       "  ['6.7', '2.5', '5.8', '1.8', 1],\n",
       "  ['7.2', '3.6', '6.1', '2.5', 1],\n",
       "  ['6.5', '3.2', '5.1', '2.0', 1],\n",
       "  ['6.4', '2.7', '5.3', '1.9', 1],\n",
       "  ['6.8', '3.0', '5.5', '2.1', 1],\n",
       "  ['5.7', '2.5', '5.0', '2.0', 1],\n",
       "  ['5.8', '2.8', '5.1', '2.4', 1],\n",
       "  ['6.4', '3.2', '5.3', '2.3', 1],\n",
       "  ['6.5', '3.0', '5.5', '1.8', 1],\n",
       "  ['7.7', '3.8', '6.7', '2.2', 1],\n",
       "  ['7.7', '2.6', '6.9', '2.3', 1],\n",
       "  ['6.0', '2.2', '5.0', '1.5', 1],\n",
       "  ['6.9', '3.2', '5.7', '2.3', 1],\n",
       "  ['5.6', '2.8', '4.9', '2.0', 1],\n",
       "  ['7.7', '2.8', '6.7', '2.0', 1],\n",
       "  ['6.3', '2.7', '4.9', '1.8', 1],\n",
       "  ['6.7', '3.3', '5.7', '2.1', 1],\n",
       "  ['7.2', '3.2', '6.0', '1.8', 1],\n",
       "  ['6.2', '2.8', '4.8', '1.8', 1],\n",
       "  ['6.1', '3.0', '4.9', '1.8', 1],\n",
       "  ['6.4', '2.8', '5.6', '2.1', 1],\n",
       "  ['7.2', '3.0', '5.8', '1.6', 1],\n",
       "  ['7.4', '2.8', '6.1', '1.9', 1],\n",
       "  ['7.9', '3.8', '6.4', '2.0', 1],\n",
       "  ['6.4', '2.8', '5.6', '2.2', 1],\n",
       "  ['6.3', '2.8', '5.1', '1.5', 1],\n",
       "  ['6.1', '2.6', '5.6', '1.4', 1],\n",
       "  ['7.7', '3.0', '6.1', '2.3', 1],\n",
       "  ['6.3', '3.4', '5.6', '2.4', 1],\n",
       "  ['6.4', '3.1', '5.5', '1.8', 1],\n",
       "  ['6.0', '3.0', '4.8', '1.8', 1],\n",
       "  ['6.9', '3.1', '5.4', '2.1', 1],\n",
       "  ['6.7', '3.1', '5.6', '2.4', 1],\n",
       "  ['6.9', '3.1', '5.1', '2.3', 1],\n",
       "  ['5.8', '2.7', '5.1', '1.9', 1],\n",
       "  ['6.8', '3.2', '5.9', '2.3', 1],\n",
       "  ['6.7', '3.3', '5.7', '2.5', 1],\n",
       "  ['6.7', '3.0', '5.2', '2.3', 1],\n",
       "  ['6.3', '2.5', '5.0', '1.9', 1],\n",
       "  ['6.5', '3.0', '5.2', '2.0', 1],\n",
       "  ['6.2', '3.4', '5.4', '2.3', 1],\n",
       "  ['5.9', '3.0', '5.1', '1.8', 1]])"
      ]
     },
     "execution_count": 9,
     "metadata": {},
     "output_type": "execute_result"
    }
   ],
   "source": [
    "# Load iris dataset\n",
    "filename = 'data/iris.csv'\n",
    "\n",
    "### STUDENT CODE HERE (1pt)\n",
    "dataset=load_csv(filename)\n",
    "str_column_to_int(dataset,-1)\n",
    "### STUDENT CODE until HERE"
   ]
  },
  {
   "cell_type": "markdown",
   "metadata": {},
   "source": [
    "## 1.4 Further information on CSV files\n",
    "\n",
    "Before you load your data, you want to get a glimpse behind the curtain, to see the shape of your data. It is important to check your dataset for the following points.\n",
    "\n",
    "Does your dataset have file headers? This might be useful to automatically assign attributes/features to each column of data. If not, you might want to consider to name your attributes manually. \n",
    "\n",
    "In the next step you should check your data for comments. These are indicated in CSV-files with a # at the start of a line. It depends on the method with witch you load your dataset, but you might need to indicate, that there might occur some comments in your data.\n",
    "\n",
    "If your data does use a tab or white space instead of a comma you should also specify this explicitly. Moreover in some CSV files values are quoted with the double quotation mark character (e.g. if your data itself contains commas). If your file differs from that, you also should specify the quote character used in your data.\n",
    "\n",
    "Please have a look at the following code and take a look at the parameters, which are passed to the `csv.reader()` call."
   ]
  },
  {
   "cell_type": "code",
   "execution_count": 10,
   "metadata": {},
   "outputs": [
    {
     "name": "stdout",
     "output_type": "stream",
     "text": [
      "780\n",
      "9\n",
      "['6', '148', '72', '35', '0', '33.6', '0.627', '50', '1']\n"
     ]
    }
   ],
   "source": [
    "# Load CSV Using Python Standard Library\n",
    "import csv\n",
    "\n",
    "filename = 'data/pima-indians-diabetes.csv'\n",
    "\n",
    "with open(filename, 'rt') as raw_data:\n",
    "    reader = csv.reader(raw_data, delimiter=',', quoting=csv.QUOTE_NONE)\n",
    "\n",
    "    rows: List[List[str]] = list(reader)\n",
    "print(len(rows))\n",
    "print(len(rows[0]))\n",
    "print(rows[0])\n"
   ]
  },
  {
   "cell_type": "markdown",
   "metadata": {},
   "source": [
    "<div class=\"alert alert-block alert-success\">\n",
    "<b>Question (2pts):</b> What can you notice if you load your data like this? Think about the type and size of the loaded dataset with respect to the functions you had to program above.\n",
    "</div>\n",
    "\n",
    "<div class=\"alert alert-block alert-success\">\n",
    "<b>Answer:</b> empty rows are not skipped and all values are loaded as strings </div>"
   ]
  },
  {
   "cell_type": "markdown",
   "metadata": {},
   "source": [
    "## 1.5 Load CSV-Files with Pandas\n",
    "\n",
    "In order to load CSV-files in an efficient way in many cases you want to use the `pandas` python package using the function `pandas.read_csv()` (https://pandas.pydata.org/pandas-docs/stable/reference/api/pandas.read_csv.html#pandas.read_csv). This function is very flexible and returns a pandas dataframe object, which you can use for summarizing and plotting directly.\n",
    "\n",
    "Please have a look at the following code to see how pandas can be used to read data. Please note, that the `read_csv()` function is able to also take the column \"names\". "
   ]
  },
  {
   "cell_type": "code",
   "execution_count": 11,
   "metadata": {},
   "outputs": [
    {
     "name": "stdout",
     "output_type": "stream",
     "text": [
      "<class 'pandas.core.frame.DataFrame'>\n"
     ]
    },
    {
     "data": {
      "text/html": [
       "<div>\n",
       "<style scoped>\n",
       "    .dataframe tbody tr th:only-of-type {\n",
       "        vertical-align: middle;\n",
       "    }\n",
       "\n",
       "    .dataframe tbody tr th {\n",
       "        vertical-align: top;\n",
       "    }\n",
       "\n",
       "    .dataframe thead th {\n",
       "        text-align: right;\n",
       "    }\n",
       "</style>\n",
       "<table border=\"1\" class=\"dataframe\">\n",
       "  <thead>\n",
       "    <tr style=\"text-align: right;\">\n",
       "      <th></th>\n",
       "      <th>preg</th>\n",
       "      <th>plas</th>\n",
       "      <th>pres</th>\n",
       "      <th>skin</th>\n",
       "      <th>test</th>\n",
       "      <th>mass</th>\n",
       "      <th>pedi</th>\n",
       "      <th>age</th>\n",
       "      <th>class</th>\n",
       "    </tr>\n",
       "  </thead>\n",
       "  <tbody>\n",
       "    <tr>\n",
       "      <th>0</th>\n",
       "      <td>6</td>\n",
       "      <td>148</td>\n",
       "      <td>72</td>\n",
       "      <td>35</td>\n",
       "      <td>0</td>\n",
       "      <td>33.6</td>\n",
       "      <td>0.627</td>\n",
       "      <td>50</td>\n",
       "      <td>1</td>\n",
       "    </tr>\n",
       "    <tr>\n",
       "      <th>1</th>\n",
       "      <td>1</td>\n",
       "      <td>85</td>\n",
       "      <td>66</td>\n",
       "      <td>29</td>\n",
       "      <td>0</td>\n",
       "      <td>26.6</td>\n",
       "      <td>0.351</td>\n",
       "      <td>31</td>\n",
       "      <td>0</td>\n",
       "    </tr>\n",
       "    <tr>\n",
       "      <th>2</th>\n",
       "      <td>8</td>\n",
       "      <td>183</td>\n",
       "      <td>64</td>\n",
       "      <td>0</td>\n",
       "      <td>0</td>\n",
       "      <td>23.3</td>\n",
       "      <td>0.672</td>\n",
       "      <td>32</td>\n",
       "      <td>1</td>\n",
       "    </tr>\n",
       "    <tr>\n",
       "      <th>3</th>\n",
       "      <td>1</td>\n",
       "      <td>89</td>\n",
       "      <td>66</td>\n",
       "      <td>23</td>\n",
       "      <td>94</td>\n",
       "      <td>28.1</td>\n",
       "      <td>0.167</td>\n",
       "      <td>21</td>\n",
       "      <td>0</td>\n",
       "    </tr>\n",
       "    <tr>\n",
       "      <th>4</th>\n",
       "      <td>0</td>\n",
       "      <td>137</td>\n",
       "      <td>40</td>\n",
       "      <td>35</td>\n",
       "      <td>168</td>\n",
       "      <td>43.1</td>\n",
       "      <td>2.288</td>\n",
       "      <td>33</td>\n",
       "      <td>1</td>\n",
       "    </tr>\n",
       "    <tr>\n",
       "      <th>...</th>\n",
       "      <td>...</td>\n",
       "      <td>...</td>\n",
       "      <td>...</td>\n",
       "      <td>...</td>\n",
       "      <td>...</td>\n",
       "      <td>...</td>\n",
       "      <td>...</td>\n",
       "      <td>...</td>\n",
       "      <td>...</td>\n",
       "    </tr>\n",
       "    <tr>\n",
       "      <th>763</th>\n",
       "      <td>10</td>\n",
       "      <td>101</td>\n",
       "      <td>76</td>\n",
       "      <td>48</td>\n",
       "      <td>180</td>\n",
       "      <td>32.9</td>\n",
       "      <td>0.171</td>\n",
       "      <td>63</td>\n",
       "      <td>0</td>\n",
       "    </tr>\n",
       "    <tr>\n",
       "      <th>764</th>\n",
       "      <td>2</td>\n",
       "      <td>122</td>\n",
       "      <td>70</td>\n",
       "      <td>27</td>\n",
       "      <td>0</td>\n",
       "      <td>36.8</td>\n",
       "      <td>0.340</td>\n",
       "      <td>27</td>\n",
       "      <td>0</td>\n",
       "    </tr>\n",
       "    <tr>\n",
       "      <th>765</th>\n",
       "      <td>5</td>\n",
       "      <td>121</td>\n",
       "      <td>72</td>\n",
       "      <td>23</td>\n",
       "      <td>112</td>\n",
       "      <td>26.2</td>\n",
       "      <td>0.245</td>\n",
       "      <td>30</td>\n",
       "      <td>0</td>\n",
       "    </tr>\n",
       "    <tr>\n",
       "      <th>766</th>\n",
       "      <td>1</td>\n",
       "      <td>126</td>\n",
       "      <td>60</td>\n",
       "      <td>0</td>\n",
       "      <td>0</td>\n",
       "      <td>30.1</td>\n",
       "      <td>0.349</td>\n",
       "      <td>47</td>\n",
       "      <td>1</td>\n",
       "    </tr>\n",
       "    <tr>\n",
       "      <th>767</th>\n",
       "      <td>1</td>\n",
       "      <td>93</td>\n",
       "      <td>70</td>\n",
       "      <td>31</td>\n",
       "      <td>0</td>\n",
       "      <td>30.4</td>\n",
       "      <td>0.315</td>\n",
       "      <td>23</td>\n",
       "      <td>0</td>\n",
       "    </tr>\n",
       "  </tbody>\n",
       "</table>\n",
       "<p>768 rows × 9 columns</p>\n",
       "</div>"
      ],
      "text/plain": [
       "     preg  plas  pres  skin  test  mass   pedi  age  class\n",
       "0       6   148    72    35     0  33.6  0.627   50      1\n",
       "1       1    85    66    29     0  26.6  0.351   31      0\n",
       "2       8   183    64     0     0  23.3  0.672   32      1\n",
       "3       1    89    66    23    94  28.1  0.167   21      0\n",
       "4       0   137    40    35   168  43.1  2.288   33      1\n",
       "..    ...   ...   ...   ...   ...   ...    ...  ...    ...\n",
       "763    10   101    76    48   180  32.9  0.171   63      0\n",
       "764     2   122    70    27     0  36.8  0.340   27      0\n",
       "765     5   121    72    23   112  26.2  0.245   30      0\n",
       "766     1   126    60     0     0  30.1  0.349   47      1\n",
       "767     1    93    70    31     0  30.4  0.315   23      0\n",
       "\n",
       "[768 rows x 9 columns]"
      ]
     },
     "execution_count": 11,
     "metadata": {},
     "output_type": "execute_result"
    }
   ],
   "source": [
    "from pandas import read_csv\n",
    "import pandas as pd\n",
    "\n",
    "filename = 'data/pima-indians-diabetes.csv'\n",
    "\n",
    "names = ['preg', 'plas', 'pres', 'skin', 'test', 'mass', 'pedi', 'age', 'class']\n",
    "data: pd.DataFrame = read_csv(filename, names=names)\n",
    "print(type(data)) # Get the columns and rows. Format:(rows, cols)\n",
    "data"
   ]
  },
  {
   "cell_type": "markdown",
   "metadata": {},
   "source": [
    "<div class=\"alert alert-block alert-success\">\n",
    "<b>Question (2pts):</b> What can you notice if you load your data like this? Think about the type and size of the loaded dataset with respect to the functions you had to program above.\n",
    "</div>\n",
    "\n",
    "<div class=\"alert alert-block alert-success\">\n",
    "<b>Answer:</b> empty rows get skipped and the values get transformed automatically </div>"
   ]
  },
  {
   "cell_type": "markdown",
   "metadata": {},
   "source": [
    "# 2 Understand Your Data\n",
    "\n",
    "Now that you know how to load your data we want to give you some tools on how to get a quick overview over your data so you can decide how you can get the most out of it. \n",
    " \n",
    "You can either take a look at the data by opening it, or you can use the pandas package, which offers you a function to give you a peek into the raw data. To do so use the `.head()` function. \n",
    "\n",
    "\n",
    "<div class=\"alert alert-block alert-success\">\n",
    "<b>Task:</b> Write a piece of code, which shows you the first 20 rows of your data. For this you can directly use the data object from above.\n",
    "\n",
    "</div>"
   ]
  },
  {
   "cell_type": "code",
   "execution_count": 12,
   "metadata": {},
   "outputs": [
    {
     "data": {
      "text/html": [
       "<div>\n",
       "<style scoped>\n",
       "    .dataframe tbody tr th:only-of-type {\n",
       "        vertical-align: middle;\n",
       "    }\n",
       "\n",
       "    .dataframe tbody tr th {\n",
       "        vertical-align: top;\n",
       "    }\n",
       "\n",
       "    .dataframe thead th {\n",
       "        text-align: right;\n",
       "    }\n",
       "</style>\n",
       "<table border=\"1\" class=\"dataframe\">\n",
       "  <thead>\n",
       "    <tr style=\"text-align: right;\">\n",
       "      <th></th>\n",
       "      <th>preg</th>\n",
       "      <th>plas</th>\n",
       "      <th>pres</th>\n",
       "      <th>skin</th>\n",
       "      <th>test</th>\n",
       "      <th>mass</th>\n",
       "      <th>pedi</th>\n",
       "      <th>age</th>\n",
       "      <th>class</th>\n",
       "    </tr>\n",
       "  </thead>\n",
       "  <tbody>\n",
       "    <tr>\n",
       "      <th>0</th>\n",
       "      <td>6</td>\n",
       "      <td>148</td>\n",
       "      <td>72</td>\n",
       "      <td>35</td>\n",
       "      <td>0</td>\n",
       "      <td>33.6</td>\n",
       "      <td>0.627</td>\n",
       "      <td>50</td>\n",
       "      <td>1</td>\n",
       "    </tr>\n",
       "    <tr>\n",
       "      <th>1</th>\n",
       "      <td>1</td>\n",
       "      <td>85</td>\n",
       "      <td>66</td>\n",
       "      <td>29</td>\n",
       "      <td>0</td>\n",
       "      <td>26.6</td>\n",
       "      <td>0.351</td>\n",
       "      <td>31</td>\n",
       "      <td>0</td>\n",
       "    </tr>\n",
       "    <tr>\n",
       "      <th>2</th>\n",
       "      <td>8</td>\n",
       "      <td>183</td>\n",
       "      <td>64</td>\n",
       "      <td>0</td>\n",
       "      <td>0</td>\n",
       "      <td>23.3</td>\n",
       "      <td>0.672</td>\n",
       "      <td>32</td>\n",
       "      <td>1</td>\n",
       "    </tr>\n",
       "    <tr>\n",
       "      <th>3</th>\n",
       "      <td>1</td>\n",
       "      <td>89</td>\n",
       "      <td>66</td>\n",
       "      <td>23</td>\n",
       "      <td>94</td>\n",
       "      <td>28.1</td>\n",
       "      <td>0.167</td>\n",
       "      <td>21</td>\n",
       "      <td>0</td>\n",
       "    </tr>\n",
       "    <tr>\n",
       "      <th>4</th>\n",
       "      <td>0</td>\n",
       "      <td>137</td>\n",
       "      <td>40</td>\n",
       "      <td>35</td>\n",
       "      <td>168</td>\n",
       "      <td>43.1</td>\n",
       "      <td>2.288</td>\n",
       "      <td>33</td>\n",
       "      <td>1</td>\n",
       "    </tr>\n",
       "    <tr>\n",
       "      <th>5</th>\n",
       "      <td>5</td>\n",
       "      <td>116</td>\n",
       "      <td>74</td>\n",
       "      <td>0</td>\n",
       "      <td>0</td>\n",
       "      <td>25.6</td>\n",
       "      <td>0.201</td>\n",
       "      <td>30</td>\n",
       "      <td>0</td>\n",
       "    </tr>\n",
       "    <tr>\n",
       "      <th>6</th>\n",
       "      <td>3</td>\n",
       "      <td>78</td>\n",
       "      <td>50</td>\n",
       "      <td>32</td>\n",
       "      <td>88</td>\n",
       "      <td>31.0</td>\n",
       "      <td>0.248</td>\n",
       "      <td>26</td>\n",
       "      <td>1</td>\n",
       "    </tr>\n",
       "    <tr>\n",
       "      <th>7</th>\n",
       "      <td>10</td>\n",
       "      <td>115</td>\n",
       "      <td>0</td>\n",
       "      <td>0</td>\n",
       "      <td>0</td>\n",
       "      <td>35.3</td>\n",
       "      <td>0.134</td>\n",
       "      <td>29</td>\n",
       "      <td>0</td>\n",
       "    </tr>\n",
       "    <tr>\n",
       "      <th>8</th>\n",
       "      <td>2</td>\n",
       "      <td>197</td>\n",
       "      <td>70</td>\n",
       "      <td>45</td>\n",
       "      <td>543</td>\n",
       "      <td>30.5</td>\n",
       "      <td>0.158</td>\n",
       "      <td>53</td>\n",
       "      <td>1</td>\n",
       "    </tr>\n",
       "    <tr>\n",
       "      <th>9</th>\n",
       "      <td>8</td>\n",
       "      <td>125</td>\n",
       "      <td>96</td>\n",
       "      <td>0</td>\n",
       "      <td>0</td>\n",
       "      <td>0.0</td>\n",
       "      <td>0.232</td>\n",
       "      <td>54</td>\n",
       "      <td>1</td>\n",
       "    </tr>\n",
       "    <tr>\n",
       "      <th>10</th>\n",
       "      <td>4</td>\n",
       "      <td>110</td>\n",
       "      <td>92</td>\n",
       "      <td>0</td>\n",
       "      <td>0</td>\n",
       "      <td>37.6</td>\n",
       "      <td>0.191</td>\n",
       "      <td>30</td>\n",
       "      <td>0</td>\n",
       "    </tr>\n",
       "    <tr>\n",
       "      <th>11</th>\n",
       "      <td>10</td>\n",
       "      <td>168</td>\n",
       "      <td>74</td>\n",
       "      <td>0</td>\n",
       "      <td>0</td>\n",
       "      <td>38.0</td>\n",
       "      <td>0.537</td>\n",
       "      <td>34</td>\n",
       "      <td>1</td>\n",
       "    </tr>\n",
       "    <tr>\n",
       "      <th>12</th>\n",
       "      <td>10</td>\n",
       "      <td>139</td>\n",
       "      <td>80</td>\n",
       "      <td>0</td>\n",
       "      <td>0</td>\n",
       "      <td>27.1</td>\n",
       "      <td>1.441</td>\n",
       "      <td>57</td>\n",
       "      <td>0</td>\n",
       "    </tr>\n",
       "    <tr>\n",
       "      <th>13</th>\n",
       "      <td>1</td>\n",
       "      <td>189</td>\n",
       "      <td>60</td>\n",
       "      <td>23</td>\n",
       "      <td>846</td>\n",
       "      <td>30.1</td>\n",
       "      <td>0.398</td>\n",
       "      <td>59</td>\n",
       "      <td>1</td>\n",
       "    </tr>\n",
       "    <tr>\n",
       "      <th>14</th>\n",
       "      <td>5</td>\n",
       "      <td>166</td>\n",
       "      <td>72</td>\n",
       "      <td>19</td>\n",
       "      <td>175</td>\n",
       "      <td>25.8</td>\n",
       "      <td>0.587</td>\n",
       "      <td>51</td>\n",
       "      <td>1</td>\n",
       "    </tr>\n",
       "    <tr>\n",
       "      <th>15</th>\n",
       "      <td>7</td>\n",
       "      <td>100</td>\n",
       "      <td>0</td>\n",
       "      <td>0</td>\n",
       "      <td>0</td>\n",
       "      <td>30.0</td>\n",
       "      <td>0.484</td>\n",
       "      <td>32</td>\n",
       "      <td>1</td>\n",
       "    </tr>\n",
       "    <tr>\n",
       "      <th>16</th>\n",
       "      <td>0</td>\n",
       "      <td>118</td>\n",
       "      <td>84</td>\n",
       "      <td>47</td>\n",
       "      <td>230</td>\n",
       "      <td>45.8</td>\n",
       "      <td>0.551</td>\n",
       "      <td>31</td>\n",
       "      <td>1</td>\n",
       "    </tr>\n",
       "    <tr>\n",
       "      <th>17</th>\n",
       "      <td>7</td>\n",
       "      <td>107</td>\n",
       "      <td>74</td>\n",
       "      <td>0</td>\n",
       "      <td>0</td>\n",
       "      <td>29.6</td>\n",
       "      <td>0.254</td>\n",
       "      <td>31</td>\n",
       "      <td>1</td>\n",
       "    </tr>\n",
       "    <tr>\n",
       "      <th>18</th>\n",
       "      <td>1</td>\n",
       "      <td>103</td>\n",
       "      <td>30</td>\n",
       "      <td>38</td>\n",
       "      <td>83</td>\n",
       "      <td>43.3</td>\n",
       "      <td>0.183</td>\n",
       "      <td>33</td>\n",
       "      <td>0</td>\n",
       "    </tr>\n",
       "    <tr>\n",
       "      <th>19</th>\n",
       "      <td>1</td>\n",
       "      <td>115</td>\n",
       "      <td>70</td>\n",
       "      <td>30</td>\n",
       "      <td>96</td>\n",
       "      <td>34.6</td>\n",
       "      <td>0.529</td>\n",
       "      <td>32</td>\n",
       "      <td>1</td>\n",
       "    </tr>\n",
       "  </tbody>\n",
       "</table>\n",
       "</div>"
      ],
      "text/plain": [
       "    preg  plas  pres  skin  test  mass   pedi  age  class\n",
       "0      6   148    72    35     0  33.6  0.627   50      1\n",
       "1      1    85    66    29     0  26.6  0.351   31      0\n",
       "2      8   183    64     0     0  23.3  0.672   32      1\n",
       "3      1    89    66    23    94  28.1  0.167   21      0\n",
       "4      0   137    40    35   168  43.1  2.288   33      1\n",
       "5      5   116    74     0     0  25.6  0.201   30      0\n",
       "6      3    78    50    32    88  31.0  0.248   26      1\n",
       "7     10   115     0     0     0  35.3  0.134   29      0\n",
       "8      2   197    70    45   543  30.5  0.158   53      1\n",
       "9      8   125    96     0     0   0.0  0.232   54      1\n",
       "10     4   110    92     0     0  37.6  0.191   30      0\n",
       "11    10   168    74     0     0  38.0  0.537   34      1\n",
       "12    10   139    80     0     0  27.1  1.441   57      0\n",
       "13     1   189    60    23   846  30.1  0.398   59      1\n",
       "14     5   166    72    19   175  25.8  0.587   51      1\n",
       "15     7   100     0     0     0  30.0  0.484   32      1\n",
       "16     0   118    84    47   230  45.8  0.551   31      1\n",
       "17     7   107    74     0     0  29.6  0.254   31      1\n",
       "18     1   103    30    38    83  43.3  0.183   33      0\n",
       "19     1   115    70    30    96  34.6  0.529   32      1"
      ]
     },
     "execution_count": 12,
     "metadata": {},
     "output_type": "execute_result"
    }
   ],
   "source": [
    "\n",
    "\n",
    "### STUDENT CODE HERE (1pt)\n",
    "data.head(20)\n",
    "### STUDENT CODE until HERE"
   ]
  },
  {
   "cell_type": "markdown",
   "metadata": {},
   "source": [
    "<div class=\"alert alert-block alert-success\">\n",
    "<b>Question (1pts):</b> What do the different abbreviated features (preg, plas etc.) in your dataset stand for?\n",
    "</div>\n",
    "\n",
    "<div class=\"alert alert-block alert-info\">\n",
    "<b>Note:</b> The origin of your dataset - https://www.kaggle.com/uciml/pima-indians-diabetes-database\n",
    "</div>\n",
    "    \n",
    "<div class=\"alert alert-block alert-success\">\n",
    "<b>Answer: preg -> pregnancies, plas -> Plasma glucose concentration, pres -> Bloodpressure, skin -> skinnthickness, test -> insulin level, mass -> BMI, pedi -> Diabetes pedigree, age -> age(years), class -> outcome,diabetes or not(0 or 1)  </b></div>"
   ]
  },
  {
   "cell_type": "markdown",
   "metadata": {},
   "source": [
    "In the first chapter you learned how to convert different data types. But before you can convert different datatypes you have to know which datatypes you are currently working on. The `.dtypes` attribute from the pandas tells you the datatype of each column."
   ]
  },
  {
   "cell_type": "code",
   "execution_count": 13,
   "metadata": {},
   "outputs": [
    {
     "data": {
      "text/plain": [
       "preg       int64\n",
       "plas       int64\n",
       "pres       int64\n",
       "skin       int64\n",
       "test       int64\n",
       "mass     float64\n",
       "pedi     float64\n",
       "age        int64\n",
       "class      int64\n",
       "dtype: object"
      ]
     },
     "execution_count": 13,
     "metadata": {},
     "output_type": "execute_result"
    }
   ],
   "source": [
    "data.dtypes"
   ]
  },
  {
   "cell_type": "markdown",
   "metadata": {},
   "source": [
    "## 2.1 Descriptive Statistics\n",
    "\n",
    "Now that we have the big picture in terms of its shape, the first lines and the datatypes of our raw data, we might also want to gain information about their attributes. The question here is what is hidden behind the different values. This also gives you the ability to estimate whether your algorithm is working correctly in the end.\n",
    "\n",
    "The `.describe()` method lists 8 statistical properties of each attribute:\n",
    "\n",
    "_count, mean, Standard Deviation, Minimum Value, 25th Percentile, 50th Percentile (Median), 75 Percentile and Maximum Value_\n",
    "\n",
    "<div class=\"alert alert-block alert-success\">\n",
    "<b>Task:</b> Use the describe function on the diabetes dataset. \n",
    "<ul>\n",
    "    <li> Hint: Use the <code>set_option()</code> function from pandas to set the output to a reasonable precision. Set one attribute by ('attribute', value)\n",
    "\n",
    "</ul>\n",
    "</div>"
   ]
  },
  {
   "cell_type": "code",
   "execution_count": 14,
   "metadata": {},
   "outputs": [
    {
     "name": "stdout",
     "output_type": "stream",
     "text": [
      "          preg     plas     pres     skin     test     mass     pedi      age  \\\n",
      "count  768.000  768.000  768.000  768.000  768.000  768.000  768.000  768.000   \n",
      "mean     3.845  120.895   69.105   20.536   79.799   31.993    0.472   33.241   \n",
      "std      3.370   31.973   19.356   15.952  115.244    7.884    0.331   11.760   \n",
      "min      0.000    0.000    0.000    0.000    0.000    0.000    0.078   21.000   \n",
      "25%      1.000   99.000   62.000    0.000    0.000   27.300    0.244   24.000   \n",
      "50%      3.000  117.000   72.000   23.000   30.500   32.000    0.372   29.000   \n",
      "75%      6.000  140.250   80.000   32.000  127.250   36.600    0.626   41.000   \n",
      "max     17.000  199.000  122.000   99.000  846.000   67.100    2.420   81.000   \n",
      "\n",
      "         class  \n",
      "count  768.000  \n",
      "mean     0.349  \n",
      "std      0.477  \n",
      "min      0.000  \n",
      "25%      0.000  \n",
      "50%      0.000  \n",
      "75%      1.000  \n",
      "max      1.000  \n"
     ]
    }
   ],
   "source": [
    "from pandas import set_option\n",
    "\n",
    "### STUDENT CODE HERE (1pt)\n",
    "pd.set_option(\"precision\", 3)\n",
    "description = data.describe()\n",
    "\n",
    "### STUDENT CODE until HERE\n",
    "\n",
    "print(description)"
   ]
  },
  {
   "cell_type": "markdown",
   "metadata": {},
   "source": [
    "## 2.2 Class Distribution\n",
    "\n",
    "Usually your data is not well balanced from the beginning on and there are more samples for one class than for another. This tends to require special handling in the data preparation. To get a quick idea of the status of your data you can sort it by one single attribute."
   ]
  },
  {
   "cell_type": "markdown",
   "metadata": {},
   "source": [
    "<div class=\"alert alert-block alert-success\">\n",
    "<b>Task:</b> Write a piece of code, which counts the elements of each class of the 'class' column.\n",
    "</div>"
   ]
  },
  {
   "cell_type": "code",
   "execution_count": 15,
   "metadata": {},
   "outputs": [
    {
     "name": "stdout",
     "output_type": "stream",
     "text": [
      "class\n",
      "0    500\n",
      "1    268\n",
      "dtype: int64\n"
     ]
    }
   ],
   "source": [
    "### STUDENT CODE HERE (1pt)\n",
    "\n",
    "\n",
    "class_counts = data.groupby(\"class\").size()\n",
    "    \n",
    "### STUDENT CODE until HERE\n",
    "\n",
    "print(class_counts)"
   ]
  },
  {
   "cell_type": "markdown",
   "metadata": {},
   "source": [
    "## 2.3 Correlations between Attributes\n",
    "\n",
    "There are attributes, which usually depend on others. This is also called correlation. A common way to calculate and also measure correlations between attributes is the _Pearson's Correlation Coefficient_. This Coefficient ranges between -1 and 1 for extreme positive or negative correlation, 0 means no correlation. The pandas function `.corr()` calculates a so called _correlation matrix_. It gives the correlation of each variable with respect to all variables. The matrix is symmetric.\n",
    "\n",
    "<div class=\"alert alert-block alert-success\">\n",
    "<b>Task/Question:</b> Use the <code>.corr()</code> method to calculate a correlation matrix and describe what you can tell from it.\n",
    "</div>\n",
    "\n",
    "\n",
    "<div class=\"alert alert-block alert-success\">\n",
    "<b>Answer:</b> some values are correlating strong with each other. For example the older you are, the more likely you have had multiple pregnancies. preg and preg have a correlation of 1 because they are the same data.\n",
    "plasma, mass and age are correlating with class to a certain extend so those could be interessting to look at. </div>"
   ]
  },
  {
   "cell_type": "code",
   "execution_count": 16,
   "metadata": {},
   "outputs": [
    {
     "name": "stdout",
     "output_type": "stream",
     "text": [
      "        preg   plas   pres   skin   test   mass   pedi    age  class\n",
      "preg   1.000  0.129  0.141 -0.082 -0.074  0.018 -0.034  0.544  0.222\n",
      "plas   0.129  1.000  0.153  0.057  0.331  0.221  0.137  0.264  0.467\n",
      "pres   0.141  0.153  1.000  0.207  0.089  0.282  0.041  0.240  0.065\n",
      "skin  -0.082  0.057  0.207  1.000  0.437  0.393  0.184 -0.114  0.075\n",
      "test  -0.074  0.331  0.089  0.437  1.000  0.198  0.185 -0.042  0.131\n",
      "mass   0.018  0.221  0.282  0.393  0.198  1.000  0.141  0.036  0.293\n",
      "pedi  -0.034  0.137  0.041  0.184  0.185  0.141  1.000  0.034  0.174\n",
      "age    0.544  0.264  0.240 -0.114 -0.042  0.036  0.034  1.000  0.238\n",
      "class  0.222  0.467  0.065  0.075  0.131  0.293  0.174  0.238  1.000\n"
     ]
    }
   ],
   "source": [
    "### STUDENT CODE HERE (1pt)\n",
    "correlations=data.corr()\n",
    "### STUDENT CODE until HERE\n",
    "\n",
    "print(correlations)"
   ]
  },
  {
   "cell_type": "markdown",
   "metadata": {},
   "source": [
    "# 3 Understand Your Data With Visualization\n",
    "\n",
    "In the last chapter we learned how to get a good insight and overview about our data. But in cases in which our data gets higher dimensional, we can't merely overlook those with numbers, we might need some visualization. In this chapter we will basically treat the same methods, but this time we will visualize them."
   ]
  },
  {
   "cell_type": "markdown",
   "metadata": {},
   "source": [
    "## 3.1 Histograms\n",
    "\n",
    "To get an idea of the distribution of an attribute you can take a look at a histogram. From the shape of the histogram you can get a quick idea if an attribute is normal distributed or if there is a skew in it.\n",
    "\n",
    "Histograms divide the data into its attributes. One histogram represents the attributes' values by counting their appearance in the dataset.\n",
    "\n",
    "To generate histograms we can use a new library: `matplotlib`."
   ]
  },
  {
   "cell_type": "markdown",
   "metadata": {},
   "source": [
    "<div class=\"alert alert-block alert-success\">\n",
    "<b>Task:</b> Generate 9 histograms for each feature in our diabetes dataset. \n",
    "<ul>\n",
    "    <li> Hint1: You can either use matplotlib on all features or simply use pandas <code>.hist()</code> method, which uses matplotlib to create one histogram per column. \n",
    "\n",
    "    <li> Hint2: Take a look at the matplotlib function <code>tight_layout()</code> and <code>show()</code>. \n",
    "</ul>\n",
    "</div>"
   ]
  },
  {
   "cell_type": "code",
   "execution_count": 34,
   "metadata": {},
   "outputs": [
    {
     "data": {
      "image/png": "[encoded data removed]",
      "text/plain": [
       "<Figure size 432x288 with 9 Axes>"
      ]
     },
     "metadata": {
      "needs_background": "light"
     },
     "output_type": "display_data"
    }
   ],
   "source": [
    "import matplotlib.pyplot as plt\n",
    "\n",
    "### STUDENT CODE HERE (1pt)\n",
    "data.hist(bins=20)\n",
    "plt.tight_layout()\n",
    "plt.show()\n",
    "### STUDENT CODE until HERE"
   ]
  },
  {
   "cell_type": "markdown",
   "metadata": {},
   "source": [
    "<div class=\"alert alert-block alert-success\">\n",
    "<b>Question (2pts):</b>What can you tell from the histograms. Do they match the findings from the previous chapter? \n",
    "</div>\n",
    "\n",
    "<div class=\"alert alert-block alert-success\">\n",
    "<b>Answer:you can see that most participants in this study are under 25 years. plas pres and mass are normal distributed. Skin and test have many values at 0 so that has to be taken into account later on. For class there are only 2 values so the visualisation in a histogram is not that usefull. </b></div>"
   ]
  },
  {
   "cell_type": "markdown",
   "metadata": {},
   "source": [
    "## 3.2 Density Plots\n",
    "\n",
    "In general a density plot works similar to a histogram. It gives you a smoother shape, since it is not limited by the occurence of values of an attribute."
   ]
  },
  {
   "cell_type": "markdown",
   "metadata": {},
   "source": [
    "<div class=\"alert alert-block alert-success\">\n",
    "<b>Task:</b> Find out how to draw a density plot and generate one for each feature. You might use implemented methods from pandas.\n",
    "</div>"
   ]
  },
  {
   "cell_type": "code",
   "execution_count": 62,
   "metadata": {},
   "outputs": [
    {
     "data": {
      "image/png": "[encoded data removed]",
      "text/plain": [
       "<Figure size 432x288 with 1 Axes>"
      ]
     },
     "metadata": {
      "needs_background": "light"
     },
     "output_type": "display_data"
    },
    {
     "data": {
      "image/png": "[encoded data removed]",
      "text/plain": [
       "<Figure size 432x288 with 1 Axes>"
      ]
     },
     "metadata": {
      "needs_background": "light"
     },
     "output_type": "display_data"
    },
    {
     "data": {
      "image/png": "[encoded data removed]",
      "text/plain": [
       "<Figure size 432x288 with 1 Axes>"
      ]
     },
     "metadata": {
      "needs_background": "light"
     },
     "output_type": "display_data"
    },
    {
     "data": {
      "image/png": "[encoded data removed]",
      "text/plain": [
       "<Figure size 432x288 with 1 Axes>"
      ]
     },
     "metadata": {
      "needs_background": "light"
     },
     "output_type": "display_data"
    },
    {
     "data": {
      "image/png": "[encoded data removed]",
      "text/plain": [
       "<Figure size 432x288 with 1 Axes>"
      ]
     },
     "metadata": {
      "needs_background": "light"
     },
     "output_type": "display_data"
    },
    {
     "data": {
      "image/png": "[encoded data removed]",
      "text/plain": [
       "<Figure size 432x288 with 1 Axes>"
      ]
     },
     "metadata": {
      "needs_background": "light"
     },
     "output_type": "display_data"
    },
    {
     "data": {
      "image/png": "[encoded data removed]",
      "text/plain": [
       "<Figure size 432x288 with 1 Axes>"
      ]
     },
     "metadata": {
      "needs_background": "light"
     },
     "output_type": "display_data"
    },
    {
     "data": {
      "image/png": "[encoded data removed]",
      "text/plain": [
       "<Figure size 432x288 with 1 Axes>"
      ]
     },
     "metadata": {
      "needs_background": "light"
     },
     "output_type": "display_data"
    },
    {
     "data": {
      "image/png": "[encoded data removed]",
      "text/plain": [
       "<Figure size 432x288 with 1 Axes>"
      ]
     },
     "metadata": {
      "needs_background": "light"
     },
     "output_type": "display_data"
    }
   ],
   "source": [
    "### STUDENT CODE HERE (1pt)\n",
    "for i in range(len(data.columns)):\n",
    "    data.iloc[:, i].plot.kde()\n",
    "    plt.show()\n",
    "### STUDENT CODE until HERE\n",
    "\n"
   ]
  },
  {
   "cell_type": "markdown",
   "metadata": {},
   "source": [
    "## 3.3 Box and Whisker Plots\n",
    "\n",
    "Another way to visualize your data are so called _boxplots_. These look kind of unfamiliar at the first look. One boxplot shows a line for the median in a box. Moreover the 25th percentile and the 75th percentile are displayed as well. Another line shows the overall range of values (https://en.wikipedia.org/wiki/Box_plot ). \n",
    "\n",
    "The whiskers visualize the spread of the data and the dots symbolize the data values, which are 1.5 greater than the size of the middle 50% of the data."
   ]
  },
  {
   "cell_type": "markdown",
   "metadata": {},
   "source": [
    "\n",
    "\n",
    "<div class=\"alert alert-block alert-success\">\n",
    "<b>Task:</b> Use box plots to visualize each feature. You might use implemented methods from pandas.\n",
    "</div>"
   ]
  },
  {
   "cell_type": "code",
   "execution_count": 63,
   "metadata": {
    "scrolled": true
   },
   "outputs": [
    {
     "data": {
      "text/plain": [
       "<matplotlib.axes._subplots.AxesSubplot at 0x1b1c8137c88>"
      ]
     },
     "execution_count": 63,
     "metadata": {},
     "output_type": "execute_result"
    },
    {
     "data": {
      "image/png": "[encoded data removed]",
      "text/plain": [
       "<Figure size 432x288 with 1 Axes>"
      ]
     },
     "metadata": {
      "needs_background": "light"
     },
     "output_type": "display_data"
    }
   ],
   "source": [
    "### STUDENT CODE HERE (1pt)\n",
    "\n",
    "data.boxplot(names)\n",
    "\n",
    "### STUDENT CODE until HERE"
   ]
  },
  {
   "cell_type": "markdown",
   "metadata": {},
   "source": [
    "## 3.4 Multivariate plots\n",
    "\n",
    "### 3.4.1 Correlation Matrix plot\n",
    "\n",
    "As we mentioned in chapter 2, the correlation describes the relationship between two variables. If you have already calculated the correlation matrix you can move on by visualizing it. This is useful to get a quick overview to analyze the correlation between all attributes. Moreover, it is important to spot highly correlated attributes, since some algorithms can suffer poor performance if there are highly correlated input values.\n",
    "\n",
    "\n",
    "<div class=\"alert alert-block alert-success\">\n",
    "<b>Task:</b> Create a heat map which gives you a good overview over the correlations\n",
    "</div>"
   ]
  },
  {
   "cell_type": "code",
   "execution_count": 64,
   "metadata": {},
   "outputs": [
    {
     "data": {
      "text/html": [
       "<style  type=\"text/css\" >\n",
       "    #T_dc9d4a10_3b1f_11ec_b586_309c23d4954erow0_col0 {\n",
       "            background-color:  #b40426;\n",
       "            color:  #f1f1f1;\n",
       "        }    #T_dc9d4a10_3b1f_11ec_b586_309c23d4954erow0_col1 {\n",
       "            background-color:  #516ddb;\n",
       "            color:  #000000;\n",
       "        }    #T_dc9d4a10_3b1f_11ec_b586_309c23d4954erow0_col2 {\n",
       "            background-color:  #5a78e4;\n",
       "            color:  #000000;\n",
       "        }    #T_dc9d4a10_3b1f_11ec_b586_309c23d4954erow0_col3 {\n",
       "            background-color:  #4358cb;\n",
       "            color:  #f1f1f1;\n",
       "        }    #T_dc9d4a10_3b1f_11ec_b586_309c23d4954erow0_col4 {\n",
       "            background-color:  #3b4cc0;\n",
       "            color:  #f1f1f1;\n",
       "        }    #T_dc9d4a10_3b1f_11ec_b586_309c23d4954erow0_col5 {\n",
       "            background-color:  #3b4cc0;\n",
       "            color:  #f1f1f1;\n",
       "        }    #T_dc9d4a10_3b1f_11ec_b586_309c23d4954erow0_col6 {\n",
       "            background-color:  #3b4cc0;\n",
       "            color:  #f1f1f1;\n",
       "        }    #T_dc9d4a10_3b1f_11ec_b586_309c23d4954erow0_col7 {\n",
       "            background-color:  #f1cdba;\n",
       "            color:  #000000;\n",
       "        }    #T_dc9d4a10_3b1f_11ec_b586_309c23d4954erow0_col8 {\n",
       "            background-color:  #6f92f3;\n",
       "            color:  #000000;\n",
       "        }    #T_dc9d4a10_3b1f_11ec_b586_309c23d4954erow1_col0 {\n",
       "            background-color:  #799cf8;\n",
       "            color:  #000000;\n",
       "        }    #T_dc9d4a10_3b1f_11ec_b586_309c23d4954erow1_col1 {\n",
       "            background-color:  #b40426;\n",
       "            color:  #f1f1f1;\n",
       "        }    #T_dc9d4a10_3b1f_11ec_b586_309c23d4954erow1_col2 {\n",
       "            background-color:  #5e7de7;\n",
       "            color:  #000000;\n",
       "        }    #T_dc9d4a10_3b1f_11ec_b586_309c23d4954erow1_col3 {\n",
       "            background-color:  #6b8df0;\n",
       "            color:  #000000;\n",
       "        }    #T_dc9d4a10_3b1f_11ec_b586_309c23d4954erow1_col4 {\n",
       "            background-color:  #b9d0f9;\n",
       "            color:  #000000;\n",
       "        }    #T_dc9d4a10_3b1f_11ec_b586_309c23d4954erow1_col5 {\n",
       "            background-color:  #7ea1fa;\n",
       "            color:  #000000;\n",
       "        }    #T_dc9d4a10_3b1f_11ec_b586_309c23d4954erow1_col6 {\n",
       "            background-color:  #6f92f3;\n",
       "            color:  #000000;\n",
       "        }    #T_dc9d4a10_3b1f_11ec_b586_309c23d4954erow1_col7 {\n",
       "            background-color:  #abc8fd;\n",
       "            color:  #000000;\n",
       "        }    #T_dc9d4a10_3b1f_11ec_b586_309c23d4954erow1_col8 {\n",
       "            background-color:  #c9d7f0;\n",
       "            color:  #000000;\n",
       "        }    #T_dc9d4a10_3b1f_11ec_b586_309c23d4954erow2_col0 {\n",
       "            background-color:  #7da0f9;\n",
       "            color:  #000000;\n",
       "        }    #T_dc9d4a10_3b1f_11ec_b586_309c23d4954erow2_col1 {\n",
       "            background-color:  #5977e3;\n",
       "            color:  #000000;\n",
       "        }    #T_dc9d4a10_3b1f_11ec_b586_309c23d4954erow2_col2 {\n",
       "            background-color:  #b40426;\n",
       "            color:  #f1f1f1;\n",
       "        }    #T_dc9d4a10_3b1f_11ec_b586_309c23d4954erow2_col3 {\n",
       "            background-color:  #9abbff;\n",
       "            color:  #000000;\n",
       "        }    #T_dc9d4a10_3b1f_11ec_b586_309c23d4954erow2_col4 {\n",
       "            background-color:  #6a8bef;\n",
       "            color:  #000000;\n",
       "        }    #T_dc9d4a10_3b1f_11ec_b586_309c23d4954erow2_col5 {\n",
       "            background-color:  #93b5fe;\n",
       "            color:  #000000;\n",
       "        }    #T_dc9d4a10_3b1f_11ec_b586_309c23d4954erow2_col6 {\n",
       "            background-color:  #506bda;\n",
       "            color:  #000000;\n",
       "        }    #T_dc9d4a10_3b1f_11ec_b586_309c23d4954erow2_col7 {\n",
       "            background-color:  #a5c3fe;\n",
       "            color:  #000000;\n",
       "        }    #T_dc9d4a10_3b1f_11ec_b586_309c23d4954erow2_col8 {\n",
       "            background-color:  #3b4cc0;\n",
       "            color:  #f1f1f1;\n",
       "        }    #T_dc9d4a10_3b1f_11ec_b586_309c23d4954erow3_col0 {\n",
       "            background-color:  #3b4cc0;\n",
       "            color:  #f1f1f1;\n",
       "        }    #T_dc9d4a10_3b1f_11ec_b586_309c23d4954erow3_col1 {\n",
       "            background-color:  #3b4cc0;\n",
       "            color:  #f1f1f1;\n",
       "        }    #T_dc9d4a10_3b1f_11ec_b586_309c23d4954erow3_col2 {\n",
       "            background-color:  #7295f4;\n",
       "            color:  #000000;\n",
       "        }    #T_dc9d4a10_3b1f_11ec_b586_309c23d4954erow3_col3 {\n",
       "            background-color:  #b40426;\n",
       "            color:  #f1f1f1;\n",
       "        }    #T_dc9d4a10_3b1f_11ec_b586_309c23d4954erow3_col4 {\n",
       "            background-color:  #d6dce4;\n",
       "            color:  #000000;\n",
       "        }    #T_dc9d4a10_3b1f_11ec_b586_309c23d4954erow3_col5 {\n",
       "            background-color:  #bad0f8;\n",
       "            color:  #000000;\n",
       "        }    #T_dc9d4a10_3b1f_11ec_b586_309c23d4954erow3_col6 {\n",
       "            background-color:  #7ea1fa;\n",
       "            color:  #000000;\n",
       "        }    #T_dc9d4a10_3b1f_11ec_b586_309c23d4954erow3_col7 {\n",
       "            background-color:  #3b4cc0;\n",
       "            color:  #f1f1f1;\n",
       "        }    #T_dc9d4a10_3b1f_11ec_b586_309c23d4954erow3_col8 {\n",
       "            background-color:  #3d50c3;\n",
       "            color:  #f1f1f1;\n",
       "        }    #T_dc9d4a10_3b1f_11ec_b586_309c23d4954erow4_col0 {\n",
       "            background-color:  #3c4ec2;\n",
       "            color:  #f1f1f1;\n",
       "        }    #T_dc9d4a10_3b1f_11ec_b586_309c23d4954erow4_col1 {\n",
       "            background-color:  #9bbcff;\n",
       "            color:  #000000;\n",
       "        }    #T_dc9d4a10_3b1f_11ec_b586_309c23d4954erow4_col2 {\n",
       "            background-color:  #4961d2;\n",
       "            color:  #f1f1f1;\n",
       "        }    #T_dc9d4a10_3b1f_11ec_b586_309c23d4954erow4_col3 {\n",
       "            background-color:  #dbdcde;\n",
       "            color:  #000000;\n",
       "        }    #T_dc9d4a10_3b1f_11ec_b586_309c23d4954erow4_col4 {\n",
       "            background-color:  #b40426;\n",
       "            color:  #f1f1f1;\n",
       "        }    #T_dc9d4a10_3b1f_11ec_b586_309c23d4954erow4_col5 {\n",
       "            background-color:  #7597f6;\n",
       "            color:  #000000;\n",
       "        }    #T_dc9d4a10_3b1f_11ec_b586_309c23d4954erow4_col6 {\n",
       "            background-color:  #80a3fa;\n",
       "            color:  #000000;\n",
       "        }    #T_dc9d4a10_3b1f_11ec_b586_309c23d4954erow4_col7 {\n",
       "            background-color:  #4e68d8;\n",
       "            color:  #000000;\n",
       "        }    #T_dc9d4a10_3b1f_11ec_b586_309c23d4954erow4_col8 {\n",
       "            background-color:  #4f69d9;\n",
       "            color:  #000000;\n",
       "        }    #T_dc9d4a10_3b1f_11ec_b586_309c23d4954erow5_col0 {\n",
       "            background-color:  #5673e0;\n",
       "            color:  #000000;\n",
       "        }    #T_dc9d4a10_3b1f_11ec_b586_309c23d4954erow5_col1 {\n",
       "            background-color:  #7295f4;\n",
       "            color:  #000000;\n",
       "        }    #T_dc9d4a10_3b1f_11ec_b586_309c23d4954erow5_col2 {\n",
       "            background-color:  #8db0fe;\n",
       "            color:  #000000;\n",
       "        }    #T_dc9d4a10_3b1f_11ec_b586_309c23d4954erow5_col3 {\n",
       "            background-color:  #d1dae9;\n",
       "            color:  #000000;\n",
       "        }    #T_dc9d4a10_3b1f_11ec_b586_309c23d4954erow5_col4 {\n",
       "            background-color:  #8db0fe;\n",
       "            color:  #000000;\n",
       "        }    #T_dc9d4a10_3b1f_11ec_b586_309c23d4954erow5_col5 {\n",
       "            background-color:  #b40426;\n",
       "            color:  #f1f1f1;\n",
       "        }    #T_dc9d4a10_3b1f_11ec_b586_309c23d4954erow5_col6 {\n",
       "            background-color:  #7093f3;\n",
       "            color:  #000000;\n",
       "        }    #T_dc9d4a10_3b1f_11ec_b586_309c23d4954erow5_col7 {\n",
       "            background-color:  #6485ec;\n",
       "            color:  #000000;\n",
       "        }    #T_dc9d4a10_3b1f_11ec_b586_309c23d4954erow5_col8 {\n",
       "            background-color:  #8badfd;\n",
       "            color:  #000000;\n",
       "        }    #T_dc9d4a10_3b1f_11ec_b586_309c23d4954erow6_col0 {\n",
       "            background-color:  #485fd1;\n",
       "            color:  #f1f1f1;\n",
       "        }    #T_dc9d4a10_3b1f_11ec_b586_309c23d4954erow6_col1 {\n",
       "            background-color:  #5470de;\n",
       "            color:  #000000;\n",
       "        }    #T_dc9d4a10_3b1f_11ec_b586_309c23d4954erow6_col2 {\n",
       "            background-color:  #3b4cc0;\n",
       "            color:  #f1f1f1;\n",
       "        }    #T_dc9d4a10_3b1f_11ec_b586_309c23d4954erow6_col3 {\n",
       "            background-color:  #93b5fe;\n",
       "            color:  #000000;\n",
       "        }    #T_dc9d4a10_3b1f_11ec_b586_309c23d4954erow6_col4 {\n",
       "            background-color:  #89acfd;\n",
       "            color:  #000000;\n",
       "        }    #T_dc9d4a10_3b1f_11ec_b586_309c23d4954erow6_col5 {\n",
       "            background-color:  #6282ea;\n",
       "            color:  #000000;\n",
       "        }    #T_dc9d4a10_3b1f_11ec_b586_309c23d4954erow6_col6 {\n",
       "            background-color:  #b40426;\n",
       "            color:  #f1f1f1;\n",
       "        }    #T_dc9d4a10_3b1f_11ec_b586_309c23d4954erow6_col7 {\n",
       "            background-color:  #6384eb;\n",
       "            color:  #000000;\n",
       "        }    #T_dc9d4a10_3b1f_11ec_b586_309c23d4954erow6_col8 {\n",
       "            background-color:  #5e7de7;\n",
       "            color:  #000000;\n",
       "        }    #T_dc9d4a10_3b1f_11ec_b586_309c23d4954erow7_col0 {\n",
       "            background-color:  #efcfbf;\n",
       "            color:  #000000;\n",
       "        }    #T_dc9d4a10_3b1f_11ec_b586_309c23d4954erow7_col1 {\n",
       "            background-color:  #81a4fb;\n",
       "            color:  #000000;\n",
       "        }    #T_dc9d4a10_3b1f_11ec_b586_309c23d4954erow7_col2 {\n",
       "            background-color:  #7da0f9;\n",
       "            color:  #000000;\n",
       "        }    #T_dc9d4a10_3b1f_11ec_b586_309c23d4954erow7_col3 {\n",
       "            background-color:  #3b4cc0;\n",
       "            color:  #f1f1f1;\n",
       "        }    #T_dc9d4a10_3b1f_11ec_b586_309c23d4954erow7_col4 {\n",
       "            background-color:  #4358cb;\n",
       "            color:  #f1f1f1;\n",
       "        }    #T_dc9d4a10_3b1f_11ec_b586_309c23d4954erow7_col5 {\n",
       "            background-color:  #3f53c6;\n",
       "            color:  #f1f1f1;\n",
       "        }    #T_dc9d4a10_3b1f_11ec_b586_309c23d4954erow7_col6 {\n",
       "            background-color:  #4e68d8;\n",
       "            color:  #000000;\n",
       "        }    #T_dc9d4a10_3b1f_11ec_b586_309c23d4954erow7_col7 {\n",
       "            background-color:  #b40426;\n",
       "            color:  #f1f1f1;\n",
       "        }    #T_dc9d4a10_3b1f_11ec_b586_309c23d4954erow7_col8 {\n",
       "            background-color:  #7699f6;\n",
       "            color:  #000000;\n",
       "        }    #T_dc9d4a10_3b1f_11ec_b586_309c23d4954erow8_col0 {\n",
       "            background-color:  #97b8ff;\n",
       "            color:  #000000;\n",
       "        }    #T_dc9d4a10_3b1f_11ec_b586_309c23d4954erow8_col1 {\n",
       "            background-color:  #cbd8ee;\n",
       "            color:  #000000;\n",
       "        }    #T_dc9d4a10_3b1f_11ec_b586_309c23d4954erow8_col2 {\n",
       "            background-color:  #4257c9;\n",
       "            color:  #f1f1f1;\n",
       "        }    #T_dc9d4a10_3b1f_11ec_b586_309c23d4954erow8_col3 {\n",
       "            background-color:  #7093f3;\n",
       "            color:  #000000;\n",
       "        }    #T_dc9d4a10_3b1f_11ec_b586_309c23d4954erow8_col4 {\n",
       "            background-color:  #779af7;\n",
       "            color:  #000000;\n",
       "        }    #T_dc9d4a10_3b1f_11ec_b586_309c23d4954erow8_col5 {\n",
       "            background-color:  #97b8ff;\n",
       "            color:  #000000;\n",
       "        }    #T_dc9d4a10_3b1f_11ec_b586_309c23d4954erow8_col6 {\n",
       "            background-color:  #7b9ff9;\n",
       "            color:  #000000;\n",
       "        }    #T_dc9d4a10_3b1f_11ec_b586_309c23d4954erow8_col7 {\n",
       "            background-color:  #a3c2fe;\n",
       "            color:  #000000;\n",
       "        }    #T_dc9d4a10_3b1f_11ec_b586_309c23d4954erow8_col8 {\n",
       "            background-color:  #b40426;\n",
       "            color:  #f1f1f1;\n",
       "        }</style><table id=\"T_dc9d4a10_3b1f_11ec_b586_309c23d4954e\" ><thead>    <tr>        <th class=\"blank level0\" ></th>        <th class=\"col_heading level0 col0\" >preg</th>        <th class=\"col_heading level0 col1\" >plas</th>        <th class=\"col_heading level0 col2\" >pres</th>        <th class=\"col_heading level0 col3\" >skin</th>        <th class=\"col_heading level0 col4\" >test</th>        <th class=\"col_heading level0 col5\" >mass</th>        <th class=\"col_heading level0 col6\" >pedi</th>        <th class=\"col_heading level0 col7\" >age</th>        <th class=\"col_heading level0 col8\" >class</th>    </tr></thead><tbody>\n",
       "                <tr>\n",
       "                        <th id=\"T_dc9d4a10_3b1f_11ec_b586_309c23d4954elevel0_row0\" class=\"row_heading level0 row0\" >preg</th>\n",
       "                        <td id=\"T_dc9d4a10_3b1f_11ec_b586_309c23d4954erow0_col0\" class=\"data row0 col0\" >1</td>\n",
       "                        <td id=\"T_dc9d4a10_3b1f_11ec_b586_309c23d4954erow0_col1\" class=\"data row0 col1\" >0.129</td>\n",
       "                        <td id=\"T_dc9d4a10_3b1f_11ec_b586_309c23d4954erow0_col2\" class=\"data row0 col2\" >0.141</td>\n",
       "                        <td id=\"T_dc9d4a10_3b1f_11ec_b586_309c23d4954erow0_col3\" class=\"data row0 col3\" >-0.0817</td>\n",
       "                        <td id=\"T_dc9d4a10_3b1f_11ec_b586_309c23d4954erow0_col4\" class=\"data row0 col4\" >-0.0735</td>\n",
       "                        <td id=\"T_dc9d4a10_3b1f_11ec_b586_309c23d4954erow0_col5\" class=\"data row0 col5\" >0.0177</td>\n",
       "                        <td id=\"T_dc9d4a10_3b1f_11ec_b586_309c23d4954erow0_col6\" class=\"data row0 col6\" >-0.0335</td>\n",
       "                        <td id=\"T_dc9d4a10_3b1f_11ec_b586_309c23d4954erow0_col7\" class=\"data row0 col7\" >0.544</td>\n",
       "                        <td id=\"T_dc9d4a10_3b1f_11ec_b586_309c23d4954erow0_col8\" class=\"data row0 col8\" >0.222</td>\n",
       "            </tr>\n",
       "            <tr>\n",
       "                        <th id=\"T_dc9d4a10_3b1f_11ec_b586_309c23d4954elevel0_row1\" class=\"row_heading level0 row1\" >plas</th>\n",
       "                        <td id=\"T_dc9d4a10_3b1f_11ec_b586_309c23d4954erow1_col0\" class=\"data row1 col0\" >0.129</td>\n",
       "                        <td id=\"T_dc9d4a10_3b1f_11ec_b586_309c23d4954erow1_col1\" class=\"data row1 col1\" >1</td>\n",
       "                        <td id=\"T_dc9d4a10_3b1f_11ec_b586_309c23d4954erow1_col2\" class=\"data row1 col2\" >0.153</td>\n",
       "                        <td id=\"T_dc9d4a10_3b1f_11ec_b586_309c23d4954erow1_col3\" class=\"data row1 col3\" >0.0573</td>\n",
       "                        <td id=\"T_dc9d4a10_3b1f_11ec_b586_309c23d4954erow1_col4\" class=\"data row1 col4\" >0.331</td>\n",
       "                        <td id=\"T_dc9d4a10_3b1f_11ec_b586_309c23d4954erow1_col5\" class=\"data row1 col5\" >0.221</td>\n",
       "                        <td id=\"T_dc9d4a10_3b1f_11ec_b586_309c23d4954erow1_col6\" class=\"data row1 col6\" >0.137</td>\n",
       "                        <td id=\"T_dc9d4a10_3b1f_11ec_b586_309c23d4954erow1_col7\" class=\"data row1 col7\" >0.264</td>\n",
       "                        <td id=\"T_dc9d4a10_3b1f_11ec_b586_309c23d4954erow1_col8\" class=\"data row1 col8\" >0.467</td>\n",
       "            </tr>\n",
       "            <tr>\n",
       "                        <th id=\"T_dc9d4a10_3b1f_11ec_b586_309c23d4954elevel0_row2\" class=\"row_heading level0 row2\" >pres</th>\n",
       "                        <td id=\"T_dc9d4a10_3b1f_11ec_b586_309c23d4954erow2_col0\" class=\"data row2 col0\" >0.141</td>\n",
       "                        <td id=\"T_dc9d4a10_3b1f_11ec_b586_309c23d4954erow2_col1\" class=\"data row2 col1\" >0.153</td>\n",
       "                        <td id=\"T_dc9d4a10_3b1f_11ec_b586_309c23d4954erow2_col2\" class=\"data row2 col2\" >1</td>\n",
       "                        <td id=\"T_dc9d4a10_3b1f_11ec_b586_309c23d4954erow2_col3\" class=\"data row2 col3\" >0.207</td>\n",
       "                        <td id=\"T_dc9d4a10_3b1f_11ec_b586_309c23d4954erow2_col4\" class=\"data row2 col4\" >0.0889</td>\n",
       "                        <td id=\"T_dc9d4a10_3b1f_11ec_b586_309c23d4954erow2_col5\" class=\"data row2 col5\" >0.282</td>\n",
       "                        <td id=\"T_dc9d4a10_3b1f_11ec_b586_309c23d4954erow2_col6\" class=\"data row2 col6\" >0.0413</td>\n",
       "                        <td id=\"T_dc9d4a10_3b1f_11ec_b586_309c23d4954erow2_col7\" class=\"data row2 col7\" >0.24</td>\n",
       "                        <td id=\"T_dc9d4a10_3b1f_11ec_b586_309c23d4954erow2_col8\" class=\"data row2 col8\" >0.0651</td>\n",
       "            </tr>\n",
       "            <tr>\n",
       "                        <th id=\"T_dc9d4a10_3b1f_11ec_b586_309c23d4954elevel0_row3\" class=\"row_heading level0 row3\" >skin</th>\n",
       "                        <td id=\"T_dc9d4a10_3b1f_11ec_b586_309c23d4954erow3_col0\" class=\"data row3 col0\" >-0.0817</td>\n",
       "                        <td id=\"T_dc9d4a10_3b1f_11ec_b586_309c23d4954erow3_col1\" class=\"data row3 col1\" >0.0573</td>\n",
       "                        <td id=\"T_dc9d4a10_3b1f_11ec_b586_309c23d4954erow3_col2\" class=\"data row3 col2\" >0.207</td>\n",
       "                        <td id=\"T_dc9d4a10_3b1f_11ec_b586_309c23d4954erow3_col3\" class=\"data row3 col3\" >1</td>\n",
       "                        <td id=\"T_dc9d4a10_3b1f_11ec_b586_309c23d4954erow3_col4\" class=\"data row3 col4\" >0.437</td>\n",
       "                        <td id=\"T_dc9d4a10_3b1f_11ec_b586_309c23d4954erow3_col5\" class=\"data row3 col5\" >0.393</td>\n",
       "                        <td id=\"T_dc9d4a10_3b1f_11ec_b586_309c23d4954erow3_col6\" class=\"data row3 col6\" >0.184</td>\n",
       "                        <td id=\"T_dc9d4a10_3b1f_11ec_b586_309c23d4954erow3_col7\" class=\"data row3 col7\" >-0.114</td>\n",
       "                        <td id=\"T_dc9d4a10_3b1f_11ec_b586_309c23d4954erow3_col8\" class=\"data row3 col8\" >0.0748</td>\n",
       "            </tr>\n",
       "            <tr>\n",
       "                        <th id=\"T_dc9d4a10_3b1f_11ec_b586_309c23d4954elevel0_row4\" class=\"row_heading level0 row4\" >test</th>\n",
       "                        <td id=\"T_dc9d4a10_3b1f_11ec_b586_309c23d4954erow4_col0\" class=\"data row4 col0\" >-0.0735</td>\n",
       "                        <td id=\"T_dc9d4a10_3b1f_11ec_b586_309c23d4954erow4_col1\" class=\"data row4 col1\" >0.331</td>\n",
       "                        <td id=\"T_dc9d4a10_3b1f_11ec_b586_309c23d4954erow4_col2\" class=\"data row4 col2\" >0.0889</td>\n",
       "                        <td id=\"T_dc9d4a10_3b1f_11ec_b586_309c23d4954erow4_col3\" class=\"data row4 col3\" >0.437</td>\n",
       "                        <td id=\"T_dc9d4a10_3b1f_11ec_b586_309c23d4954erow4_col4\" class=\"data row4 col4\" >1</td>\n",
       "                        <td id=\"T_dc9d4a10_3b1f_11ec_b586_309c23d4954erow4_col5\" class=\"data row4 col5\" >0.198</td>\n",
       "                        <td id=\"T_dc9d4a10_3b1f_11ec_b586_309c23d4954erow4_col6\" class=\"data row4 col6\" >0.185</td>\n",
       "                        <td id=\"T_dc9d4a10_3b1f_11ec_b586_309c23d4954erow4_col7\" class=\"data row4 col7\" >-0.0422</td>\n",
       "                        <td id=\"T_dc9d4a10_3b1f_11ec_b586_309c23d4954erow4_col8\" class=\"data row4 col8\" >0.131</td>\n",
       "            </tr>\n",
       "            <tr>\n",
       "                        <th id=\"T_dc9d4a10_3b1f_11ec_b586_309c23d4954elevel0_row5\" class=\"row_heading level0 row5\" >mass</th>\n",
       "                        <td id=\"T_dc9d4a10_3b1f_11ec_b586_309c23d4954erow5_col0\" class=\"data row5 col0\" >0.0177</td>\n",
       "                        <td id=\"T_dc9d4a10_3b1f_11ec_b586_309c23d4954erow5_col1\" class=\"data row5 col1\" >0.221</td>\n",
       "                        <td id=\"T_dc9d4a10_3b1f_11ec_b586_309c23d4954erow5_col2\" class=\"data row5 col2\" >0.282</td>\n",
       "                        <td id=\"T_dc9d4a10_3b1f_11ec_b586_309c23d4954erow5_col3\" class=\"data row5 col3\" >0.393</td>\n",
       "                        <td id=\"T_dc9d4a10_3b1f_11ec_b586_309c23d4954erow5_col4\" class=\"data row5 col4\" >0.198</td>\n",
       "                        <td id=\"T_dc9d4a10_3b1f_11ec_b586_309c23d4954erow5_col5\" class=\"data row5 col5\" >1</td>\n",
       "                        <td id=\"T_dc9d4a10_3b1f_11ec_b586_309c23d4954erow5_col6\" class=\"data row5 col6\" >0.141</td>\n",
       "                        <td id=\"T_dc9d4a10_3b1f_11ec_b586_309c23d4954erow5_col7\" class=\"data row5 col7\" >0.0362</td>\n",
       "                        <td id=\"T_dc9d4a10_3b1f_11ec_b586_309c23d4954erow5_col8\" class=\"data row5 col8\" >0.293</td>\n",
       "            </tr>\n",
       "            <tr>\n",
       "                        <th id=\"T_dc9d4a10_3b1f_11ec_b586_309c23d4954elevel0_row6\" class=\"row_heading level0 row6\" >pedi</th>\n",
       "                        <td id=\"T_dc9d4a10_3b1f_11ec_b586_309c23d4954erow6_col0\" class=\"data row6 col0\" >-0.0335</td>\n",
       "                        <td id=\"T_dc9d4a10_3b1f_11ec_b586_309c23d4954erow6_col1\" class=\"data row6 col1\" >0.137</td>\n",
       "                        <td id=\"T_dc9d4a10_3b1f_11ec_b586_309c23d4954erow6_col2\" class=\"data row6 col2\" >0.0413</td>\n",
       "                        <td id=\"T_dc9d4a10_3b1f_11ec_b586_309c23d4954erow6_col3\" class=\"data row6 col3\" >0.184</td>\n",
       "                        <td id=\"T_dc9d4a10_3b1f_11ec_b586_309c23d4954erow6_col4\" class=\"data row6 col4\" >0.185</td>\n",
       "                        <td id=\"T_dc9d4a10_3b1f_11ec_b586_309c23d4954erow6_col5\" class=\"data row6 col5\" >0.141</td>\n",
       "                        <td id=\"T_dc9d4a10_3b1f_11ec_b586_309c23d4954erow6_col6\" class=\"data row6 col6\" >1</td>\n",
       "                        <td id=\"T_dc9d4a10_3b1f_11ec_b586_309c23d4954erow6_col7\" class=\"data row6 col7\" >0.0336</td>\n",
       "                        <td id=\"T_dc9d4a10_3b1f_11ec_b586_309c23d4954erow6_col8\" class=\"data row6 col8\" >0.174</td>\n",
       "            </tr>\n",
       "            <tr>\n",
       "                        <th id=\"T_dc9d4a10_3b1f_11ec_b586_309c23d4954elevel0_row7\" class=\"row_heading level0 row7\" >age</th>\n",
       "                        <td id=\"T_dc9d4a10_3b1f_11ec_b586_309c23d4954erow7_col0\" class=\"data row7 col0\" >0.544</td>\n",
       "                        <td id=\"T_dc9d4a10_3b1f_11ec_b586_309c23d4954erow7_col1\" class=\"data row7 col1\" >0.264</td>\n",
       "                        <td id=\"T_dc9d4a10_3b1f_11ec_b586_309c23d4954erow7_col2\" class=\"data row7 col2\" >0.24</td>\n",
       "                        <td id=\"T_dc9d4a10_3b1f_11ec_b586_309c23d4954erow7_col3\" class=\"data row7 col3\" >-0.114</td>\n",
       "                        <td id=\"T_dc9d4a10_3b1f_11ec_b586_309c23d4954erow7_col4\" class=\"data row7 col4\" >-0.0422</td>\n",
       "                        <td id=\"T_dc9d4a10_3b1f_11ec_b586_309c23d4954erow7_col5\" class=\"data row7 col5\" >0.0362</td>\n",
       "                        <td id=\"T_dc9d4a10_3b1f_11ec_b586_309c23d4954erow7_col6\" class=\"data row7 col6\" >0.0336</td>\n",
       "                        <td id=\"T_dc9d4a10_3b1f_11ec_b586_309c23d4954erow7_col7\" class=\"data row7 col7\" >1</td>\n",
       "                        <td id=\"T_dc9d4a10_3b1f_11ec_b586_309c23d4954erow7_col8\" class=\"data row7 col8\" >0.238</td>\n",
       "            </tr>\n",
       "            <tr>\n",
       "                        <th id=\"T_dc9d4a10_3b1f_11ec_b586_309c23d4954elevel0_row8\" class=\"row_heading level0 row8\" >class</th>\n",
       "                        <td id=\"T_dc9d4a10_3b1f_11ec_b586_309c23d4954erow8_col0\" class=\"data row8 col0\" >0.222</td>\n",
       "                        <td id=\"T_dc9d4a10_3b1f_11ec_b586_309c23d4954erow8_col1\" class=\"data row8 col1\" >0.467</td>\n",
       "                        <td id=\"T_dc9d4a10_3b1f_11ec_b586_309c23d4954erow8_col2\" class=\"data row8 col2\" >0.0651</td>\n",
       "                        <td id=\"T_dc9d4a10_3b1f_11ec_b586_309c23d4954erow8_col3\" class=\"data row8 col3\" >0.0748</td>\n",
       "                        <td id=\"T_dc9d4a10_3b1f_11ec_b586_309c23d4954erow8_col4\" class=\"data row8 col4\" >0.131</td>\n",
       "                        <td id=\"T_dc9d4a10_3b1f_11ec_b586_309c23d4954erow8_col5\" class=\"data row8 col5\" >0.293</td>\n",
       "                        <td id=\"T_dc9d4a10_3b1f_11ec_b586_309c23d4954erow8_col6\" class=\"data row8 col6\" >0.174</td>\n",
       "                        <td id=\"T_dc9d4a10_3b1f_11ec_b586_309c23d4954erow8_col7\" class=\"data row8 col7\" >0.238</td>\n",
       "                        <td id=\"T_dc9d4a10_3b1f_11ec_b586_309c23d4954erow8_col8\" class=\"data row8 col8\" >1</td>\n",
       "            </tr>\n",
       "    </tbody></table>"
      ],
      "text/plain": [
       "<pandas.io.formats.style.Styler at 0x1b1cb0eb470>"
      ]
     },
     "execution_count": 64,
     "metadata": {},
     "output_type": "execute_result"
    }
   ],
   "source": [
    "### STUDENT CODE HERE (1pt)\n",
    "\n",
    "correlations.style.background_gradient(cmap ='coolwarm')\n",
    "\n",
    "### STUDENT CODE until HERE\n",
    "\n",
    "#plt.show()\n",
    "#data.corr()"
   ]
  },
  {
   "cell_type": "markdown",
   "metadata": {},
   "source": [
    "There you go, you are having a quick overview of the data. \n",
    "\n",
    "It seems like every attribute is positively correlated with each other, if you want to know which number symbolizes which attribute, you can customize your code and add labels to your axes. It might also be useful to annotate each cell in the heatmap."
   ]
  },
  {
   "cell_type": "markdown",
   "metadata": {},
   "source": [
    "### 3.4.2 Scatter Plot Matrix\n",
    "\n",
    "A scatter plot matrix is one of the last methods we present to you. The scatter plot represents the relationship between two variables as dots in two dimensions, one axis for each attribute. It is possible to plot a Scatter Plot for each attribute in your data, named _Scatter Plot Matrix_. One advantage of the Scatter Plot Matrix is that you can see structured relationships between some attributes, which might indicate correlation."
   ]
  },
  {
   "cell_type": "markdown",
   "metadata": {},
   "source": [
    "<div class=\"alert alert-block alert-success\">\n",
    "<b>Task:</b> Plot such a matrix.\n",
    "</div>"
   ]
  },
  {
   "cell_type": "markdown",
   "metadata": {},
   "source": [
    "<div class=\"alert alert-block alert-success\">\n",
    "<b>Question (2pts):</b> What you can tell from the plot?\n",
    "</div>\n",
    "\n",
    "<div class=\"alert alert-block alert-success\">\n",
    "<b>\n",
    "</b></div>"
   ]
  },
  {
   "cell_type": "code",
   "execution_count": 65,
   "metadata": {},
   "outputs": [
    {
     "data": {
      "image/png": "[encoded data removed]",
      "text/plain": [
       "<Figure size 432x288 with 81 Axes>"
      ]
     },
     "metadata": {
      "needs_background": "light"
     },
     "output_type": "display_data"
    }
   ],
   "source": [
    "from pandas.plotting import scatter_matrix\n",
    "\n",
    "### STUDENT CODE HERE (1pt)\n",
    "\n",
    "pd.plotting.scatter_matrix(data, alpha=0.5)\n",
    "\n",
    "### STUDENT CODE until HERE\n",
    "\n",
    "plt.show()"
   ]
  },
  {
   "cell_type": "markdown",
   "metadata": {},
   "source": [
    "## 3.5 Skew of Univariate Distributions\n",
    "\n",
    "Many machine learning algorithms work better when using normal or gaussian distributed (see: https://en.wikipedia.org/wiki/Normal_distribution) input values. However, your data may have a skew. You may want to correct this by proper preparation of your data. Let us have a look at the skew. You can calculate this by using the pandas `.skew()` method.\n"
   ]
  },
  {
   "cell_type": "markdown",
   "metadata": {},
   "source": [
    "<div class=\"alert alert-block alert-success\">\n",
    "<b>Task/Question (2pts):</b> Calculate the skew of the diabetes data and describe your observations in term of what the numbers show you. See also: https://en.wikipedia.org/wiki/Skewness\n",
    "</div>\n",
    "\n",
    "\n",
    "<div class=\"alert alert-block alert-success\">\n",
    "<b>Answer:Skewness is a measure of the asymmetry of a probability distribution, so the curve is leaning to one side or another. Negative skew commonly indicates that the \"tail\" is on the left side and the \"steep part\" is on the right side of the distribution, and positive skew indicates that the tail is on the right and the steep part is on the left. </b></div>"
   ]
  },
  {
   "cell_type": "code",
   "execution_count": 66,
   "metadata": {},
   "outputs": [
    {
     "name": "stdout",
     "output_type": "stream",
     "text": [
      "0      1.648\n",
      "1      1.008\n",
      "2      2.361\n",
      "3      0.711\n",
      "4      1.339\n",
      "       ...  \n",
      "763    1.229\n",
      "764    1.547\n",
      "765    0.908\n",
      "766    1.642\n",
      "767    1.149\n",
      "Length: 768, dtype: float64\n"
     ]
    }
   ],
   "source": [
    "### STUDENT CODE HERE (1pt)\n",
    "skew=data.skew(axis=1)\n",
    "### STUDENT CODE until HERE\n",
    "\n",
    "print(skew)"
   ]
  },
  {
   "cell_type": "markdown",
   "metadata": {},
   "source": [
    "# 4 Scale Machine Learning data\n",
    "\n",
    "Since we are now able to load and analyze our raw data, we are capable of the first big step in preparing our data. This step is to scale your data, because many machine learning algorithms expect scaled data as input. In this chapter we will learn how to normalize and standardize data and when you have to choose normalizing over standardizing. This is especially important for artificial neural networks and deep learning.\n",
    "\n",
    "## 4.1 Normalize data\n",
    "\n",
    "Normalizing should already sound familiar to you from your mathematics class. We shape the values into a range between 0 and 1. To realize this we have to know the maximum and the minimum value for each attribute. A simple option to do this, is to enumerate through the values.\n",
    "\n",
    "<div class=\"alert alert-block alert-success\">\n",
    "<b>Task:</b> Write a function <code>dataset_minmax()</code>, which calculates the minimum and maximum for each attribute.\n",
    "<ul>\n",
    "    <li> Hint: Your function takes the dataset as input and returns a list with a tuple (min, max) for each column in the dataset\n",
    "\n",
    "</ul>\n",
    "</div>"
   ]
  },
  {
   "cell_type": "code",
   "execution_count": 67,
   "metadata": {},
   "outputs": [
    {
     "name": "stdout",
     "output_type": "stream",
     "text": [
      "[[50, 30], [20, 90]]\n",
      "[(20, 50), (30, 90)]\n"
     ]
    }
   ],
   "source": [
    "# Find the min and max values for each column\n",
    "def dataset_minmax(dataset: List[List[float]]) -> List[Tuple[float, float]]:\n",
    "    \n",
    "    ### STUDENT CODE HERE (1pt)\n",
    "    clmn_list =[]\n",
    "    minmax=[]\n",
    "    for column in range(len(dataset[0])):\n",
    "            \n",
    "        #eine ganze column als liste speichernn,\n",
    "        for row in range (len(dataset)):\n",
    "            clmn_list.append(dataset[row][column])\n",
    "            \n",
    "        minmax.append((min(clmn_list), max(clmn_list)))\n",
    "        clmn_list =[]\n",
    "            \n",
    "                \n",
    "    ### STUDENT CODE until HERE\n",
    "    return minmax\n",
    "\n",
    "# small test dataset\n",
    "dataset = [[50, 30], [20, 90]]\n",
    "print(dataset)\n",
    "\n",
    "# Calculate min and max for each column\n",
    "minmax: List[Tuple[float, float]] = dataset_minmax(dataset)\n",
    "print(minmax)\n"
   ]
  },
  {
   "cell_type": "markdown",
   "metadata": {},
   "source": [
    "Now we can get the minimum and maximum for each column. Using these values we can add a function, which normalizes our values based on the following formula:\n",
    "\n",
    "$$scaled\\, value = \\frac{value - min}{max-min}$$"
   ]
  },
  {
   "cell_type": "markdown",
   "metadata": {},
   "source": [
    "\n",
    "<div class=\"alert alert-block alert-success\">\n",
    "<b>Task:</b> Implement this formula in a function, which is named <code>normalize_dataset()</code>.\n",
    "<ul>\n",
    "    <li> Hint: It uses the dataset and the minmax values and returns the normalized dataset.\n",
    "\n",
    "</ul>\n",
    "</div>"
   ]
  },
  {
   "cell_type": "code",
   "execution_count": 68,
   "metadata": {},
   "outputs": [],
   "source": [
    "def normalize_dataset(dataset: List[List[float]], minmax: List[Tuple[float, float]]) -> List[List[float]]:\n",
    "    \n",
    "    return_dataset: List[List[float]] = []\n",
    "    \n",
    "    ### STUDENT CODE HERE (1pt)\n",
    "    return_dataset=dataset\n",
    "    for column in range(len(dataset[0])):\n",
    "        \n",
    "        for row in range(len(dataset)):\n",
    "            return_dataset[row][column] = (dataset[row][column]-minmax[column][0])/(minmax[column][1]-minmax[column][0])\n",
    "    \n",
    "    \n",
    "\n",
    "    ### STUDENT CODE until HERE\n",
    "            \n",
    "    return return_dataset\n"
   ]
  },
  {
   "cell_type": "markdown",
   "metadata": {},
   "source": [
    "Now we got the necessary tools for normalizing our data. If we now put our functions together we can easily normalize our data."
   ]
  },
  {
   "cell_type": "code",
   "execution_count": 69,
   "metadata": {},
   "outputs": [
    {
     "name": "stdout",
     "output_type": "stream",
     "text": [
      "[[50, 30], [20, 90], [30, 40]]\n",
      "[(20, 50), (30, 90)]\n",
      "[[1.0, 0.0], [0.0, 1.0], [0.3333333333333333, 0.16666666666666666]]\n"
     ]
    }
   ],
   "source": [
    "# Again a small test dataset\n",
    "dataset = [[50, 30], [20, 90], [30, 40]]\n",
    "print(dataset)\n",
    "\n",
    "# Calculate min and max for each column\n",
    "minmax: List[Tuple[float, float]] = dataset_minmax(dataset)\n",
    "print(minmax)\n",
    "\n",
    "# Normalize columns\n",
    "dataset: List[List[float]] = normalize_dataset(dataset, minmax)\n",
    "print(dataset)"
   ]
  },
  {
   "cell_type": "markdown",
   "metadata": {},
   "source": [
    "Now we have to put it all together.\n",
    "\n",
    "<div class=\"alert alert-block alert-success\">\n",
    "<b>Task:</b> Write a function called <code>load_normalized_csv()</code>, which loads a CSV file and normalizes the data afterwards.\n",
    "<ul>\n",
    "        <li> Hint: Your function takes the filename as input parameter and returns the normalized dataset. Use your <code>load_csv()</code> function.\n",
    "\n",
    "</ul>\n",
    "</div>"
   ]
  },
  {
   "cell_type": "code",
   "execution_count": 70,
   "metadata": {},
   "outputs": [
    {
     "name": "stdout",
     "output_type": "stream",
     "text": [
      "[0.35294117647058826, 0.7437185929648241, 0.5901639344262295, 0.35353535353535354, 0.0, 0.5007451564828614, 0.23441502988898377, 0.48333333333333334, 1.0]\n"
     ]
    }
   ],
   "source": [
    "def load_normalized_csv(filename: str) -> List[List[float]]:\n",
    "    \n",
    "    ### STUDENT CODE HERE (1pt)\n",
    "    \n",
    "    dataset = load_csv(filename)\n",
    "    for i in range(len(dataset[0])):\n",
    "        dataset = str_column_to_float(dataset, i)\n",
    "    minmax: List[Tuple[float, float]] = dataset_minmax(dataset)\n",
    "    normalize_dataset(dataset, minmax)\n",
    "    \n",
    "    return dataset\n",
    "    \n",
    "        \n",
    "    ### STUDENT CODE until HERE\n",
    "\n",
    "## Test:\n",
    "filename = 'data/pima-indians-diabetes.csv'\n",
    "\n",
    "dataset: List[List[float]] = load_normalized_csv(filename)\n",
    "\n",
    "print(dataset[0])"
   ]
  },
  {
   "cell_type": "markdown",
   "metadata": {},
   "source": [
    "## 4.2 Standardize data\n",
    "\n",
    "If you standardize data you want to center your distribution on the value 0 and the standard deviation on 1. The outcome will be a Gaussian or normal distribution also called bell curve.\n",
    "\n",
    "First of all to standardize data we have to know the mean and standard deviation of the values for each column. Therefore we will start by writing a function, which calculates the mean value for each column based on the following formula:\n",
    "\n",
    "$$\\bar{x} = \\frac{\\sum_{n=1}^{N} x_n}{N}$$\n"
   ]
  },
  {
   "cell_type": "markdown",
   "metadata": {},
   "source": [
    "<div class=\"alert alert-block alert-success\">\n",
    "<b>Task:</b> Write a function <code>column_means()</code> which returns the mean value for each column.\n",
    "<ul>\n",
    "        <li> Hint: Your return's type is a list (with the mean for each column).\n",
    "\n",
    "</ul>\n",
    "</div>"
   ]
  },
  {
   "cell_type": "code",
   "execution_count": 26,
   "metadata": {},
   "outputs": [],
   "source": [
    "def column_means(dataset: List[List[float]]) -> List[float]:\n",
    "    \n",
    "    ### STUDENT CODE HERE (1pt)\n",
    "    s=0\n",
    "    means=[]\n",
    "    for column in range(len(dataset[0])):\n",
    "        s=0\n",
    "        for row in range(len(dataset)):\n",
    "            s += dataset[row][column]\n",
    "        s=s/len(dataset)\n",
    "        means.append(s)\n",
    "            \n",
    "\n",
    "    ### STUDENT CODE until HERE\n",
    "    \n",
    "    return means"
   ]
  },
  {
   "cell_type": "markdown",
   "metadata": {},
   "source": [
    "As you may know from your probability classes, the empricial standard deviation describes the average spread of the values from the mean. The following formula will help you write a function which calculates the standard deviation.\n",
    "\n",
    "\n",
    "$$ s = \\sqrt{\\frac{\\sum\\nolimits_{n=1}^N(x_n - \\bar{x})^2}{N -1}}$$\n"
   ]
  },
  {
   "cell_type": "markdown",
   "metadata": {},
   "source": [
    "<div class=\"alert alert-block alert-success\">\n",
    "<b>Task:</b> Write a function <code>column_stdevs()</code> which calculates the standard deviation for each column based on the given formula.\n",
    "<ul>\n",
    "        <li> Hint: Your return's type is a list (with the mean for each column).\n",
    "\n",
    "</ul>\n",
    "</div>"
   ]
  },
  {
   "cell_type": "code",
   "execution_count": 38,
   "metadata": {},
   "outputs": [],
   "source": [
    "from math import sqrt\n",
    "\n",
    "def column_stdevs(dataset: List[List[float]], means: List[float]) -> List[float]:\n",
    "    \n",
    "    ### STUDENT CODE HERE (1pt)\n",
    "    s=0\n",
    "    stdevs = []\n",
    "    for column in range(len(dataset[0])):\n",
    "        s=0\n",
    "        for row in range(len(dataset)):\n",
    "\n",
    "            s += (dataset[row][column]-means[column])**2\n",
    "            \n",
    "        s=(s/(len(dataset)-1))**0.5\n",
    "        stdevs.append(s)\n",
    "            \n",
    "            \n",
    "    ### STUDENT CODE until HERE\n",
    "        \n",
    "    return stdevs"
   ]
  },
  {
   "cell_type": "markdown",
   "metadata": {},
   "source": [
    "Now we can est our mean and the standard deviations function in a little example:"
   ]
  },
  {
   "cell_type": "code",
   "execution_count": 39,
   "metadata": {},
   "outputs": [
    {
     "name": "stdout",
     "output_type": "stream",
     "text": [
      "[[50, 30], [20, 90], [30, 50]]\n",
      "[33.333333333333336, 56.666666666666664]\n",
      "[15.275252316519467, 30.550504633038933]\n"
     ]
    }
   ],
   "source": [
    "dataset = [[50, 30], [20, 90], [30, 50]]\n",
    "print(dataset)\n",
    "      \n",
    "means: List[float] = column_means(dataset)\n",
    "print(means)\n",
    "      \n",
    "stdevs: List[float] = column_stdevs(dataset, means)\n",
    "print(stdevs)"
   ]
  },
  {
   "cell_type": "markdown",
   "metadata": {},
   "source": [
    "Now we have gathered all required tools and can start with standardizing data."
   ]
  },
  {
   "cell_type": "markdown",
   "metadata": {},
   "source": [
    "<div class=\"alert alert-block alert-success\">\n",
    "<b>Task:</b> Use a statistic method to standardize the values and write a function <code>standardize_dataset()</code> which does so.\n",
    "</div>"
   ]
  },
  {
   "cell_type": "code",
   "execution_count": 40,
   "metadata": {},
   "outputs": [],
   "source": [
    "def standardize_dataset(dataset: List[List[float]], means: List[float], stdevs: List[float]) -> List[List[float]]:\n",
    "    return_dataset: List[List[float]] = []\n",
    "    \n",
    "    ### STUDENT CODE HERE (1pt)\n",
    "    \n",
    "    return_dataset = dataset\n",
    "    \n",
    "    for column in range(len(dataset[0])):\n",
    "        \n",
    "        for row in range(len(dataset)):\n",
    "            \n",
    "            return_dataset[row][column] = ((dataset[row][column]-means[column])/stdevs[column])\n",
    "    \n",
    "    ### STUDENT CODE until HERE\n",
    "    \n",
    "    return return_dataset"
   ]
  },
  {
   "cell_type": "markdown",
   "metadata": {},
   "source": [
    "Now it is time to put it all together an give your standardization a try."
   ]
  },
  {
   "cell_type": "markdown",
   "metadata": {},
   "source": [
    "<div class=\"alert alert-block alert-success\">\n",
    "<b>Task:</b> Run all required functions and display your data in a histogram.\n",
    "</div>"
   ]
  },
  {
   "cell_type": "code",
   "execution_count": 73,
   "metadata": {},
   "outputs": [
    {
     "name": "stdout",
     "output_type": "stream",
     "text": [
      "[[50, 10, 30], [20, 25, 90], [30, 40, 50]]\n",
      "[33.333333333333336, 25.0, 56.666666666666664]\n",
      "[15.275252316519467, 15.0, 30.550504633038933]\n",
      "[[1.0910894511799618, -1.0, -0.8728715609439694], [-0.8728715609439697, 0.0, 1.091089451179962], [-0.21821789023599253, 1.0, -0.2182178902359923]]\n",
      "[-1.295260195396016e-16, 0.0, 9.251858538542972e-17]\n",
      "[1.0, 1.0, 1.0]\n"
     ]
    },
    {
     "data": {
      "image/png": "[encoded data removed]",
      "text/plain": [
       "<Figure size 432x288 with 1 Axes>"
      ]
     },
     "metadata": {
      "needs_background": "light"
     },
     "output_type": "display_data"
    }
   ],
   "source": [
    "dataset = [[50, 10, 30], [20, 25, 90], [30, 40, 50]]\n",
    "print(dataset)\n",
    "\n",
    "### STUDENT CODE HERE (1pt)\n",
    "means: List[float] = column_means(dataset)\n",
    "print(means)\n",
    "stdevs: List[float] = column_stdevs(dataset, means)\n",
    "print(stdevs)\n",
    "stddata: List[float] = standardize_dataset(dataset,means,stdevs)\n",
    "print(stddata)\n",
    "# check if it worked  \n",
    "means2: List[float] = column_means(stddata)\n",
    "print(means2)\n",
    "\n",
    "stdevs2: List[float] = column_stdevs(stddata, means2)\n",
    "print(stdevs2)\n",
    "\n",
    "\n",
    "plt.hist(dataset)\n",
    "plt.show()\n",
    "\n",
    "\n",
    "\n",
    "\n",
    "\n",
    "\n",
    "### STUDENT CODE until HERE\n"
   ]
  },
  {
   "cell_type": "markdown",
   "metadata": {},
   "source": [
    "Ok. Now let us also create a function which reads a given CSV file and standardizes it. "
   ]
  },
  {
   "cell_type": "markdown",
   "metadata": {},
   "source": [
    "<div class=\"alert alert-block alert-success\">\n",
    "<b>Task:</b> Complete the <code>load_standardized_csv()</code> function.\n",
    "</div>"
   ]
  },
  {
   "cell_type": "code",
   "execution_count": 76,
   "metadata": {},
   "outputs": [
    {
     "name": "stdout",
     "output_type": "stream",
     "text": [
      "[0.6395304921176562, 0.8477713205896722, 0.1495432985295431, 0.906679062347254, -0.6924393247241339, 0.20387990726746866, 0.4681868702297961, 1.4250667195933602, 1.3650063669597974]\n",
      "[-3.093590198825306e-17, 8.673617379884035e-19, 4.6024382222009663e-17, -5.146346312064528e-17, -7.45931094670027e-17, -3.21646644504033e-18, 3.6140072416183483e-19, -1.0552901145525576e-17, -1.2547833142898904e-16]\n",
      "[1.0, 1.0, 1.0000000000000016, 0.9999999999999994, 1.0000000000000089, 1.0, 1.0, 1.0000000000000009, 0.9999999999999996]\n"
     ]
    }
   ],
   "source": [
    "def load_standardized_csv(filename: str) -> List[List[float]]:\n",
    "    \n",
    "    ### STUDENT CODE HERE (1pt)\n",
    "    dataset: List[List[str]] = load_csv(filename)\n",
    "    for i in range(len(dataset_new[0])):\n",
    "        dataset = str_column_to_float(dataset_new, i)\n",
    "    means: List[float] = column_means(dataset) \n",
    "    stdevs: List[float] = column_stdevs(dataset, means)\n",
    "    dataset: List[float] = standardize_dataset(dataset,means,stdevs)\n",
    "    return dataset\n",
    "    ### STUDENT CODE until HERE\n",
    "\n",
    "## Test:\n",
    "filename = 'data/pima-indians-diabetes.csv'\n",
    "\n",
    "dataset: List[List[float]] = load_standardized_csv(filename)\n",
    "    \n",
    "print(dataset[0])\n",
    "\n",
    "# Safety check\n",
    "\n",
    "means2: List[float] = column_means(dataset)\n",
    "print(means2)\n",
    "\n",
    "stdevs2: List[float] = column_stdevs(dataset, means2)\n",
    "print(stdevs2)\n",
    "\n",
    "# close enough"
   ]
  },
  {
   "cell_type": "markdown",
   "metadata": {},
   "source": [
    "## 4.3 When to normalize and when to standardize?\n",
    "\n",
    "Now that you know how to realize both methods, it is important to know which one has to be used. Standardization works if your data conforms to a normal distribution. If your data confirms with this, standardizing is the method of choice. If your data doesn't have a specific distribution you should consider to normalize it before you apply your machine learning algorithm.\n",
    "\n",
    "You can also use many other data transformation methods. The idea behind this transformation is to expose the structure of your data to the learning algorithm in the best possible way. In some cases it might not be clear which transformation is the best to use. In this cases trial and error help to get kind of a feeling for transformations. "
   ]
  },
  {
   "cell_type": "markdown",
   "metadata": {},
   "source": [
    "# 5 Prepare your data for machine learning\n",
    "\n",
    "This is the last chapter of the data preparation tutorial. As we learned in the previous chapter, it is a good idea to prepare your data in a way that exposes the unique structure of your data. Also we created a simple python code, to go one step further. We will now use the package _scikit-learn_. After completing this lesson we will be able to rescale, normalize, standardize and binarize your data. \n",
    "\n",
    "The scikit-learn library contains two different standard approaches for transforming data."
   ]
  },
  {
   "cell_type": "markdown",
   "metadata": {},
   "source": [
    "<div class=\"alert alert-block alert-success\">\n",
    "<b>Question (2pts):</b> Research and describe the difference.\n",
    "</div>\n",
    "\n",
    "<div class=\"alert alert-block alert-success\">\n",
    "<b>Answer:</b></div>"
   ]
  },
  {
   "cell_type": "markdown",
   "metadata": {},
   "source": [
    "## 5.1 Rescale/ Normalize data\n",
    "\n",
    "When we normalize our dataset the maximum value becomes 1. This is useful for datasets with lots of zeros and varying scales. For example if we use algorithms where input values are weighted such as neural networks.\n",
    "\n",
    "With scikit-learn you can use the `MinMaxScaler` class to rescale your attributes."
   ]
  },
  {
   "cell_type": "markdown",
   "metadata": {},
   "source": [
    "<div class=\"alert alert-block alert-success\">\n",
    "<b>Task:</b> Rescale/Normalize the data from the diabetes example with scikit-learn, by using the <code>MinMaxScaler</code> and print the first 5 rows of the rescaled dataset.\n",
    "</div>"
   ]
  },
  {
   "cell_type": "code",
   "execution_count": 112,
   "metadata": {},
   "outputs": [
    {
     "data": {
      "text/plain": [
       "array([[0.35294118, 0.74371859, 0.59016393, 0.35353535, 0.        ,\n",
       "        0.50074516, 0.23441503, 0.48333333, 1.        ],\n",
       "       [0.05882353, 0.42713568, 0.54098361, 0.29292929, 0.        ,\n",
       "        0.39642325, 0.11656704, 0.16666667, 0.        ],\n",
       "       [0.47058824, 0.91959799, 0.52459016, 0.        , 0.        ,\n",
       "        0.34724292, 0.25362938, 0.18333333, 1.        ],\n",
       "       [0.05882353, 0.44723618, 0.54098361, 0.23232323, 0.11111111,\n",
       "        0.41877794, 0.03800171, 0.        , 0.        ],\n",
       "       [0.        , 0.68844221, 0.32786885, 0.35353535, 0.19858156,\n",
       "        0.64232489, 0.94363792, 0.2       , 1.        ]])"
      ]
     },
     "execution_count": 112,
     "metadata": {},
     "output_type": "execute_result"
    }
   ],
   "source": [
    "# Rescale data (between 0 and 1)\n",
    "import numpy as np\n",
    "from pandas import read_csv\n",
    "from sklearn.preprocessing import MinMaxScaler\n",
    "\n",
    "filename = 'data/pima-indians-diabetes.csv'\n",
    "names = ['preg', 'plas', 'pres', 'skin', 'test', 'mass', 'pedi', 'age', 'class']\n",
    "\n",
    "### STUDENT CODE HERE (1pt)\n",
    "\n",
    "data: pd.DataFrame = read_csv(filename, names=names)\n",
    "scaler1 = MinMaxScaler()\n",
    "data_normalized = scaler1.fit_transform(data)\n",
    "type(data_normalized)\n",
    "data_normalized[0:5]\n",
    "\n",
    "### STUDENT CODE until HERE"
   ]
  },
  {
   "cell_type": "markdown",
   "metadata": {},
   "source": [
    "## 5.2 Standardize data\n",
    "\n",
    "As we mentioned in the previous chapter, machine learning requires a gaussian distribution as input variables and works better with rescaled data. The output of a standardization is a distribution with a mean of zero and a standard deviation of 1.\n",
    "\n",
    "You can standardize data by using the `StandardScaler` class in scikit-learn."
   ]
  },
  {
   "cell_type": "markdown",
   "metadata": {},
   "source": [
    "<div class=\"alert alert-block alert-success\">\n",
    "<b>Task:</b> Standardize the diabetes example by using the <code>StandardScaler</code> and print the first 5 rows of the dataset\n",
    "</div>"
   ]
  },
  {
   "cell_type": "code",
   "execution_count": 113,
   "metadata": {},
   "outputs": [
    {
     "data": {
      "text/plain": [
       "array([[ 0.63994726,  0.84832379,  0.14964075,  0.90726993, -0.69289057,\n",
       "         0.20401277,  0.46849198,  1.4259954 ,  1.36589591],\n",
       "       [-0.84488505, -1.12339636, -0.16054575,  0.53090156, -0.69289057,\n",
       "        -0.68442195, -0.36506078, -0.19067191, -0.73212021],\n",
       "       [ 1.23388019,  1.94372388, -0.26394125, -1.28821221, -0.69289057,\n",
       "        -1.10325546,  0.60439732, -0.10558415,  1.36589591],\n",
       "       [-0.84488505, -0.99820778, -0.16054575,  0.15453319,  0.12330164,\n",
       "        -0.49404308, -0.92076261, -1.04154944, -0.73212021],\n",
       "       [-1.14185152,  0.5040552 , -1.50468724,  0.90726993,  0.76583594,\n",
       "         1.4097456 ,  5.4849091 , -0.0204964 ,  1.36589591]])"
      ]
     },
     "execution_count": 113,
     "metadata": {},
     "output_type": "execute_result"
    }
   ],
   "source": [
    "from sklearn.preprocessing import StandardScaler\n",
    "\n",
    "### STUDENT CODE HERE (1pt)\n",
    "scaler2 = StandardScaler()\n",
    "data_standardized = scaler2.fit_transform(data)\n",
    "type(data_standardized)\n",
    "data_standardized[0:5]\n",
    "\n",
    "\n",
    "\n",
    "### STUDENT CODE until HERE"
   ]
  },
  {
   "cell_type": "markdown",
   "metadata": {},
   "source": [
    "## 5.3 Normalize data\n",
    "\n",
    "With scikit-learn's `Normalizer`class you can normalize samples to have **unit norm** (by a given norm, for example L1 or L2). See also: https://scikit-learn.org/stable/modules/preprocessing.html#preprocessing-normalization"
   ]
  },
  {
   "cell_type": "markdown",
   "metadata": {},
   "source": [
    "<div class=\"alert alert-block alert-success\">\n",
    "<b>Task:</b> Normalize the diabetes example with L1-norm, by using the <code>Normalizer</code> class and print the first 5 rows of your dataset\n",
    "</div>"
   ]
  },
  {
   "cell_type": "code",
   "execution_count": 120,
   "metadata": {},
   "outputs": [
    {
     "data": {
      "text/plain": [
       "array([[1.73296710e-02, 4.27465218e-01, 2.07956052e-01, 1.01089747e-01,\n",
       "        0.00000000e+00, 9.70461576e-02, 1.81095062e-03, 1.44413925e-01,\n",
       "        2.88827850e-03],\n",
       "       [4.18495842e-03, 3.55721466e-01, 2.76207256e-01, 1.21363794e-01,\n",
       "        0.00000000e+00, 1.11319894e-01, 1.46892041e-03, 1.29733711e-01,\n",
       "        0.00000000e+00],\n",
       "       [2.56433270e-02, 5.86591104e-01, 2.05146616e-01, 0.00000000e+00,\n",
       "        0.00000000e+00, 7.46861898e-02, 2.15403947e-03, 1.02573308e-01,\n",
       "        3.20541587e-03],\n",
       "       [3.10301706e-03, 2.76168519e-01, 2.04799126e-01, 7.13693925e-02,\n",
       "        2.91683604e-01, 8.71947795e-02, 5.18203850e-04, 6.51633583e-02,\n",
       "        0.00000000e+00],\n",
       "       [0.00000000e+00, 2.98222853e-01, 8.70723658e-02, 7.61883201e-02,\n",
       "        3.65703937e-01, 9.38204742e-02, 4.98053933e-03, 7.18347018e-02,\n",
       "        2.17680915e-03]])"
      ]
     },
     "execution_count": 120,
     "metadata": {},
     "output_type": "execute_result"
    }
   ],
   "source": [
    "# Normalize data (length of 1)\n",
    "from sklearn.preprocessing import Normalizer\n",
    "\n",
    "### STUDENT CODE HERE (1pt)\n",
    "scaler3 = Normalizer(norm = 'l1')\n",
    "data_normalized = scaler3.fit_transform(data)\n",
    "type(data_normalized)\n",
    "data_normalized[0:5]\n",
    "\n",
    "### STUDENT CODE until HERE"
   ]
  },
  {
   "cell_type": "markdown",
   "metadata": {},
   "source": [
    "<div class=\"alert alert-block alert-success\">\n",
    "<b>Question (1pt):</b> What property does one sample now fulfill?\n",
    "</div>\n",
    "\n",
    "<div class=\"alert alert-block alert-success\">\n",
    "<b>Answer:</b></div>"
   ]
  },
  {
   "cell_type": "markdown",
   "metadata": {},
   "source": [
    "## 5.4 Binarize data\n",
    "\n",
    "A new method to pre-process data is binarization. As you might guess you can set a threshold and every value above it will be assigned the value one and values equal or below the threshold will be assigned the value 0.\n",
    "With scikit-learn you can use the class `Binarizer`."
   ]
  },
  {
   "cell_type": "markdown",
   "metadata": {},
   "source": [
    "<div class=\"alert alert-block alert-success\">\n",
    "<b>Task:</b> Binarize the diabetes example and print the first 5 rows.\n",
    "</div>"
   ]
  },
  {
   "cell_type": "code",
   "execution_count": 127,
   "metadata": {},
   "outputs": [
    {
     "data": {
      "text/plain": [
       "array([[0., 1., 1., 1., 0., 1., 0., 1., 0.],\n",
       "       [0., 1., 1., 1., 0., 1., 0., 1., 0.],\n",
       "       [0., 1., 1., 0., 0., 1., 0., 1., 0.],\n",
       "       [0., 1., 1., 1., 1., 1., 0., 1., 0.],\n",
       "       [0., 1., 1., 1., 1., 1., 0., 1., 0.]])"
      ]
     },
     "execution_count": 127,
     "metadata": {},
     "output_type": "execute_result"
    }
   ],
   "source": [
    "from sklearn.preprocessing import Binarizer\n",
    "\n",
    "### STUDENT CODE HERE (1pt)\n",
    "scaler4 = Binarizer(threshold=10)\n",
    "data_binarized = scaler4.fit_transform(data)\n",
    "type(data_binarized)\n",
    "data_binarized[0:5]\n",
    "\n",
    "### STUDENT CODE until HERE"
   ]
  },
  {
   "cell_type": "markdown",
   "metadata": {},
   "source": [
    "<div class=\"alert alert-block alert-success\">\n",
    "<b>Question:</b> Is binarizing this particular dataset useful? Explain briefly why we should or shouldn't binarize this dataset!\n",
    "</div>\n",
    "<div class=\"alert alert-block alert-success\">\n",
    "<b>Answer:</b> it's not usefull to binearise the whole dataset because we have different attributes with different units. So its not usefull to set a threshold </div>"
   ]
  },
  {
   "cell_type": "markdown",
   "metadata": {},
   "source": [
    "# 6 Wrap up\n",
    "\n",
    "In this session you have seen how you can properly read, understand and prepare data. This is a very important step before algorithms come into play. Remember that your algorithm can only perform well, if you have proper data!"
   ]
  },
  {
   "cell_type": "markdown",
   "metadata": {},
   "source": [
    "<div class=\"alert alert-block alert-success\">\n",
    "<b>Task:</b> \n",
    "    <ul>\n",
    "        <li>Summarize in three to five sentences what methods you have learned today\n",
    "        <li>Make two statements about the dataset, for example the more children a person has, the older the person is on average.\n",
    "        <li>You may use some plots or prints if you want to.\n",
    "    </ul>\n",
    "</div>\n",
    "<div class=\"alert alert-block alert-success\">\n",
    "<b>Answer:</b>\n",
    "At first we've learned how to how to load data from csv files,skipping empty rows , convert strings to floats/intergers and load data with panda. Then we used panda to get a quick overwiew on the data and find correlations between the different attributes. After that we used the Panda library to visualize our data in order to get a better understanding and to see more correlations. The next step was preparing our data for our machine learning algorithm by standardizing and normalizing our dataset manually. At last we used a method from the sklearn library to speed up the procces from before, additionally we binarized and we normalized the dataset with a different norm.  \n",
    "\n",
    "    \n",
    "\n",
    "</div>"
   ]
  },
  {
   "cell_type": "code",
   "execution_count": 128,
   "metadata": {},
   "outputs": [
    {
     "data": {
      "text/html": [
       "<style  type=\"text/css\" >\n",
       "    #T_9a8a9648_3b31_11ec_a539_309c23d4954erow0_col0 {\n",
       "            background-color:  #b40426;\n",
       "            color:  #f1f1f1;\n",
       "        }    #T_9a8a9648_3b31_11ec_a539_309c23d4954erow0_col1 {\n",
       "            background-color:  #516ddb;\n",
       "            color:  #000000;\n",
       "        }    #T_9a8a9648_3b31_11ec_a539_309c23d4954erow0_col2 {\n",
       "            background-color:  #5a78e4;\n",
       "            color:  #000000;\n",
       "        }    #T_9a8a9648_3b31_11ec_a539_309c23d4954erow0_col3 {\n",
       "            background-color:  #4358cb;\n",
       "            color:  #f1f1f1;\n",
       "        }    #T_9a8a9648_3b31_11ec_a539_309c23d4954erow0_col4 {\n",
       "            background-color:  #3b4cc0;\n",
       "            color:  #f1f1f1;\n",
       "        }    #T_9a8a9648_3b31_11ec_a539_309c23d4954erow0_col5 {\n",
       "            background-color:  #3b4cc0;\n",
       "            color:  #f1f1f1;\n",
       "        }    #T_9a8a9648_3b31_11ec_a539_309c23d4954erow0_col6 {\n",
       "            background-color:  #3b4cc0;\n",
       "            color:  #f1f1f1;\n",
       "        }    #T_9a8a9648_3b31_11ec_a539_309c23d4954erow0_col7 {\n",
       "            background-color:  #f1cdba;\n",
       "            color:  #000000;\n",
       "        }    #T_9a8a9648_3b31_11ec_a539_309c23d4954erow0_col8 {\n",
       "            background-color:  #6f92f3;\n",
       "            color:  #000000;\n",
       "        }    #T_9a8a9648_3b31_11ec_a539_309c23d4954erow1_col0 {\n",
       "            background-color:  #799cf8;\n",
       "            color:  #000000;\n",
       "        }    #T_9a8a9648_3b31_11ec_a539_309c23d4954erow1_col1 {\n",
       "            background-color:  #b40426;\n",
       "            color:  #f1f1f1;\n",
       "        }    #T_9a8a9648_3b31_11ec_a539_309c23d4954erow1_col2 {\n",
       "            background-color:  #5e7de7;\n",
       "            color:  #000000;\n",
       "        }    #T_9a8a9648_3b31_11ec_a539_309c23d4954erow1_col3 {\n",
       "            background-color:  #6b8df0;\n",
       "            color:  #000000;\n",
       "        }    #T_9a8a9648_3b31_11ec_a539_309c23d4954erow1_col4 {\n",
       "            background-color:  #b9d0f9;\n",
       "            color:  #000000;\n",
       "        }    #T_9a8a9648_3b31_11ec_a539_309c23d4954erow1_col5 {\n",
       "            background-color:  #7ea1fa;\n",
       "            color:  #000000;\n",
       "        }    #T_9a8a9648_3b31_11ec_a539_309c23d4954erow1_col6 {\n",
       "            background-color:  #6f92f3;\n",
       "            color:  #000000;\n",
       "        }    #T_9a8a9648_3b31_11ec_a539_309c23d4954erow1_col7 {\n",
       "            background-color:  #abc8fd;\n",
       "            color:  #000000;\n",
       "        }    #T_9a8a9648_3b31_11ec_a539_309c23d4954erow1_col8 {\n",
       "            background-color:  #c9d7f0;\n",
       "            color:  #000000;\n",
       "        }    #T_9a8a9648_3b31_11ec_a539_309c23d4954erow2_col0 {\n",
       "            background-color:  #7da0f9;\n",
       "            color:  #000000;\n",
       "        }    #T_9a8a9648_3b31_11ec_a539_309c23d4954erow2_col1 {\n",
       "            background-color:  #5977e3;\n",
       "            color:  #000000;\n",
       "        }    #T_9a8a9648_3b31_11ec_a539_309c23d4954erow2_col2 {\n",
       "            background-color:  #b40426;\n",
       "            color:  #f1f1f1;\n",
       "        }    #T_9a8a9648_3b31_11ec_a539_309c23d4954erow2_col3 {\n",
       "            background-color:  #9abbff;\n",
       "            color:  #000000;\n",
       "        }    #T_9a8a9648_3b31_11ec_a539_309c23d4954erow2_col4 {\n",
       "            background-color:  #6a8bef;\n",
       "            color:  #000000;\n",
       "        }    #T_9a8a9648_3b31_11ec_a539_309c23d4954erow2_col5 {\n",
       "            background-color:  #93b5fe;\n",
       "            color:  #000000;\n",
       "        }    #T_9a8a9648_3b31_11ec_a539_309c23d4954erow2_col6 {\n",
       "            background-color:  #506bda;\n",
       "            color:  #000000;\n",
       "        }    #T_9a8a9648_3b31_11ec_a539_309c23d4954erow2_col7 {\n",
       "            background-color:  #a5c3fe;\n",
       "            color:  #000000;\n",
       "        }    #T_9a8a9648_3b31_11ec_a539_309c23d4954erow2_col8 {\n",
       "            background-color:  #3b4cc0;\n",
       "            color:  #f1f1f1;\n",
       "        }    #T_9a8a9648_3b31_11ec_a539_309c23d4954erow3_col0 {\n",
       "            background-color:  #3b4cc0;\n",
       "            color:  #f1f1f1;\n",
       "        }    #T_9a8a9648_3b31_11ec_a539_309c23d4954erow3_col1 {\n",
       "            background-color:  #3b4cc0;\n",
       "            color:  #f1f1f1;\n",
       "        }    #T_9a8a9648_3b31_11ec_a539_309c23d4954erow3_col2 {\n",
       "            background-color:  #7295f4;\n",
       "            color:  #000000;\n",
       "        }    #T_9a8a9648_3b31_11ec_a539_309c23d4954erow3_col3 {\n",
       "            background-color:  #b40426;\n",
       "            color:  #f1f1f1;\n",
       "        }    #T_9a8a9648_3b31_11ec_a539_309c23d4954erow3_col4 {\n",
       "            background-color:  #d6dce4;\n",
       "            color:  #000000;\n",
       "        }    #T_9a8a9648_3b31_11ec_a539_309c23d4954erow3_col5 {\n",
       "            background-color:  #bad0f8;\n",
       "            color:  #000000;\n",
       "        }    #T_9a8a9648_3b31_11ec_a539_309c23d4954erow3_col6 {\n",
       "            background-color:  #7ea1fa;\n",
       "            color:  #000000;\n",
       "        }    #T_9a8a9648_3b31_11ec_a539_309c23d4954erow3_col7 {\n",
       "            background-color:  #3b4cc0;\n",
       "            color:  #f1f1f1;\n",
       "        }    #T_9a8a9648_3b31_11ec_a539_309c23d4954erow3_col8 {\n",
       "            background-color:  #3d50c3;\n",
       "            color:  #f1f1f1;\n",
       "        }    #T_9a8a9648_3b31_11ec_a539_309c23d4954erow4_col0 {\n",
       "            background-color:  #3c4ec2;\n",
       "            color:  #f1f1f1;\n",
       "        }    #T_9a8a9648_3b31_11ec_a539_309c23d4954erow4_col1 {\n",
       "            background-color:  #9bbcff;\n",
       "            color:  #000000;\n",
       "        }    #T_9a8a9648_3b31_11ec_a539_309c23d4954erow4_col2 {\n",
       "            background-color:  #4961d2;\n",
       "            color:  #f1f1f1;\n",
       "        }    #T_9a8a9648_3b31_11ec_a539_309c23d4954erow4_col3 {\n",
       "            background-color:  #dbdcde;\n",
       "            color:  #000000;\n",
       "        }    #T_9a8a9648_3b31_11ec_a539_309c23d4954erow4_col4 {\n",
       "            background-color:  #b40426;\n",
       "            color:  #f1f1f1;\n",
       "        }    #T_9a8a9648_3b31_11ec_a539_309c23d4954erow4_col5 {\n",
       "            background-color:  #7597f6;\n",
       "            color:  #000000;\n",
       "        }    #T_9a8a9648_3b31_11ec_a539_309c23d4954erow4_col6 {\n",
       "            background-color:  #80a3fa;\n",
       "            color:  #000000;\n",
       "        }    #T_9a8a9648_3b31_11ec_a539_309c23d4954erow4_col7 {\n",
       "            background-color:  #4e68d8;\n",
       "            color:  #000000;\n",
       "        }    #T_9a8a9648_3b31_11ec_a539_309c23d4954erow4_col8 {\n",
       "            background-color:  #4f69d9;\n",
       "            color:  #000000;\n",
       "        }    #T_9a8a9648_3b31_11ec_a539_309c23d4954erow5_col0 {\n",
       "            background-color:  #5673e0;\n",
       "            color:  #000000;\n",
       "        }    #T_9a8a9648_3b31_11ec_a539_309c23d4954erow5_col1 {\n",
       "            background-color:  #7295f4;\n",
       "            color:  #000000;\n",
       "        }    #T_9a8a9648_3b31_11ec_a539_309c23d4954erow5_col2 {\n",
       "            background-color:  #8db0fe;\n",
       "            color:  #000000;\n",
       "        }    #T_9a8a9648_3b31_11ec_a539_309c23d4954erow5_col3 {\n",
       "            background-color:  #d1dae9;\n",
       "            color:  #000000;\n",
       "        }    #T_9a8a9648_3b31_11ec_a539_309c23d4954erow5_col4 {\n",
       "            background-color:  #8db0fe;\n",
       "            color:  #000000;\n",
       "        }    #T_9a8a9648_3b31_11ec_a539_309c23d4954erow5_col5 {\n",
       "            background-color:  #b40426;\n",
       "            color:  #f1f1f1;\n",
       "        }    #T_9a8a9648_3b31_11ec_a539_309c23d4954erow5_col6 {\n",
       "            background-color:  #7093f3;\n",
       "            color:  #000000;\n",
       "        }    #T_9a8a9648_3b31_11ec_a539_309c23d4954erow5_col7 {\n",
       "            background-color:  #6485ec;\n",
       "            color:  #000000;\n",
       "        }    #T_9a8a9648_3b31_11ec_a539_309c23d4954erow5_col8 {\n",
       "            background-color:  #8badfd;\n",
       "            color:  #000000;\n",
       "        }    #T_9a8a9648_3b31_11ec_a539_309c23d4954erow6_col0 {\n",
       "            background-color:  #485fd1;\n",
       "            color:  #f1f1f1;\n",
       "        }    #T_9a8a9648_3b31_11ec_a539_309c23d4954erow6_col1 {\n",
       "            background-color:  #5470de;\n",
       "            color:  #000000;\n",
       "        }    #T_9a8a9648_3b31_11ec_a539_309c23d4954erow6_col2 {\n",
       "            background-color:  #3b4cc0;\n",
       "            color:  #f1f1f1;\n",
       "        }    #T_9a8a9648_3b31_11ec_a539_309c23d4954erow6_col3 {\n",
       "            background-color:  #93b5fe;\n",
       "            color:  #000000;\n",
       "        }    #T_9a8a9648_3b31_11ec_a539_309c23d4954erow6_col4 {\n",
       "            background-color:  #89acfd;\n",
       "            color:  #000000;\n",
       "        }    #T_9a8a9648_3b31_11ec_a539_309c23d4954erow6_col5 {\n",
       "            background-color:  #6282ea;\n",
       "            color:  #000000;\n",
       "        }    #T_9a8a9648_3b31_11ec_a539_309c23d4954erow6_col6 {\n",
       "            background-color:  #b40426;\n",
       "            color:  #f1f1f1;\n",
       "        }    #T_9a8a9648_3b31_11ec_a539_309c23d4954erow6_col7 {\n",
       "            background-color:  #6384eb;\n",
       "            color:  #000000;\n",
       "        }    #T_9a8a9648_3b31_11ec_a539_309c23d4954erow6_col8 {\n",
       "            background-color:  #5e7de7;\n",
       "            color:  #000000;\n",
       "        }    #T_9a8a9648_3b31_11ec_a539_309c23d4954erow7_col0 {\n",
       "            background-color:  #efcfbf;\n",
       "            color:  #000000;\n",
       "        }    #T_9a8a9648_3b31_11ec_a539_309c23d4954erow7_col1 {\n",
       "            background-color:  #81a4fb;\n",
       "            color:  #000000;\n",
       "        }    #T_9a8a9648_3b31_11ec_a539_309c23d4954erow7_col2 {\n",
       "            background-color:  #7da0f9;\n",
       "            color:  #000000;\n",
       "        }    #T_9a8a9648_3b31_11ec_a539_309c23d4954erow7_col3 {\n",
       "            background-color:  #3b4cc0;\n",
       "            color:  #f1f1f1;\n",
       "        }    #T_9a8a9648_3b31_11ec_a539_309c23d4954erow7_col4 {\n",
       "            background-color:  #4358cb;\n",
       "            color:  #f1f1f1;\n",
       "        }    #T_9a8a9648_3b31_11ec_a539_309c23d4954erow7_col5 {\n",
       "            background-color:  #3f53c6;\n",
       "            color:  #f1f1f1;\n",
       "        }    #T_9a8a9648_3b31_11ec_a539_309c23d4954erow7_col6 {\n",
       "            background-color:  #4e68d8;\n",
       "            color:  #000000;\n",
       "        }    #T_9a8a9648_3b31_11ec_a539_309c23d4954erow7_col7 {\n",
       "            background-color:  #b40426;\n",
       "            color:  #f1f1f1;\n",
       "        }    #T_9a8a9648_3b31_11ec_a539_309c23d4954erow7_col8 {\n",
       "            background-color:  #7699f6;\n",
       "            color:  #000000;\n",
       "        }    #T_9a8a9648_3b31_11ec_a539_309c23d4954erow8_col0 {\n",
       "            background-color:  #97b8ff;\n",
       "            color:  #000000;\n",
       "        }    #T_9a8a9648_3b31_11ec_a539_309c23d4954erow8_col1 {\n",
       "            background-color:  #cbd8ee;\n",
       "            color:  #000000;\n",
       "        }    #T_9a8a9648_3b31_11ec_a539_309c23d4954erow8_col2 {\n",
       "            background-color:  #4257c9;\n",
       "            color:  #f1f1f1;\n",
       "        }    #T_9a8a9648_3b31_11ec_a539_309c23d4954erow8_col3 {\n",
       "            background-color:  #7093f3;\n",
       "            color:  #000000;\n",
       "        }    #T_9a8a9648_3b31_11ec_a539_309c23d4954erow8_col4 {\n",
       "            background-color:  #779af7;\n",
       "            color:  #000000;\n",
       "        }    #T_9a8a9648_3b31_11ec_a539_309c23d4954erow8_col5 {\n",
       "            background-color:  #97b8ff;\n",
       "            color:  #000000;\n",
       "        }    #T_9a8a9648_3b31_11ec_a539_309c23d4954erow8_col6 {\n",
       "            background-color:  #7b9ff9;\n",
       "            color:  #000000;\n",
       "        }    #T_9a8a9648_3b31_11ec_a539_309c23d4954erow8_col7 {\n",
       "            background-color:  #a3c2fe;\n",
       "            color:  #000000;\n",
       "        }    #T_9a8a9648_3b31_11ec_a539_309c23d4954erow8_col8 {\n",
       "            background-color:  #b40426;\n",
       "            color:  #f1f1f1;\n",
       "        }</style><table id=\"T_9a8a9648_3b31_11ec_a539_309c23d4954e\" ><thead>    <tr>        <th class=\"blank level0\" ></th>        <th class=\"col_heading level0 col0\" >preg</th>        <th class=\"col_heading level0 col1\" >plas</th>        <th class=\"col_heading level0 col2\" >pres</th>        <th class=\"col_heading level0 col3\" >skin</th>        <th class=\"col_heading level0 col4\" >test</th>        <th class=\"col_heading level0 col5\" >mass</th>        <th class=\"col_heading level0 col6\" >pedi</th>        <th class=\"col_heading level0 col7\" >age</th>        <th class=\"col_heading level0 col8\" >class</th>    </tr></thead><tbody>\n",
       "                <tr>\n",
       "                        <th id=\"T_9a8a9648_3b31_11ec_a539_309c23d4954elevel0_row0\" class=\"row_heading level0 row0\" >preg</th>\n",
       "                        <td id=\"T_9a8a9648_3b31_11ec_a539_309c23d4954erow0_col0\" class=\"data row0 col0\" >1</td>\n",
       "                        <td id=\"T_9a8a9648_3b31_11ec_a539_309c23d4954erow0_col1\" class=\"data row0 col1\" >0.129</td>\n",
       "                        <td id=\"T_9a8a9648_3b31_11ec_a539_309c23d4954erow0_col2\" class=\"data row0 col2\" >0.141</td>\n",
       "                        <td id=\"T_9a8a9648_3b31_11ec_a539_309c23d4954erow0_col3\" class=\"data row0 col3\" >-0.0817</td>\n",
       "                        <td id=\"T_9a8a9648_3b31_11ec_a539_309c23d4954erow0_col4\" class=\"data row0 col4\" >-0.0735</td>\n",
       "                        <td id=\"T_9a8a9648_3b31_11ec_a539_309c23d4954erow0_col5\" class=\"data row0 col5\" >0.0177</td>\n",
       "                        <td id=\"T_9a8a9648_3b31_11ec_a539_309c23d4954erow0_col6\" class=\"data row0 col6\" >-0.0335</td>\n",
       "                        <td id=\"T_9a8a9648_3b31_11ec_a539_309c23d4954erow0_col7\" class=\"data row0 col7\" >0.544</td>\n",
       "                        <td id=\"T_9a8a9648_3b31_11ec_a539_309c23d4954erow0_col8\" class=\"data row0 col8\" >0.222</td>\n",
       "            </tr>\n",
       "            <tr>\n",
       "                        <th id=\"T_9a8a9648_3b31_11ec_a539_309c23d4954elevel0_row1\" class=\"row_heading level0 row1\" >plas</th>\n",
       "                        <td id=\"T_9a8a9648_3b31_11ec_a539_309c23d4954erow1_col0\" class=\"data row1 col0\" >0.129</td>\n",
       "                        <td id=\"T_9a8a9648_3b31_11ec_a539_309c23d4954erow1_col1\" class=\"data row1 col1\" >1</td>\n",
       "                        <td id=\"T_9a8a9648_3b31_11ec_a539_309c23d4954erow1_col2\" class=\"data row1 col2\" >0.153</td>\n",
       "                        <td id=\"T_9a8a9648_3b31_11ec_a539_309c23d4954erow1_col3\" class=\"data row1 col3\" >0.0573</td>\n",
       "                        <td id=\"T_9a8a9648_3b31_11ec_a539_309c23d4954erow1_col4\" class=\"data row1 col4\" >0.331</td>\n",
       "                        <td id=\"T_9a8a9648_3b31_11ec_a539_309c23d4954erow1_col5\" class=\"data row1 col5\" >0.221</td>\n",
       "                        <td id=\"T_9a8a9648_3b31_11ec_a539_309c23d4954erow1_col6\" class=\"data row1 col6\" >0.137</td>\n",
       "                        <td id=\"T_9a8a9648_3b31_11ec_a539_309c23d4954erow1_col7\" class=\"data row1 col7\" >0.264</td>\n",
       "                        <td id=\"T_9a8a9648_3b31_11ec_a539_309c23d4954erow1_col8\" class=\"data row1 col8\" >0.467</td>\n",
       "            </tr>\n",
       "            <tr>\n",
       "                        <th id=\"T_9a8a9648_3b31_11ec_a539_309c23d4954elevel0_row2\" class=\"row_heading level0 row2\" >pres</th>\n",
       "                        <td id=\"T_9a8a9648_3b31_11ec_a539_309c23d4954erow2_col0\" class=\"data row2 col0\" >0.141</td>\n",
       "                        <td id=\"T_9a8a9648_3b31_11ec_a539_309c23d4954erow2_col1\" class=\"data row2 col1\" >0.153</td>\n",
       "                        <td id=\"T_9a8a9648_3b31_11ec_a539_309c23d4954erow2_col2\" class=\"data row2 col2\" >1</td>\n",
       "                        <td id=\"T_9a8a9648_3b31_11ec_a539_309c23d4954erow2_col3\" class=\"data row2 col3\" >0.207</td>\n",
       "                        <td id=\"T_9a8a9648_3b31_11ec_a539_309c23d4954erow2_col4\" class=\"data row2 col4\" >0.0889</td>\n",
       "                        <td id=\"T_9a8a9648_3b31_11ec_a539_309c23d4954erow2_col5\" class=\"data row2 col5\" >0.282</td>\n",
       "                        <td id=\"T_9a8a9648_3b31_11ec_a539_309c23d4954erow2_col6\" class=\"data row2 col6\" >0.0413</td>\n",
       "                        <td id=\"T_9a8a9648_3b31_11ec_a539_309c23d4954erow2_col7\" class=\"data row2 col7\" >0.24</td>\n",
       "                        <td id=\"T_9a8a9648_3b31_11ec_a539_309c23d4954erow2_col8\" class=\"data row2 col8\" >0.0651</td>\n",
       "            </tr>\n",
       "            <tr>\n",
       "                        <th id=\"T_9a8a9648_3b31_11ec_a539_309c23d4954elevel0_row3\" class=\"row_heading level0 row3\" >skin</th>\n",
       "                        <td id=\"T_9a8a9648_3b31_11ec_a539_309c23d4954erow3_col0\" class=\"data row3 col0\" >-0.0817</td>\n",
       "                        <td id=\"T_9a8a9648_3b31_11ec_a539_309c23d4954erow3_col1\" class=\"data row3 col1\" >0.0573</td>\n",
       "                        <td id=\"T_9a8a9648_3b31_11ec_a539_309c23d4954erow3_col2\" class=\"data row3 col2\" >0.207</td>\n",
       "                        <td id=\"T_9a8a9648_3b31_11ec_a539_309c23d4954erow3_col3\" class=\"data row3 col3\" >1</td>\n",
       "                        <td id=\"T_9a8a9648_3b31_11ec_a539_309c23d4954erow3_col4\" class=\"data row3 col4\" >0.437</td>\n",
       "                        <td id=\"T_9a8a9648_3b31_11ec_a539_309c23d4954erow3_col5\" class=\"data row3 col5\" >0.393</td>\n",
       "                        <td id=\"T_9a8a9648_3b31_11ec_a539_309c23d4954erow3_col6\" class=\"data row3 col6\" >0.184</td>\n",
       "                        <td id=\"T_9a8a9648_3b31_11ec_a539_309c23d4954erow3_col7\" class=\"data row3 col7\" >-0.114</td>\n",
       "                        <td id=\"T_9a8a9648_3b31_11ec_a539_309c23d4954erow3_col8\" class=\"data row3 col8\" >0.0748</td>\n",
       "            </tr>\n",
       "            <tr>\n",
       "                        <th id=\"T_9a8a9648_3b31_11ec_a539_309c23d4954elevel0_row4\" class=\"row_heading level0 row4\" >test</th>\n",
       "                        <td id=\"T_9a8a9648_3b31_11ec_a539_309c23d4954erow4_col0\" class=\"data row4 col0\" >-0.0735</td>\n",
       "                        <td id=\"T_9a8a9648_3b31_11ec_a539_309c23d4954erow4_col1\" class=\"data row4 col1\" >0.331</td>\n",
       "                        <td id=\"T_9a8a9648_3b31_11ec_a539_309c23d4954erow4_col2\" class=\"data row4 col2\" >0.0889</td>\n",
       "                        <td id=\"T_9a8a9648_3b31_11ec_a539_309c23d4954erow4_col3\" class=\"data row4 col3\" >0.437</td>\n",
       "                        <td id=\"T_9a8a9648_3b31_11ec_a539_309c23d4954erow4_col4\" class=\"data row4 col4\" >1</td>\n",
       "                        <td id=\"T_9a8a9648_3b31_11ec_a539_309c23d4954erow4_col5\" class=\"data row4 col5\" >0.198</td>\n",
       "                        <td id=\"T_9a8a9648_3b31_11ec_a539_309c23d4954erow4_col6\" class=\"data row4 col6\" >0.185</td>\n",
       "                        <td id=\"T_9a8a9648_3b31_11ec_a539_309c23d4954erow4_col7\" class=\"data row4 col7\" >-0.0422</td>\n",
       "                        <td id=\"T_9a8a9648_3b31_11ec_a539_309c23d4954erow4_col8\" class=\"data row4 col8\" >0.131</td>\n",
       "            </tr>\n",
       "            <tr>\n",
       "                        <th id=\"T_9a8a9648_3b31_11ec_a539_309c23d4954elevel0_row5\" class=\"row_heading level0 row5\" >mass</th>\n",
       "                        <td id=\"T_9a8a9648_3b31_11ec_a539_309c23d4954erow5_col0\" class=\"data row5 col0\" >0.0177</td>\n",
       "                        <td id=\"T_9a8a9648_3b31_11ec_a539_309c23d4954erow5_col1\" class=\"data row5 col1\" >0.221</td>\n",
       "                        <td id=\"T_9a8a9648_3b31_11ec_a539_309c23d4954erow5_col2\" class=\"data row5 col2\" >0.282</td>\n",
       "                        <td id=\"T_9a8a9648_3b31_11ec_a539_309c23d4954erow5_col3\" class=\"data row5 col3\" >0.393</td>\n",
       "                        <td id=\"T_9a8a9648_3b31_11ec_a539_309c23d4954erow5_col4\" class=\"data row5 col4\" >0.198</td>\n",
       "                        <td id=\"T_9a8a9648_3b31_11ec_a539_309c23d4954erow5_col5\" class=\"data row5 col5\" >1</td>\n",
       "                        <td id=\"T_9a8a9648_3b31_11ec_a539_309c23d4954erow5_col6\" class=\"data row5 col6\" >0.141</td>\n",
       "                        <td id=\"T_9a8a9648_3b31_11ec_a539_309c23d4954erow5_col7\" class=\"data row5 col7\" >0.0362</td>\n",
       "                        <td id=\"T_9a8a9648_3b31_11ec_a539_309c23d4954erow5_col8\" class=\"data row5 col8\" >0.293</td>\n",
       "            </tr>\n",
       "            <tr>\n",
       "                        <th id=\"T_9a8a9648_3b31_11ec_a539_309c23d4954elevel0_row6\" class=\"row_heading level0 row6\" >pedi</th>\n",
       "                        <td id=\"T_9a8a9648_3b31_11ec_a539_309c23d4954erow6_col0\" class=\"data row6 col0\" >-0.0335</td>\n",
       "                        <td id=\"T_9a8a9648_3b31_11ec_a539_309c23d4954erow6_col1\" class=\"data row6 col1\" >0.137</td>\n",
       "                        <td id=\"T_9a8a9648_3b31_11ec_a539_309c23d4954erow6_col2\" class=\"data row6 col2\" >0.0413</td>\n",
       "                        <td id=\"T_9a8a9648_3b31_11ec_a539_309c23d4954erow6_col3\" class=\"data row6 col3\" >0.184</td>\n",
       "                        <td id=\"T_9a8a9648_3b31_11ec_a539_309c23d4954erow6_col4\" class=\"data row6 col4\" >0.185</td>\n",
       "                        <td id=\"T_9a8a9648_3b31_11ec_a539_309c23d4954erow6_col5\" class=\"data row6 col5\" >0.141</td>\n",
       "                        <td id=\"T_9a8a9648_3b31_11ec_a539_309c23d4954erow6_col6\" class=\"data row6 col6\" >1</td>\n",
       "                        <td id=\"T_9a8a9648_3b31_11ec_a539_309c23d4954erow6_col7\" class=\"data row6 col7\" >0.0336</td>\n",
       "                        <td id=\"T_9a8a9648_3b31_11ec_a539_309c23d4954erow6_col8\" class=\"data row6 col8\" >0.174</td>\n",
       "            </tr>\n",
       "            <tr>\n",
       "                        <th id=\"T_9a8a9648_3b31_11ec_a539_309c23d4954elevel0_row7\" class=\"row_heading level0 row7\" >age</th>\n",
       "                        <td id=\"T_9a8a9648_3b31_11ec_a539_309c23d4954erow7_col0\" class=\"data row7 col0\" >0.544</td>\n",
       "                        <td id=\"T_9a8a9648_3b31_11ec_a539_309c23d4954erow7_col1\" class=\"data row7 col1\" >0.264</td>\n",
       "                        <td id=\"T_9a8a9648_3b31_11ec_a539_309c23d4954erow7_col2\" class=\"data row7 col2\" >0.24</td>\n",
       "                        <td id=\"T_9a8a9648_3b31_11ec_a539_309c23d4954erow7_col3\" class=\"data row7 col3\" >-0.114</td>\n",
       "                        <td id=\"T_9a8a9648_3b31_11ec_a539_309c23d4954erow7_col4\" class=\"data row7 col4\" >-0.0422</td>\n",
       "                        <td id=\"T_9a8a9648_3b31_11ec_a539_309c23d4954erow7_col5\" class=\"data row7 col5\" >0.0362</td>\n",
       "                        <td id=\"T_9a8a9648_3b31_11ec_a539_309c23d4954erow7_col6\" class=\"data row7 col6\" >0.0336</td>\n",
       "                        <td id=\"T_9a8a9648_3b31_11ec_a539_309c23d4954erow7_col7\" class=\"data row7 col7\" >1</td>\n",
       "                        <td id=\"T_9a8a9648_3b31_11ec_a539_309c23d4954erow7_col8\" class=\"data row7 col8\" >0.238</td>\n",
       "            </tr>\n",
       "            <tr>\n",
       "                        <th id=\"T_9a8a9648_3b31_11ec_a539_309c23d4954elevel0_row8\" class=\"row_heading level0 row8\" >class</th>\n",
       "                        <td id=\"T_9a8a9648_3b31_11ec_a539_309c23d4954erow8_col0\" class=\"data row8 col0\" >0.222</td>\n",
       "                        <td id=\"T_9a8a9648_3b31_11ec_a539_309c23d4954erow8_col1\" class=\"data row8 col1\" >0.467</td>\n",
       "                        <td id=\"T_9a8a9648_3b31_11ec_a539_309c23d4954erow8_col2\" class=\"data row8 col2\" >0.0651</td>\n",
       "                        <td id=\"T_9a8a9648_3b31_11ec_a539_309c23d4954erow8_col3\" class=\"data row8 col3\" >0.0748</td>\n",
       "                        <td id=\"T_9a8a9648_3b31_11ec_a539_309c23d4954erow8_col4\" class=\"data row8 col4\" >0.131</td>\n",
       "                        <td id=\"T_9a8a9648_3b31_11ec_a539_309c23d4954erow8_col5\" class=\"data row8 col5\" >0.293</td>\n",
       "                        <td id=\"T_9a8a9648_3b31_11ec_a539_309c23d4954erow8_col6\" class=\"data row8 col6\" >0.174</td>\n",
       "                        <td id=\"T_9a8a9648_3b31_11ec_a539_309c23d4954erow8_col7\" class=\"data row8 col7\" >0.238</td>\n",
       "                        <td id=\"T_9a8a9648_3b31_11ec_a539_309c23d4954erow8_col8\" class=\"data row8 col8\" >1</td>\n",
       "            </tr>\n",
       "    </tbody></table>"
      ],
      "text/plain": [
       "<pandas.io.formats.style.Styler at 0x1b1ce4bcb38>"
      ]
     },
     "execution_count": 128,
     "metadata": {},
     "output_type": "execute_result"
    }
   ],
   "source": [
    "correlations.style.background_gradient(cmap ='coolwarm')"
   ]
  },
  {
   "cell_type": "code",
   "execution_count": 130,
   "metadata": {},
   "outputs": [
    {
     "data": {
      "image/png": "[encoded data removed]",
      "text/plain": [
       "<Figure size 432x288 with 81 Axes>"
      ]
     },
     "metadata": {
      "needs_background": "light"
     },
     "output_type": "display_data"
    }
   ],
   "source": [
    "pd.plotting.scatter_matrix(data, alpha=0.5)\n",
    "plt.show()"
   ]
  },
  {
   "cell_type": "code",
   "execution_count": null,
   "metadata": {},
   "outputs": [],
   "source": []
  }
 ],
 "metadata": {
  "interpreter": {
   "hash": "83ba11a6a2c2c1d1a57e5e709143b398122ace0b3b5cfdc560826bd5bb2b1da5"
  },
  "kernelspec": {
   "display_name": "Python 3 (ipykernel)",
   "language": "python",
   "name": "python3"
  },
  "language_info": {
   "codemirror_mode": {
    "name": "ipython",
    "version": 3
   },
   "file_extension": ".py",
   "mimetype": "text/x-python",
   "name": "python",
   "nbconvert_exporter": "python",
   "pygments_lexer": "ipython3",
   "version": "3.7.11"
  },
  "metadata": {
   "interpreter": {
    "hash": "ac59ebe37160ed0dfa835113d9b8498d9f09ceb179beaac4002f036b9467c963"
   }
  },
  "toc": {
   "base_numbering": 1,
   "nav_menu": {},
   "number_sections": true,
   "sideBar": true,
   "skip_h1_title": false,
   "title_cell": "Table of Contents",
   "title_sidebar": "Contents",
   "toc_cell": false,
   "toc_position": {
    "height": "792px",
    "left": "280px",
    "top": "111.133px",
    "width": "262.4px"
   },
   "toc_section_display": true,
   "toc_window_display": true
  }
 },
 "nbformat": 4,
 "nbformat_minor": 2
}
