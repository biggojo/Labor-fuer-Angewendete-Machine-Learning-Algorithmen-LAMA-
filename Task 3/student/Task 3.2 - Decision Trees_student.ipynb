{
 "cells": [
  {
   "cell_type": "markdown",
   "metadata": {},
   "source": [
    "# Introduction\n",
    "\n",
    "Decision trees are the building blocks of some of the most powerful **supervised learning** e.g. having a pre-defined target variable methods that are used today. if you have ever had to diagnose a problem with an appliance, car or a computer, there is a good chance you have encountered a troubleshooting flowchart. Flow diagrams are actually visual representations of decision trees. For example, Higher School of Economics publishes information diagrams to make the lives of its employees easier. Here is a snippet of instructions for publishing a paper on the Institution portal. \n",
    "<img src=\"images/snipped.png\">"
   ]
  },
  {
   "cell_type": "markdown",
   "metadata": {},
   "source": [
    "# Classification and Regression Trees (CART)\n",
    "\n",
    "Classification and Regression Trees is an acronym introduced by Leo Breiman in 1984 to refer to Decision Tree algorithms that can be used for predictive modeling problems. We will focus on the CART algorithm in this tutorial."
   ]
  },
  {
   "cell_type": "markdown",
   "metadata": {},
   "source": [
    "## CART\n",
    "\n",
    "The representation of the CART model is a binary decision tree. This is the same binary tree from algorithms and data structures (each node can have zero, one or two child nodes).\n",
    "\n",
    "A node represents a single input variable (X) and a split point on that variable, assuming the variable is numeric. The leaf or terminal nodes of the tree contain an output variable (Y) which is used to make a prediction. \n",
    "\n",
    "Creating a binary decision tree is actually a process of dividing up the input space. The so-called recursive binary splitting is used to separate the input space (greedy approach). This is a numerical procedure where all the values are lined up and different split points are tried and tested using a cost function.\n",
    "\n",
    "The split with the best cost (lowest cost because we minimize costs) is selected. All input variables and all possible split points are evaluated and chosen in a greedy manner based on the cost function.\n",
    "\n",
    "- **Regression:** The cost function that is minimized to choose split points is the **sum squared error** across all training samples that fall within the rectangle.\n",
    "\n",
    "- **Classification:** The *Gini* cost function is used which provides an indication of how pure the nodes are, where node purity refers to how mixed the training data assigned to each node is.\n",
    "\n",
    "Splitting continues until nodes contain a minimum number of training examples or a maximum tree depth is reached.\n",
    "\n",
    "In this exercise we are only focusing on the classification property of the algorithm."
   ]
  },
  {
   "cell_type": "markdown",
   "metadata": {},
   "source": [
    "## Metrics"
   ]
  },
  {
   "cell_type": "markdown",
   "metadata": {},
   "source": [
    "### Gini Index\n",
    "\n",
    "The Gini index is the name of the cost function used to evaluate the splits in the dataset. A split involves one input attribute and one value for that attribute. A Gini score gives an idea of how good a split is by how mixed the classes are in the two groups created by the split. A perfect separation results in a Gini score of 0, whereas the worst split e.g. 50/50 split results in a Gini score of 0.5 for a two class problem.\n",
    "\n",
    "Calculating the gini score is best demonstrated with an example:\n",
    "\n",
    "<img src=\"images/iris_tree.png\">\n",
    "\n",
    "Suppose you find an iris flower and you want to classify it. In the figure above, we start at the *root node*: this node asks wether the flower's pedal length is smaller than 2.45 cm. If it is the case, then we move down to the root's left child node. In this case it is a *leaf node*, because it does not have any children. \n",
    "\n",
    "Now suppose we find another flower with the difference that the petal length is greater than 2.45 cm. We move down to the root's right child node which is not a leaf node. It asks another question: is the petal width smaller than 1.75 cm ? If it is, then our flower is most likely an Iris-Versicolor. If not, it is probably an Iris-Virginica.\n",
    "\n",
    "For example, 100 trainig instances have a petal length greater than 2.45 cm, among which 54 have a petal width smaller than 1.75 cm. A node's value attribute tells us how many training instances of each class this node applies to: the bottom-right node applies to 0 Iris-Setosa, 1 Iris-Versicolor, and 45 Iris-Virginica. According to equation (\\ref{eq1}) the gini score is comupted as followed: $1-(0/54)^2-(49/54)^2-(5/54)^2 = 0.168$.\n",
    "\n",
    "\\begin{equation*}\n",
    "G_i = 1 - \\sum_{k=1}^n p_{i,k}^2\n",
    "\\label{eq1}\\tag{1}\n",
    "\\end{equation*}\n",
    "where $p_{i,k}$ describes the ratio of class k instances among the training instances in the $i^{th}$ node."
   ]
  },
  {
   "cell_type": "markdown",
   "metadata": {},
   "source": [
    "# Imports"
   ]
  },
  {
   "cell_type": "code",
   "execution_count": 85,
   "metadata": {},
   "outputs": [],
   "source": [
    "import pandas as pd\n",
    "import numpy as np\n",
    "\n",
    "%matplotlib inline\n",
    "\n",
    "import matplotlib.pyplot as plt\n",
    "\n",
    "from typing import *"
   ]
  },
  {
   "cell_type": "markdown",
   "metadata": {},
   "source": [
    "# 2 Decision Trees with scikit-learn\n",
    "\n",
    "Now we finally prepared our dataset to be used in Machine Learning algorithms. In the beginning, we outlined the idea of classification and regression with Decision Trees. In the following we will use the scikit-learn implementation of decision trees to perform the binary classification of the Titanic dataset.\n",
    "\n",
    "## 2.1 Decision tree without parameter tuning\n",
    "\n",
    "### 2.1.1 Importing the libraries\n",
    "The first step is to use the algorithm \"as is\" without tuning of any parameters. Therefore import the necessary library/function of scikit-learn that contains the DecisionTreeClassifier. In addition, import the function export_graphviz which will be needed to display the results of decision trees. To evaluate the model we need to generate a train and validation set using the train-test split of scikit-learn. Hence, import the necessary functions. As a baseline for comparing the performance of the trained decision tree, we need to import the DummyClassifier. The DummyClassifer https://scikit-learn.org/stable/modules/generated/sklearn.dummy.DummyClassifier.html is able to classify data points uniformly at random or to always predict the most frequent label in the training set. Import the accuracy score of the package 'metrics' for the evaluation of the classification results.\n"
   ]
  },
  {
   "cell_type": "markdown",
   "metadata": {},
   "source": [
    "<div class=\"alert alert-block alert-success\">\n",
    "<b>Task:</b> Import the functions mentioned in the text above.\n",
    "\n",
    "</li>\n",
    "</ul>\n",
    "</div>"
   ]
  },
  {
   "cell_type": "markdown",
   "metadata": {},
   "source": [
    "<div class=\"alert alert-block alert-info\">\n",
    "<b>Note:</b> If graphviz is not installed, try the following steps.  \n",
    "<ul>\n",
    "<li> 1. Approach: Open anaconda, move to environments and select the one you are currently working on. Then search for graphviz and install it.\n",
    "<li> 2. Approach: Open a terminal within your environment by clicking on the green arrow of your environment. Then:\n",
    "<ul>\n",
    "<li> activate your environment: conda activate environment_name\n",
    "    <li> install graphviz: download it from the official website (https://graphviz.org/download/#windows) and run the installer\n",
    "    <li> install pip: conda install pip (Might be already installed)\n",
    "    <li> install the graphviz package: pip install graphviz\n",
    "    </ul>\n",
    "</li>\n",
    "\n",
    "</ul>\n",
    "<br>\n",
    "\n",
    "</div>"
   ]
  },
  {
   "cell_type": "code",
   "execution_count": 86,
   "metadata": {},
   "outputs": [],
   "source": [
    "# STUDENT CODE HERE (1pt)\n",
    "from sklearn import tree\n",
    "import graphviz \n",
    "from sklearn.dummy import DummyClassifier\n",
    "from sklearn.metrics import accuracy_score\n",
    "from sklearn.tree import export_graphviz, DecisionTreeClassifier \n",
    "# STUDENT CODE until HERE\n",
    "\n",
    "from graphviz import Source "
   ]
  },
  {
   "cell_type": "markdown",
   "metadata": {},
   "source": [
    "### 2.1.2 Generating the Train, Validation and Test set\n",
    "\n",
    "\n",
    "<div class=\"alert alert-block alert-success\">\n",
    "<b>Task:</b> \n",
    "<ul>\n",
    "<li> Load the solution datasets that were prepared by the solution data preparation file (train_prepared.csv,...).\n",
    "<li> Get the column with the label data in both the train and test set and drop it from the datasets.\n",
    "<li>Split the 'train' part of the dataset in 80% training data and 20% validation data. Use parameter random_state = 17 for results reproducibility.\n",
    "<li> Note: You might need the original train set ('train' part before splitting it up into tr/val) later for cross-validation.\n",
    "</ul>\n",
    "    \n",
    "<b>Critical Information:</b> Using supervised learning datasets always consist of Labels and Features. Once you've trained your model, you will give it sets of new input containing features (Age, Sex etc.); it will return the predicted label (Survived) for that person.\\n\n",
    "</div>"
   ]
  },
  {
   "cell_type": "code",
   "execution_count": 87,
   "metadata": {},
   "outputs": [
    {
     "data": {
      "text/plain": [
       "Index(['Pclass', 'Sex', 'Age', 'Parch', 'Fare', 'Name_length', 'Fare_log',\n",
       "       'Fare_bin'],\n",
       "      dtype='object')"
      ]
     },
     "execution_count": 87,
     "metadata": {},
     "output_type": "execute_result"
    }
   ],
   "source": [
    "x_train: pd.DataFrame\n",
    "x_val: pd.DataFrame\n",
    "y_train: pd.Series\n",
    "y_val: pd.Series\n",
    "# STUDENT CODE HERE (2pt)\n",
    "from sklearn.model_selection import train_test_split\n",
    "filename_tr=\"data/train_prepared.csv\"\n",
    "train= pd.read_csv(filename_tr)\n",
    "filename_te=\"data/test_prepared.csv\"\n",
    "test=pd.read_csv(filename_te)\n",
    "\n",
    "names=train.columns.values\n",
    "names_x=['Pclass', 'Sex', 'Age', 'Parch', 'Fare', 'Name_length',\n",
    "       'Fare_log', 'Fare_bin']\n",
    "\n",
    "train_s, val = train_test_split(train, test_size=0.2, random_state=17)\n",
    "array_train=train_s.values\n",
    "array_val=val.values\n",
    "\n",
    "x_train=train_s[['Pclass', 'Sex', 'Age', 'Parch', 'Fare', 'Name_length',\n",
    "       'Fare_log', 'Fare_bin']]\n",
    "x_val=val[['Pclass', 'Sex', 'Age', 'Parch', 'Fare', 'Name_length',\n",
    "       'Fare_log', 'Fare_bin']]\n",
    "y_train=train_s[['Survived']]\n",
    "y_val=val[['Survived']]\n",
    "x_train.columns\n",
    "# STUDENT CODE until HERE"
   ]
  },
  {
   "cell_type": "markdown",
   "metadata": {},
   "source": [
    "### 2.1.3 Validation of the dummy classifier\n",
    "\n",
    "To get an idea whether the classification with the model makes sense, we use the DummyClassifier that decides randomly. \n",
    "\n",
    "<div class=\"alert alert-block alert-success\">\n",
    "<b>Task:</b> \n",
    "<ul>\n",
    "<li> Train the classifier with the corresponding parameter value 'most_frequent' for strategy\n",
    "<li> Use for the parameter random_state = 17 (for results reproducibility)\n",
    "<li> Calculate the accuray to get the classification accuracy on the validation data\n",
    "<li> Hint: Check the website from scikit-learn to import the Classifier, train it, predict with it and calculate the accuracy\n",
    "</ul>\n",
    "</div>"
   ]
  },
  {
   "cell_type": "code",
   "execution_count": 88,
   "metadata": {},
   "outputs": [
    {
     "name": "stdout",
     "output_type": "stream",
     "text": [
      "[0 0 0 0 0 0 0 0 0 0 0 0 0 0 0 0 0 0 0 0 0 0 0 0 0 0 0 0 0 0 0 0 0 0 0 0 0\n",
      " 0 0 0 0 0 0 0 0 0 0 0 0 0 0 0 0 0 0 0 0 0 0 0 0 0 0 0 0 0 0 0 0 0 0 0 0 0\n",
      " 0 0 0 0 0 0 0 0 0 0 0 0 0 0 0 0 0 0 0 0 0 0 0 0 0 0 0 0 0 0 0 0 0 0 0 0 0\n",
      " 0 0 0 0 0 0 0 0 0 0 0 0 0 0 0 0 0 0 0 0 0 0 0 0 0 0 0 0 0 0 0 0 0 0 0 0 0\n",
      " 0 0 0 0 0 0 0 0 0 0 0 0 0 0 0 0 0 0 0 0 0 0 0 0 0 0 0 0 0 0 0]\n"
     ]
    },
    {
     "data": {
      "text/plain": [
       "0.5921787709497207"
      ]
     },
     "execution_count": 88,
     "metadata": {},
     "output_type": "execute_result"
    }
   ],
   "source": [
    "# STUDENT CODE HERE (2pt)\n",
    "\n",
    "dummy_clf = DummyClassifier(strategy=\"most_frequent\",random_state = 17)\n",
    "dummy_clf.fit(x_train, y_train)\n",
    "y_pred=dummy_clf.predict(x_val)\n",
    "print(y_pred)\n",
    "accuracy_score(y_val, y_pred)\n",
    "# STUDENT CODE until HERE"
   ]
  },
  {
   "cell_type": "markdown",
   "metadata": {},
   "source": [
    "<div class=\"alert alert-block alert-success\">\n",
    "<b>Question (1pt):</b> What is your interpretation of this result? \n",
    "</div>\n",
    "\n",
    "<div class=\"alert alert-block alert-success\">\n",
    "<b>Answer:59% of the perople in the val dataset died so our acc is 0.59 </b></div>\n"
   ]
  },
  {
   "cell_type": "markdown",
   "metadata": {},
   "source": [
    "### 2.1.4 Validation of the Decision Tree\n",
    "\n",
    "\n",
    "<div class=\"alert alert-block alert-success\">\n",
    "<b>Task:</b> \n",
    "<ul>\n",
    "<li> Train a decision tree (DecisionTreeClassifier) with a maximum depth of 2\n",
    "<li> Evaluate the accuracy metric on the validation data.\n",
    "<li> Use parameter random_state = 17 for results reproducibility.\n",
    "<li> Hint: Syntax or functions with this classifier are the same for training etc.\n",
    "    </li>\n",
    "    \n",
    "</ul>\n",
    "</div>"
   ]
  },
  {
   "cell_type": "code",
   "execution_count": 89,
   "metadata": {},
   "outputs": [
    {
     "name": "stdout",
     "output_type": "stream",
     "text": [
      "[0 1 0 1 1 0 0 0 0 1 1 1 0 0 1 0 1 0 1 0 1 0 1 0 1 0 0 0 0 0 0 0 0 1 0 1 0\n",
      " 1 0 1 1 0 1 1 0 0 0 1 1 1 1 1 0 0 0 1 0 0 0 0 1 0 0 1 1 1 1 0 0 0 1 0 0 0\n",
      " 0 0 1 0 0 0 1 1 0 0 0 0 0 0 0 1 1 1 0 1 1 1 1 1 0 1 0 1 1 0 0 1 0 0 0 0 0\n",
      " 0 0 1 1 1 1 0 1 0 0 1 1 0 1 0 0 1 0 0 0 1 0 1 0 0 0 0 0 1 0 0 0 1 0 1 1 0\n",
      " 0 0 1 0 1 0 1 0 0 0 1 0 1 0 1 0 0 0 0 1 0 0 1 0 1 0 0 0 1 1 0]\n"
     ]
    },
    {
     "data": {
      "text/plain": [
       "0.7821229050279329"
      ]
     },
     "execution_count": 89,
     "metadata": {},
     "output_type": "execute_result"
    }
   ],
   "source": [
    "# STUDENT CODE HERE (2pt)\n",
    "clf = tree.DecisionTreeClassifier(max_depth=2,random_state=17)\n",
    "clf.fit(x_train, y_train)\n",
    "y_pred=clf.predict(x_val)\n",
    "print(y_pred)\n",
    "accuracy_score(y_val, y_pred)\n",
    "# STUDENT CODE until HERE"
   ]
  },
  {
   "cell_type": "markdown",
   "metadata": {},
   "source": [
    "<div class=\"alert alert-block alert-success\">\n",
    "<b>Question (1pt):</b>  What do you observe if we compare the classification accuracy to the DummyClassifier?\n",
    "</div>\n",
    "\n",
    "<div class=\"alert alert-block alert-success\">\n",
    "<b>Answer:we get better 0.59->0.78</b></div>\n"
   ]
  },
  {
   "cell_type": "markdown",
   "metadata": {},
   "source": [
    "### 2.1.5 Understanding the trained model \n",
    "\n",
    "\n",
    "<div class=\"alert alert-block alert-success\">\n",
    "<b>Task:</b> \n",
    "<ul>\n",
    "<li> Plot the tree with sklearn.tree.export_graphviz and Graphviz\n",
    "<li> Print the feature names as well as the class names according to the dataset.\n",
    "<li> Hint: Use dataframe.columns.values and Source(export_graphviz)\n",
    "</ul>\n",
    "</div>"
   ]
  },
  {
   "cell_type": "code",
   "execution_count": 90,
   "metadata": {},
   "outputs": [
    {
     "data": {
      "text/plain": [
       "[Text(167.4, 181.2, 'X[1] <= 0.5\\ngini = 0.47\\nsamples = 712\\nvalue = [443, 269]\\nclass = Pclass'),\n",
       " Text(83.7, 108.72, 'X[2] <= 6.5\\ngini = 0.299\\nsamples = 465\\nvalue = [380, 85]\\nclass = Pclass'),\n",
       " Text(41.85, 36.23999999999998, 'gini = 0.465\\nsamples = 19\\nvalue = [7, 12]\\nclass = Sex'),\n",
       " Text(125.55000000000001, 36.23999999999998, 'gini = 0.274\\nsamples = 446\\nvalue = [373, 73]\\nclass = Pclass'),\n",
       " Text(251.10000000000002, 108.72, 'X[0] <= 2.5\\ngini = 0.38\\nsamples = 247\\nvalue = [63, 184]\\nclass = Sex'),\n",
       " Text(209.25, 36.23999999999998, 'gini = 0.087\\nsamples = 131\\nvalue = [6, 125]\\nclass = Sex'),\n",
       " Text(292.95, 36.23999999999998, 'gini = 0.5\\nsamples = 116\\nvalue = [57, 59]\\nclass = Sex')]"
      ]
     },
     "execution_count": 90,
     "metadata": {},
     "output_type": "execute_result"
    },
    {
     "data": {
      "image/png": "[encoded data removed]",
      "text/plain": [
       "<Figure size 432x288 with 1 Axes>"
      ]
     },
     "metadata": {
      "needs_background": "light"
     },
     "output_type": "display_data"
    }
   ],
   "source": [
    "# STUDENT CODE HERE (1pt)\n",
    "tree.plot_tree(clf,class_names=names_x)\n",
    "# STUDENT CODE until HERE"
   ]
  },
  {
   "cell_type": "markdown",
   "metadata": {},
   "source": [
    "<div class=\"alert alert-block alert-success\">\n",
    "<b>Question (1pt):</b>  Which features are used to make predictions in the created decision tree? Which of the remaining splits (in the last row of the tree) is currently the most accurate?\n",
    "</div>\n",
    "\n",
    "<div class=\"alert alert-block alert-success\">\n",
    "<b>Answer:</b> The passenger class and the Sex. The third starting from left</div>\n"
   ]
  },
  {
   "cell_type": "markdown",
   "metadata": {},
   "source": [
    "### 2.1.6 Testing generalization\n",
    "\n",
    "In the previous tasks we have evaluated the performance of our algorithm on a single train-test split of our train dataset. Let's use cross-validation to get a better estimate of the generalization error. \n",
    "<div class=\"alert alert-block alert-success\">\n",
    "<b>Task:</b> Import the necessary library for cross validation with StratifiedKFold.\n",
    "\n",
    "</li>\n",
    "</ul>\n",
    "</div>"
   ]
  },
  {
   "cell_type": "code",
   "execution_count": 91,
   "metadata": {},
   "outputs": [],
   "source": [
    "# STUDENT CODE HERE (1pt)\n",
    "from sklearn.model_selection import StratifiedKFold\n",
    "from sklearn.model_selection import cross_val_score\n",
    "# STUDENT CODE until HERE"
   ]
  },
  {
   "cell_type": "markdown",
   "metadata": {},
   "source": [
    "<div class=\"alert alert-block alert-success\">\n",
    "<b>Task:</b> \n",
    "<ul>\n",
    "<li> Perform a 5-fold stratified cross validation\n",
    "<li> Calculate the mean accuracy and the standard deviation of the accuracy\n",
    "<li> Use a maximum depth of 2 and random_state = 17 for tree and the folds\n",
    "<li> Do not forget to use the whole training set (before splitting it up into train,val)\n",
    "</ul>\n",
    "</div>"
   ]
  },
  {
   "cell_type": "code",
   "execution_count": 92,
   "metadata": {},
   "outputs": [
    {
     "name": "stdout",
     "output_type": "stream",
     "text": [
      "[0.87022901 0.82824427 0.83587786 0.8778626  0.8467433 ]\n",
      "0.8517914070954344\n",
      "0.0192501623226788\n"
     ]
    }
   ],
   "source": [
    "# STUDENT CODE HERE (3pt)\n",
    "train = pd.read_csv(filename_tr)\n",
    "test = pd.read_csv(filename_te)\n",
    "dataset = train.append(test)\n",
    "dataset = dataset.values\n",
    "X = dataset[:,1:9]\n",
    "Y = dataset[:,0]\n",
    "\n",
    "skf = StratifiedKFold(n_splits=5, random_state=17, shuffle=True)\n",
    "results = cross_val_score(clf, X, Y, cv=skf )\n",
    "print(results)\n",
    "print(results.mean())\n",
    "print(results.std())\n",
    "# STUDENT CODE until HERE"
   ]
  },
  {
   "cell_type": "markdown",
   "metadata": {},
   "source": [
    "## 2.2 Parameter Optimization for Decision Trees\n",
    "\n",
    "The most important parameter of a decision tree is the depth of the tree. Hence, it is necessary to evaluate different depths of the tree to achieve the optimal performance regarding the classification accuracy. For that purpose we use grid search combined with the cross validation process we have used before. Luckily, scikit-learn has already implemented a nice and easy to use interface for that problem. The function is called `GridSearchCV` and can be found in the sklearn.model_selection library. \n",
    "\n",
    "### 2.2.1 Using Grid Search Cross-Validation to optimize the tree depth\n",
    "\n",
    "<div class=\"alert alert-block alert-success\">\n",
    "<b>Task:</b> \n",
    "<ul>\n",
    "<li> Load the GridSearchCV library and train a decision tree (DecisionTreeClassifier, random_state = 17)\n",
    "<li> Find the optimal maximum depth using 5-fold stratified cross-validation (same RandomState)\n",
    "<li> Vary the depth of the tree between 1 and 13.\n",
    "<li> Do not forget to use the whole training set (before splitting it up into train,val)\n",
    "<li> Hint: Use the scikit-learn website for more information on the functions\n",
    "</ul>\n",
    "</div>"
   ]
  },
  {
   "cell_type": "code",
   "execution_count": 93,
   "metadata": {},
   "outputs": [
    {
     "name": "stdout",
     "output_type": "stream",
     "text": [
      "GridSearchCV(cv=StratifiedKFold(n_splits=5, random_state=17, shuffle=True),\n",
      "             estimator=DecisionTreeClassifier(random_state=17),\n",
      "             param_grid={'max_depth': [1, 2, 3, 4, 5, 6, 7, 8, 9, 10, 11, 12,\n",
      "                                       13]})\n",
      "DecisionTreeClassifier(max_depth=3, random_state=17)\n"
     ]
    }
   ],
   "source": [
    "# STUDENT CODE HERE (2pt)\n",
    "from sklearn.model_selection import GridSearchCV\n",
    "skf = StratifiedKFold(n_splits=5, shuffle=True,random_state=17)\n",
    "tree_para = {\"max_depth\":list(range(1,14))}\n",
    "clf = tree.DecisionTreeClassifier(random_state=17)\n",
    "clf_grid = GridSearchCV(clf, tree_para,cv=skf)\n",
    "clf_grid.fit(X, Y)\n",
    "print(clf_grid)\n",
    "print(clf_grid.best_estimator_)\n",
    "\n",
    "# STUDENT CODE until HERE"
   ]
  },
  {
   "cell_type": "markdown",
   "metadata": {},
   "source": [
    "<div class=\"alert alert-block alert-success\">\n",
    "<b>Task:</b> \n",
    "<ul>\n",
    "<li> Draw a plot to show the mean accuracy over depth \n",
    "<li> Use the attribute <code>.cv_results</code> to get mean accuracy by using 'mean_test_score'\n",
    "</ul>\n",
    "</div>"
   ]
  },
  {
   "cell_type": "code",
   "execution_count": 94,
   "metadata": {},
   "outputs": [
    {
     "name": "stdout",
     "output_type": "stream",
     "text": [
      "[0.85484484 0.85179141 0.86782779 0.85943377 0.85331812 0.85407563\n",
      " 0.84340908 0.84111316 0.83193823 0.82200579 0.81512386 0.81742271\n",
      " 0.80520312]\n"
     ]
    },
    {
     "data": {
      "text/plain": [
       "Text(0, 0.5, 'Precision')"
      ]
     },
     "execution_count": 94,
     "metadata": {},
     "output_type": "execute_result"
    },
    {
     "data": {
      "image/png": "[encoded data removed]",
      "text/plain": [
       "<Figure size 432x288 with 1 Axes>"
      ]
     },
     "metadata": {
      "needs_background": "light"
     },
     "output_type": "display_data"
    }
   ],
   "source": [
    "# STUDENT CODE HERE (4pt)\n",
    "print(clf_grid.cv_results_[\"mean_test_score\"])\n",
    "plt.plot(list(range(1,14)),clf_grid.cv_results_[\"mean_test_score\"])\n",
    "plt.xlabel(\"Depth\")\n",
    "plt.ylabel(\"Precision\")\n",
    "\n",
    "\n",
    "# STUDENT CODE until HERE"
   ]
  },
  {
   "cell_type": "markdown",
   "metadata": {},
   "source": [
    "<div class=\"alert alert-block alert-success\">\n",
    "<b>Question (1pt):</b>  What are the best parameter values? What is the accuracy (cross-val) of the model with that tree depth?\n",
    "</div>\n",
    "\n",
    "<div class=\"alert alert-block alert-success\">\n",
    "<b>Answer:</b> the best parameter is depth equals to 3. the accuracy is 0.86782779  </div>\n"
   ]
  },
  {
   "cell_type": "code",
   "execution_count": 95,
   "metadata": {},
   "outputs": [
    {
     "name": "stdout",
     "output_type": "stream",
     "text": [
      "[0.85484484 0.85179141 0.86782779 0.85943377 0.85331812 0.85407563\n",
      " 0.84340908 0.84111316 0.83193823 0.82200579 0.81512386 0.81742271\n",
      " 0.80520312]\n"
     ]
    },
    {
     "data": {
      "text/plain": [
       "Text(0, 0.5, 'Precision')"
      ]
     },
     "execution_count": 95,
     "metadata": {},
     "output_type": "execute_result"
    },
    {
     "data": {
      "image/png": "[encoded data removed]",
      "text/plain": [
       "<Figure size 432x288 with 1 Axes>"
      ]
     },
     "metadata": {
      "needs_background": "light"
     },
     "output_type": "display_data"
    }
   ],
   "source": [
    "# STUDENT CODE HERE (1pt)\n",
    "print(clf_grid.cv_results_[\"mean_test_score\"])\n",
    "plt.plot(list(range(1,14)),clf_grid.cv_results_[\"mean_test_score\"])\n",
    "plt.xlabel(\"Depth\")\n",
    "plt.ylabel(\"Precision\")\n",
    "# STUDENT CODE until HERE"
   ]
  },
  {
   "cell_type": "markdown",
   "metadata": {},
   "source": [
    "We found the optimal parameter regarding our training data. Finally, we can evaluate the performance using all of our training data to train and test with the test data set. \n",
    "\n",
    "<div class=\"alert alert-block alert-success\">\n",
    "<b>Task:</b> \n",
    "<ul>\n",
    "<li> Train a decision tree with the maximum depth you got above using all training data (no cross-validation)\n",
    "<li> Compute the accuracy on the test data set. Use parameter random_state = 17 for reproducibility.\n",
    "</ul>\n",
    "</div>\n"
   ]
  },
  {
   "cell_type": "code",
   "execution_count": 96,
   "metadata": {},
   "outputs": [
    {
     "data": {
      "text/plain": [
       "DecisionTreeClassifier(max_depth=3, random_state=17)"
      ]
     },
     "execution_count": 96,
     "metadata": {},
     "output_type": "execute_result"
    }
   ],
   "source": [
    "decision_tree: DecisionTreeClassifier\n",
    "# STUDENT CODE HERE (1pt)\n",
    "decision_tree = tree.DecisionTreeClassifier(max_depth=3,random_state=17)\n",
    "decision_tree.fit(X, Y)\n",
    "# STUDENT CODE until HERE"
   ]
  },
  {
   "cell_type": "code",
   "execution_count": 97,
   "metadata": {},
   "outputs": [
    {
     "data": {
      "image/svg+xml": "<?xml version=\"1.0\" encoding=\"UTF-8\" standalone=\"no\"?>\r\n<!DOCTYPE svg PUBLIC \"-//W3C//DTD SVG 1.1//EN\"\r\n \"http://www.w3.org/Graphics/SVG/1.1/DTD/svg11.dtd\">\r\n<!-- Generated by graphviz version 2.38.0 (20140413.2041)\r\n -->\r\n<!-- Title: Tree Pages: 1 -->\r\n<svg width=\"1072pt\" height=\"433pt\"\r\n viewBox=\"0.00 0.00 1071.50 433.00\" xmlns=\"http://www.w3.org/2000/svg\" xmlns:xlink=\"http://www.w3.org/1999/xlink\">\r\n<g id=\"graph0\" class=\"graph\" transform=\"scale(1 1) rotate(0) translate(4 429)\">\r\n<title>Tree</title>\r\n<polygon fill=\"white\" stroke=\"none\" points=\"-4,4 -4,-429 1067.5,-429 1067.5,4 -4,4\"/>\r\n<!-- 0 -->\r\n<g id=\"node1\" class=\"node\"><title>0</title>\r\n<path fill=\"#f5cdb1\" stroke=\"black\" d=\"M585,-425C585,-425 479,-425 479,-425 473,-425 467,-419 467,-413 467,-413 467,-354 467,-354 467,-348 473,-342 479,-342 479,-342 585,-342 585,-342 591,-342 597,-348 597,-354 597,-354 597,-413 597,-413 597,-419 591,-425 585,-425\"/>\r\n<text text-anchor=\"start\" x=\"501.5\" y=\"-409.8\" font-family=\"Helvetica,sans-Serif\" font-size=\"14.00\">Sex ≤ 0.5</text>\r\n<text text-anchor=\"start\" x=\"498.5\" y=\"-394.8\" font-family=\"Helvetica,sans-Serif\" font-size=\"14.00\">gini = 0.47</text>\r\n<text text-anchor=\"start\" x=\"480.5\" y=\"-379.8\" font-family=\"Helvetica,sans-Serif\" font-size=\"14.00\">samples = 1309</text>\r\n<text text-anchor=\"start\" x=\"475\" y=\"-364.8\" font-family=\"Helvetica,sans-Serif\" font-size=\"14.00\">value = [815, 494]</text>\r\n<text text-anchor=\"start\" x=\"490\" y=\"-349.8\" font-family=\"Helvetica,sans-Serif\" font-size=\"14.00\">class = Dead</text>\r\n</g>\r\n<!-- 1 -->\r\n<g id=\"node2\" class=\"node\"><title>1</title>\r\n<path fill=\"#e99456\" stroke=\"black\" d=\"M481,-306C481,-306 375,-306 375,-306 369,-306 363,-300 363,-294 363,-294 363,-235 363,-235 363,-229 369,-223 375,-223 375,-223 481,-223 481,-223 487,-223 493,-229 493,-235 493,-235 493,-294 493,-294 493,-300 487,-306 481,-306\"/>\r\n<text text-anchor=\"start\" x=\"397\" y=\"-290.8\" font-family=\"Helvetica,sans-Serif\" font-size=\"14.00\">Age ≤ 4.5</text>\r\n<text text-anchor=\"start\" x=\"390.5\" y=\"-275.8\" font-family=\"Helvetica,sans-Serif\" font-size=\"14.00\">gini = 0.225</text>\r\n<text text-anchor=\"start\" x=\"380.5\" y=\"-260.8\" font-family=\"Helvetica,sans-Serif\" font-size=\"14.00\">samples = 843</text>\r\n<text text-anchor=\"start\" x=\"371\" y=\"-245.8\" font-family=\"Helvetica,sans-Serif\" font-size=\"14.00\">value = [734, 109]</text>\r\n<text text-anchor=\"start\" x=\"386\" y=\"-230.8\" font-family=\"Helvetica,sans-Serif\" font-size=\"14.00\">class = Dead</text>\r\n</g>\r\n<!-- 0&#45;&gt;1 -->\r\n<g id=\"edge1\" class=\"edge\"><title>0&#45;&gt;1</title>\r\n<path fill=\"none\" stroke=\"black\" d=\"M495.918,-341.907C487.851,-332.832 479.219,-323.121 470.906,-313.769\"/>\r\n<polygon fill=\"black\" stroke=\"black\" points=\"473.278,-311.17 464.018,-306.021 468.046,-315.82 473.278,-311.17\"/>\r\n<text text-anchor=\"middle\" x=\"462.55\" y=\"-327.278\" font-family=\"Helvetica,sans-Serif\" font-size=\"14.00\">True</text>\r\n</g>\r\n<!-- 8 -->\r\n<g id=\"node9\" class=\"node\"><title>8</title>\r\n<path fill=\"#63b2ea\" stroke=\"black\" d=\"M685,-306C685,-306 587,-306 587,-306 581,-306 575,-300 575,-294 575,-294 575,-235 575,-235 575,-229 581,-223 587,-223 587,-223 685,-223 685,-223 691,-223 697,-229 697,-235 697,-235 697,-294 697,-294 697,-300 691,-306 685,-306\"/>\r\n<text text-anchor=\"start\" x=\"596.5\" y=\"-290.8\" font-family=\"Helvetica,sans-Serif\" font-size=\"14.00\">Pclass ≤ 2.5</text>\r\n<text text-anchor=\"start\" x=\"598.5\" y=\"-275.8\" font-family=\"Helvetica,sans-Serif\" font-size=\"14.00\">gini = 0.287</text>\r\n<text text-anchor=\"start\" x=\"588.5\" y=\"-260.8\" font-family=\"Helvetica,sans-Serif\" font-size=\"14.00\">samples = 466</text>\r\n<text text-anchor=\"start\" x=\"583\" y=\"-245.8\" font-family=\"Helvetica,sans-Serif\" font-size=\"14.00\">value = [81, 385]</text>\r\n<text text-anchor=\"start\" x=\"584\" y=\"-230.8\" font-family=\"Helvetica,sans-Serif\" font-size=\"14.00\">class = Survived</text>\r\n</g>\r\n<!-- 0&#45;&gt;8 -->\r\n<g id=\"edge8\" class=\"edge\"><title>0&#45;&gt;8</title>\r\n<path fill=\"none\" stroke=\"black\" d=\"M568.082,-341.907C576.149,-332.832 584.781,-323.121 593.094,-313.769\"/>\r\n<polygon fill=\"black\" stroke=\"black\" points=\"595.954,-315.82 599.982,-306.021 590.722,-311.17 595.954,-315.82\"/>\r\n<text text-anchor=\"middle\" x=\"601.45\" y=\"-327.278\" font-family=\"Helvetica,sans-Serif\" font-size=\"14.00\">False</text>\r\n</g>\r\n<!-- 2 -->\r\n<g id=\"node3\" class=\"node\"><title>2</title>\r\n<path fill=\"#d7ebfa\" stroke=\"black\" d=\"M239,-187C239,-187 143,-187 143,-187 137,-187 131,-181 131,-175 131,-175 131,-116 131,-116 131,-110 137,-104 143,-104 143,-104 239,-104 239,-104 245,-104 251,-110 251,-116 251,-116 251,-175 251,-175 251,-181 245,-187 239,-187\"/>\r\n<text text-anchor=\"start\" x=\"151.5\" y=\"-171.8\" font-family=\"Helvetica,sans-Serif\" font-size=\"14.00\">Pclass ≤ 2.5</text>\r\n<text text-anchor=\"start\" x=\"153.5\" y=\"-156.8\" font-family=\"Helvetica,sans-Serif\" font-size=\"14.00\">gini = 0.494</text>\r\n<text text-anchor=\"start\" x=\"147.5\" y=\"-141.8\" font-family=\"Helvetica,sans-Serif\" font-size=\"14.00\">samples = 27</text>\r\n<text text-anchor=\"start\" x=\"142.5\" y=\"-126.8\" font-family=\"Helvetica,sans-Serif\" font-size=\"14.00\">value = [12, 15]</text>\r\n<text text-anchor=\"start\" x=\"139\" y=\"-111.8\" font-family=\"Helvetica,sans-Serif\" font-size=\"14.00\">class = Survived</text>\r\n</g>\r\n<!-- 1&#45;&gt;2 -->\r\n<g id=\"edge2\" class=\"edge\"><title>1&#45;&gt;2</title>\r\n<path fill=\"none\" stroke=\"black\" d=\"M362.925,-231.374C330.985,-215.606 292.494,-196.605 260.037,-180.582\"/>\r\n<polygon fill=\"black\" stroke=\"black\" points=\"261.57,-177.435 251.053,-176.147 258.471,-183.712 261.57,-177.435\"/>\r\n</g>\r\n<!-- 5 -->\r\n<g id=\"node6\" class=\"node\"><title>5</title>\r\n<path fill=\"#e89153\" stroke=\"black\" d=\"M477,-187C477,-187 379,-187 379,-187 373,-187 367,-181 367,-175 367,-175 367,-116 367,-116 367,-110 373,-104 379,-104 379,-104 477,-104 477,-104 483,-104 489,-110 489,-116 489,-116 489,-175 489,-175 489,-181 483,-187 477,-187\"/>\r\n<text text-anchor=\"start\" x=\"388.5\" y=\"-171.8\" font-family=\"Helvetica,sans-Serif\" font-size=\"14.00\">Pclass ≤ 1.5</text>\r\n<text text-anchor=\"start\" x=\"390.5\" y=\"-156.8\" font-family=\"Helvetica,sans-Serif\" font-size=\"14.00\">gini = 0.204</text>\r\n<text text-anchor=\"start\" x=\"380.5\" y=\"-141.8\" font-family=\"Helvetica,sans-Serif\" font-size=\"14.00\">samples = 816</text>\r\n<text text-anchor=\"start\" x=\"375\" y=\"-126.8\" font-family=\"Helvetica,sans-Serif\" font-size=\"14.00\">value = [722, 94]</text>\r\n<text text-anchor=\"start\" x=\"386\" y=\"-111.8\" font-family=\"Helvetica,sans-Serif\" font-size=\"14.00\">class = Dead</text>\r\n</g>\r\n<!-- 1&#45;&gt;5 -->\r\n<g id=\"edge5\" class=\"edge\"><title>1&#45;&gt;5</title>\r\n<path fill=\"none\" stroke=\"black\" d=\"M428,-222.907C428,-214.649 428,-205.864 428,-197.302\"/>\r\n<polygon fill=\"black\" stroke=\"black\" points=\"431.5,-197.021 428,-187.021 424.5,-197.021 431.5,-197.021\"/>\r\n</g>\r\n<!-- 3 -->\r\n<g id=\"node4\" class=\"node\"><title>3</title>\r\n<path fill=\"#4da7e8\" stroke=\"black\" d=\"M108,-68C108,-68 12,-68 12,-68 6,-68 0,-62 0,-56 0,-56 0,-12 0,-12 0,-6 6,-0 12,-0 12,-0 108,-0 108,-0 114,-0 120,-6 120,-12 120,-12 120,-56 120,-56 120,-62 114,-68 108,-68\"/>\r\n<text text-anchor=\"start\" x=\"22.5\" y=\"-52.8\" font-family=\"Helvetica,sans-Serif\" font-size=\"14.00\">gini = 0.165</text>\r\n<text text-anchor=\"start\" x=\"16.5\" y=\"-37.8\" font-family=\"Helvetica,sans-Serif\" font-size=\"14.00\">samples = 11</text>\r\n<text text-anchor=\"start\" x=\"15.5\" y=\"-22.8\" font-family=\"Helvetica,sans-Serif\" font-size=\"14.00\">value = [1, 10]</text>\r\n<text text-anchor=\"start\" x=\"8\" y=\"-7.8\" font-family=\"Helvetica,sans-Serif\" font-size=\"14.00\">class = Survived</text>\r\n</g>\r\n<!-- 2&#45;&gt;3 -->\r\n<g id=\"edge3\" class=\"edge\"><title>2&#45;&gt;3</title>\r\n<path fill=\"none\" stroke=\"black\" d=\"M142.22,-103.726C130.872,-94.2406 118.807,-84.1551 107.514,-74.7159\"/>\r\n<polygon fill=\"black\" stroke=\"black\" points=\"109.755,-72.0276 99.8379,-68.2996 105.266,-77.3984 109.755,-72.0276\"/>\r\n</g>\r\n<!-- 4 -->\r\n<g id=\"node5\" class=\"node\"><title>4</title>\r\n<path fill=\"#f1ba93\" stroke=\"black\" d=\"M231.5,-68C231.5,-68 150.5,-68 150.5,-68 144.5,-68 138.5,-62 138.5,-56 138.5,-56 138.5,-12 138.5,-12 138.5,-6 144.5,-0 150.5,-0 150.5,-0 231.5,-0 231.5,-0 237.5,-0 243.5,-6 243.5,-12 243.5,-12 243.5,-56 243.5,-56 243.5,-62 237.5,-68 231.5,-68\"/>\r\n<text text-anchor=\"start\" x=\"157.5\" y=\"-52.8\" font-family=\"Helvetica,sans-Serif\" font-size=\"14.00\">gini = 0.43</text>\r\n<text text-anchor=\"start\" x=\"147.5\" y=\"-37.8\" font-family=\"Helvetica,sans-Serif\" font-size=\"14.00\">samples = 16</text>\r\n<text text-anchor=\"start\" x=\"146.5\" y=\"-22.8\" font-family=\"Helvetica,sans-Serif\" font-size=\"14.00\">value = [11, 5]</text>\r\n<text text-anchor=\"start\" x=\"149\" y=\"-7.8\" font-family=\"Helvetica,sans-Serif\" font-size=\"14.00\">class = Dead</text>\r\n</g>\r\n<!-- 2&#45;&gt;4 -->\r\n<g id=\"edge4\" class=\"edge\"><title>2&#45;&gt;4</title>\r\n<path fill=\"none\" stroke=\"black\" d=\"M191,-103.726C191,-95.5175 191,-86.8595 191,-78.56\"/>\r\n<polygon fill=\"black\" stroke=\"black\" points=\"194.5,-78.2996 191,-68.2996 187.5,-78.2996 194.5,-78.2996\"/>\r\n</g>\r\n<!-- 6 -->\r\n<g id=\"node7\" class=\"node\"><title>6</title>\r\n<path fill=\"#eda979\" stroke=\"black\" d=\"M372,-68C372,-68 274,-68 274,-68 268,-68 262,-62 262,-56 262,-56 262,-12 262,-12 262,-6 268,-0 274,-0 274,-0 372,-0 372,-0 378,-0 384,-6 384,-12 384,-12 384,-56 384,-56 384,-62 378,-68 372,-68\"/>\r\n<text text-anchor=\"start\" x=\"285.5\" y=\"-52.8\" font-family=\"Helvetica,sans-Serif\" font-size=\"14.00\">gini = 0.368</text>\r\n<text text-anchor=\"start\" x=\"275.5\" y=\"-37.8\" font-family=\"Helvetica,sans-Serif\" font-size=\"14.00\">samples = 177</text>\r\n<text text-anchor=\"start\" x=\"270\" y=\"-22.8\" font-family=\"Helvetica,sans-Serif\" font-size=\"14.00\">value = [134, 43]</text>\r\n<text text-anchor=\"start\" x=\"281\" y=\"-7.8\" font-family=\"Helvetica,sans-Serif\" font-size=\"14.00\">class = Dead</text>\r\n</g>\r\n<!-- 5&#45;&gt;6 -->\r\n<g id=\"edge6\" class=\"edge\"><title>5&#45;&gt;6</title>\r\n<path fill=\"none\" stroke=\"black\" d=\"M388.902,-103.726C380.068,-94.5142 370.692,-84.7364 361.869,-75.5343\"/>\r\n<polygon fill=\"black\" stroke=\"black\" points=\"364.379,-73.095 354.931,-68.2996 359.326,-77.9399 364.379,-73.095\"/>\r\n</g>\r\n<!-- 7 -->\r\n<g id=\"node8\" class=\"node\"><title>7</title>\r\n<path fill=\"#e78c4a\" stroke=\"black\" d=\"M512,-68C512,-68 414,-68 414,-68 408,-68 402,-62 402,-56 402,-56 402,-12 402,-12 402,-6 408,-0 414,-0 414,-0 512,-0 512,-0 518,-0 524,-6 524,-12 524,-12 524,-56 524,-56 524,-62 518,-68 512,-68\"/>\r\n<text text-anchor=\"start\" x=\"425.5\" y=\"-52.8\" font-family=\"Helvetica,sans-Serif\" font-size=\"14.00\">gini = 0.147</text>\r\n<text text-anchor=\"start\" x=\"415.5\" y=\"-37.8\" font-family=\"Helvetica,sans-Serif\" font-size=\"14.00\">samples = 639</text>\r\n<text text-anchor=\"start\" x=\"410\" y=\"-22.8\" font-family=\"Helvetica,sans-Serif\" font-size=\"14.00\">value = [588, 51]</text>\r\n<text text-anchor=\"start\" x=\"421\" y=\"-7.8\" font-family=\"Helvetica,sans-Serif\" font-size=\"14.00\">class = Dead</text>\r\n</g>\r\n<!-- 5&#45;&gt;7 -->\r\n<g id=\"edge7\" class=\"edge\"><title>5&#45;&gt;7</title>\r\n<path fill=\"none\" stroke=\"black\" d=\"M441.033,-103.726C443.715,-95.3351 446.547,-86.4745 449.253,-78.0072\"/>\r\n<polygon fill=\"black\" stroke=\"black\" points=\"452.645,-78.8905 452.356,-68.2996 445.978,-76.7592 452.645,-78.8905\"/>\r\n</g>\r\n<!-- 9 -->\r\n<g id=\"node10\" class=\"node\"><title>9</title>\r\n<path fill=\"#40a1e6\" stroke=\"black\" d=\"M686.5,-187C686.5,-187 585.5,-187 585.5,-187 579.5,-187 573.5,-181 573.5,-175 573.5,-175 573.5,-116 573.5,-116 573.5,-110 579.5,-104 585.5,-104 585.5,-104 686.5,-104 686.5,-104 692.5,-104 698.5,-110 698.5,-116 698.5,-116 698.5,-175 698.5,-175 698.5,-181 692.5,-187 686.5,-187\"/>\r\n<text text-anchor=\"start\" x=\"581.5\" y=\"-171.8\" font-family=\"Helvetica,sans-Serif\" font-size=\"14.00\">Fare_log ≤ 3.362</text>\r\n<text text-anchor=\"start\" x=\"598.5\" y=\"-156.8\" font-family=\"Helvetica,sans-Serif\" font-size=\"14.00\">gini = 0.069</text>\r\n<text text-anchor=\"start\" x=\"588.5\" y=\"-141.8\" font-family=\"Helvetica,sans-Serif\" font-size=\"14.00\">samples = 250</text>\r\n<text text-anchor=\"start\" x=\"587.5\" y=\"-126.8\" font-family=\"Helvetica,sans-Serif\" font-size=\"14.00\">value = [9, 241]</text>\r\n<text text-anchor=\"start\" x=\"584\" y=\"-111.8\" font-family=\"Helvetica,sans-Serif\" font-size=\"14.00\">class = Survived</text>\r\n</g>\r\n<!-- 8&#45;&gt;9 -->\r\n<g id=\"edge9\" class=\"edge\"><title>8&#45;&gt;9</title>\r\n<path fill=\"none\" stroke=\"black\" d=\"M636,-222.907C636,-214.649 636,-205.864 636,-197.302\"/>\r\n<polygon fill=\"black\" stroke=\"black\" points=\"639.5,-197.021 636,-187.021 632.5,-197.021 639.5,-197.021\"/>\r\n</g>\r\n<!-- 12 -->\r\n<g id=\"node13\" class=\"node\"><title>12</title>\r\n<path fill=\"#9ccef2\" stroke=\"black\" d=\"M928,-187C928,-187 830,-187 830,-187 824,-187 818,-181 818,-175 818,-175 818,-116 818,-116 818,-110 824,-104 830,-104 830,-104 928,-104 928,-104 934,-104 940,-110 940,-116 940,-116 940,-175 940,-175 940,-181 934,-187 928,-187\"/>\r\n<text text-anchor=\"start\" x=\"838\" y=\"-171.8\" font-family=\"Helvetica,sans-Serif\" font-size=\"14.00\">Fare ≤ 23.35</text>\r\n<text text-anchor=\"start\" x=\"841.5\" y=\"-156.8\" font-family=\"Helvetica,sans-Serif\" font-size=\"14.00\">gini = 0.444</text>\r\n<text text-anchor=\"start\" x=\"831.5\" y=\"-141.8\" font-family=\"Helvetica,sans-Serif\" font-size=\"14.00\">samples = 216</text>\r\n<text text-anchor=\"start\" x=\"826\" y=\"-126.8\" font-family=\"Helvetica,sans-Serif\" font-size=\"14.00\">value = [72, 144]</text>\r\n<text text-anchor=\"start\" x=\"827\" y=\"-111.8\" font-family=\"Helvetica,sans-Serif\" font-size=\"14.00\">class = Survived</text>\r\n</g>\r\n<!-- 8&#45;&gt;12 -->\r\n<g id=\"edge12\" class=\"edge\"><title>8&#45;&gt;12</title>\r\n<path fill=\"none\" stroke=\"black\" d=\"M697.006,-234.127C730.947,-217.785 773.345,-197.371 808.678,-180.359\"/>\r\n<polygon fill=\"black\" stroke=\"black\" points=\"810.478,-183.377 817.969,-175.885 807.441,-177.07 810.478,-183.377\"/>\r\n</g>\r\n<!-- 10 -->\r\n<g id=\"node11\" class=\"node\"><title>10</title>\r\n<path fill=\"#48a5e7\" stroke=\"black\" d=\"M650,-68C650,-68 554,-68 554,-68 548,-68 542,-62 542,-56 542,-56 542,-12 542,-12 542,-6 548,-0 554,-0 554,-0 650,-0 650,-0 656,-0 662,-6 662,-12 662,-12 662,-56 662,-56 662,-62 656,-68 650,-68\"/>\r\n<text text-anchor=\"start\" x=\"564.5\" y=\"-52.8\" font-family=\"Helvetica,sans-Serif\" font-size=\"14.00\">gini = 0.133</text>\r\n<text text-anchor=\"start\" x=\"558.5\" y=\"-37.8\" font-family=\"Helvetica,sans-Serif\" font-size=\"14.00\">samples = 98</text>\r\n<text text-anchor=\"start\" x=\"557.5\" y=\"-22.8\" font-family=\"Helvetica,sans-Serif\" font-size=\"14.00\">value = [7, 91]</text>\r\n<text text-anchor=\"start\" x=\"550\" y=\"-7.8\" font-family=\"Helvetica,sans-Serif\" font-size=\"14.00\">class = Survived</text>\r\n</g>\r\n<!-- 9&#45;&gt;10 -->\r\n<g id=\"edge10\" class=\"edge\"><title>9&#45;&gt;10</title>\r\n<path fill=\"none\" stroke=\"black\" d=\"M623.34,-103.726C620.734,-95.3351 617.983,-86.4745 615.354,-78.0072\"/>\r\n<polygon fill=\"black\" stroke=\"black\" points=\"618.648,-76.8119 612.34,-68.2996 611.962,-78.8877 618.648,-76.8119\"/>\r\n</g>\r\n<!-- 11 -->\r\n<g id=\"node12\" class=\"node\"><title>11</title>\r\n<path fill=\"#3c9ee5\" stroke=\"black\" d=\"M788,-68C788,-68 692,-68 692,-68 686,-68 680,-62 680,-56 680,-56 680,-12 680,-12 680,-6 686,-0 692,-0 692,-0 788,-0 788,-0 794,-0 800,-6 800,-12 800,-12 800,-56 800,-56 800,-62 794,-68 788,-68\"/>\r\n<text text-anchor=\"start\" x=\"702.5\" y=\"-52.8\" font-family=\"Helvetica,sans-Serif\" font-size=\"14.00\">gini = 0.026</text>\r\n<text text-anchor=\"start\" x=\"692.5\" y=\"-37.8\" font-family=\"Helvetica,sans-Serif\" font-size=\"14.00\">samples = 152</text>\r\n<text text-anchor=\"start\" x=\"691.5\" y=\"-22.8\" font-family=\"Helvetica,sans-Serif\" font-size=\"14.00\">value = [2, 150]</text>\r\n<text text-anchor=\"start\" x=\"688\" y=\"-7.8\" font-family=\"Helvetica,sans-Serif\" font-size=\"14.00\">class = Survived</text>\r\n</g>\r\n<!-- 9&#45;&gt;11 -->\r\n<g id=\"edge11\" class=\"edge\"><title>9&#45;&gt;11</title>\r\n<path fill=\"none\" stroke=\"black\" d=\"M674.726,-103.726C683.388,-94.6054 692.578,-84.93 701.242,-75.8078\"/>\r\n<polygon fill=\"black\" stroke=\"black\" points=\"704.024,-77.9608 708.373,-68.2996 698.949,-73.1401 704.024,-77.9608\"/>\r\n</g>\r\n<!-- 13 -->\r\n<g id=\"node14\" class=\"node\"><title>13</title>\r\n<path fill=\"#7fc0ee\" stroke=\"black\" d=\"M928,-68C928,-68 830,-68 830,-68 824,-68 818,-62 818,-56 818,-56 818,-12 818,-12 818,-6 824,-0 830,-0 830,-0 928,-0 928,-0 934,-0 940,-6 940,-12 940,-12 940,-56 940,-56 940,-62 934,-68 928,-68\"/>\r\n<text text-anchor=\"start\" x=\"841.5\" y=\"-52.8\" font-family=\"Helvetica,sans-Serif\" font-size=\"14.00\">gini = 0.387</text>\r\n<text text-anchor=\"start\" x=\"831.5\" y=\"-37.8\" font-family=\"Helvetica,sans-Serif\" font-size=\"14.00\">samples = 183</text>\r\n<text text-anchor=\"start\" x=\"826\" y=\"-22.8\" font-family=\"Helvetica,sans-Serif\" font-size=\"14.00\">value = [48, 135]</text>\r\n<text text-anchor=\"start\" x=\"827\" y=\"-7.8\" font-family=\"Helvetica,sans-Serif\" font-size=\"14.00\">class = Survived</text>\r\n</g>\r\n<!-- 12&#45;&gt;13 -->\r\n<g id=\"edge13\" class=\"edge\"><title>12&#45;&gt;13</title>\r\n<path fill=\"none\" stroke=\"black\" d=\"M879,-103.726C879,-95.5175 879,-86.8595 879,-78.56\"/>\r\n<polygon fill=\"black\" stroke=\"black\" points=\"882.5,-78.2996 879,-68.2996 875.5,-78.2996 882.5,-78.2996\"/>\r\n</g>\r\n<!-- 14 -->\r\n<g id=\"node15\" class=\"node\"><title>14</title>\r\n<path fill=\"#efb083\" stroke=\"black\" d=\"M1051.5,-68C1051.5,-68 970.5,-68 970.5,-68 964.5,-68 958.5,-62 958.5,-56 958.5,-56 958.5,-12 958.5,-12 958.5,-6 964.5,-0 970.5,-0 970.5,-0 1051.5,-0 1051.5,-0 1057.5,-0 1063.5,-6 1063.5,-12 1063.5,-12 1063.5,-56 1063.5,-56 1063.5,-62 1057.5,-68 1051.5,-68\"/>\r\n<text text-anchor=\"start\" x=\"973.5\" y=\"-52.8\" font-family=\"Helvetica,sans-Serif\" font-size=\"14.00\">gini = 0.397</text>\r\n<text text-anchor=\"start\" x=\"967.5\" y=\"-37.8\" font-family=\"Helvetica,sans-Serif\" font-size=\"14.00\">samples = 33</text>\r\n<text text-anchor=\"start\" x=\"966.5\" y=\"-22.8\" font-family=\"Helvetica,sans-Serif\" font-size=\"14.00\">value = [24, 9]</text>\r\n<text text-anchor=\"start\" x=\"969\" y=\"-7.8\" font-family=\"Helvetica,sans-Serif\" font-size=\"14.00\">class = Dead</text>\r\n</g>\r\n<!-- 12&#45;&gt;14 -->\r\n<g id=\"edge14\" class=\"edge\"><title>12&#45;&gt;14</title>\r\n<path fill=\"none\" stroke=\"black\" d=\"M928.152,-103.726C939.587,-94.2406 951.745,-84.1551 963.123,-74.7159\"/>\r\n<polygon fill=\"black\" stroke=\"black\" points=\"965.396,-77.3781 970.858,-68.2996 960.927,-71.9905 965.396,-77.3781\"/>\r\n</g>\r\n</g>\r\n</svg>\r\n",
      "text/plain": [
       "<graphviz.files.Source at 0x1e2e2a04e48>"
      ]
     },
     "execution_count": 97,
     "metadata": {},
     "output_type": "execute_result"
    }
   ],
   "source": [
    "\n",
    "dot_data = export_graphviz(decision_tree, out_file=None, \n",
    "                      feature_names=x_train.columns.values,  \n",
    "                      class_names=['Dead','Survived'],  \n",
    "                     filled=True, rounded=True,  \n",
    "                      special_characters=True)  \n",
    "graph = Source(dot_data)\n",
    "graph "
   ]
  },
  {
   "cell_type": "markdown",
   "metadata": {},
   "source": [
    "### 2.2.2 Comparing the results to the un-optimized version\n",
    "\n",
    "\n",
    "<div class=\"alert alert-block alert-success\">\n",
    "<b>Task:</b> Сalculate the effect of GridSearchCV\n",
    "<ul>\n",
    "<li> Use the expression (acc2 - acc1) / acc1 * 100%\n",
    "<li> acc1 and acc2 are accuracies of cross-validation before and after tuning max_depth with GridSearchCV\n",
    "<li> Hint: acc1 was already used before optimization, just calculate acc2 for comparison\n",
    "<li> Print the improvement (calculated by the expression) and the mean accuracy of the optimized dec_tree\n",
    "</ul>\n",
    "</div>\n"
   ]
  },
  {
   "cell_type": "code",
   "execution_count": 98,
   "metadata": {},
   "outputs": [
    {
     "name": "stdout",
     "output_type": "stream",
     "text": [
      "[0.87719298 3.68663594 1.82648402 2.17391304 0.90497738]\n",
      "1.8938406728930635\n"
     ]
    }
   ],
   "source": [
    "# STUDENT CODE HERE (2pt)\n",
    "acc1=results\n",
    "results_op = cross_val_score(decision_tree, X, Y, cv=skf )\n",
    "acc2=results_op\n",
    "a=(acc2 - acc1) / acc1*100\n",
    "print(a)\n",
    "print(a.mean())\n",
    "# STUDENT CODE until HERE"
   ]
  },
  {
   "cell_type": "markdown",
   "metadata": {},
   "source": [
    "<div class=\"alert alert-block alert-success\">\n",
    "<b>Question (1pt):</b> What are the advantages of the grid search process?\n",
    "</div>\n",
    "\n",
    "<div class=\"alert alert-block alert-success\">\n",
    "<b>Answer:</b>it helps to optimize our algorithm</div>\n"
   ]
  },
  {
   "cell_type": "markdown",
   "metadata": {},
   "source": [
    "### 2.3 Influence of Scaling\n",
    "\n",
    "As a last step we want to evaluate the influence of different scaling to our training data.\n",
    "\n",
    "#### 2.3.1 Scaling the Datasets with Standard Scaler and MinMaxScaler\n",
    "\n",
    "\n",
    "<div class=\"alert alert-block alert-success\">\n",
    "<b>Task:</b> \n",
    "\n",
    "Load the functions needed for the StandardScaler and the MinMaxScaler included in sklearn.preprocessing.\n",
    "\n",
    "</div>"
   ]
  },
  {
   "cell_type": "code",
   "execution_count": 99,
   "metadata": {},
   "outputs": [],
   "source": [
    "# STUDENT CODE HERE (1pt)\n",
    "from sklearn.preprocessing import StandardScaler\n",
    "from sklearn.preprocessing import MinMaxScaler\n",
    "# STUDENT CODE until HERE"
   ]
  },
  {
   "cell_type": "markdown",
   "metadata": {},
   "source": [
    "<div class=\"alert alert-block alert-success\">\n",
    "<b>Task:</b> Prepare two different datasets, one scaled with StandardScaler and the other one using MinMaxScaler.\n",
    "<ul>\n",
    "<li> Create the respective scalers and use the <code>.fit_transform()</code> method by using the whole training dataset\n",
    "<li> Then transform the test dataset with the 'fitted' scalers using the transform function\n",
    "\n",
    "</ul>\n",
    "</div>\n"
   ]
  },
  {
   "cell_type": "code",
   "execution_count": 100,
   "metadata": {},
   "outputs": [],
   "source": [
    "# STUDENT CODE HERE (2pt)\n",
    "scaler_std = StandardScaler()\n",
    "scaler_mm = MinMaxScaler()\n",
    "\n",
    "x_train_std = scaler_std.fit_transform(x_train)\n",
    "x_val_std = scaler_std.transform(x_val)\n",
    "\n",
    "x_train_mm = scaler_mm.fit_transform(x_train)\n",
    "x_val_mm = scaler_mm.transform(x_val)\n",
    "\n",
    "\n",
    "\n",
    "# STUDENT CODE until HERE"
   ]
  },
  {
   "cell_type": "markdown",
   "metadata": {},
   "source": [
    "### 2.3.2 Evaluate the performance on the scaled datasets\n",
    "\n",
    "\n",
    "\n",
    "<div class=\"alert alert-block alert-success\">\n",
    "<b>Task:</b> Now train another decision tree model with each of the newly scaled datasets (DecisionTreeClassifier, random_state = 17)\n",
    "<ul>\n",
    "<li> Calculate the accuracy on the test dataset for both datasets\n",
    "<li> Use a maximum depth of 3 for the training process\n",
    "\n",
    "</ul>\n",
    "</div>\n"
   ]
  },
  {
   "cell_type": "code",
   "execution_count": 101,
   "metadata": {},
   "outputs": [
    {
     "name": "stdout",
     "output_type": "stream",
     "text": [
      "[0 1 0 0 1 0 0 0 0 1 1 0 0 0 1 0 1 0 1 0 1 0 1 0 1 0 0 0 0 0 0 0 0 1 0 1 0\n",
      " 1 0 1 1 0 1 0 0 0 0 1 1 0 1 1 0 0 0 1 0 0 0 0 1 0 0 1 1 1 1 0 0 0 1 0 0 0\n",
      " 0 0 1 0 0 0 1 1 0 0 0 0 0 0 0 1 1 1 0 0 0 1 1 0 0 1 0 1 1 0 0 1 0 0 0 0 0\n",
      " 0 0 1 1 1 1 0 1 0 0 1 1 0 1 0 0 1 0 0 0 1 0 1 0 0 0 0 0 1 0 0 0 1 0 1 0 0\n",
      " 0 0 1 0 1 0 1 0 0 0 1 0 1 0 1 0 0 0 0 1 0 0 1 0 1 0 0 0 1 1 0]\n"
     ]
    },
    {
     "data": {
      "text/plain": [
       "0.7932960893854749"
      ]
     },
     "execution_count": 101,
     "metadata": {},
     "output_type": "execute_result"
    }
   ],
   "source": [
    "# Standard Scaler dataset\n",
    "# STUDENT CODE HERE (2pt)\n",
    "clf = tree.DecisionTreeClassifier(max_depth=3,random_state=17)\n",
    "clf.fit(x_train_std, y_train)\n",
    "y_pred_std=clf.predict(x_val_std)\n",
    "print(y_pred_std)\n",
    "accuracy_score(y_val, y_pred_std)\n",
    "# STUDENT CODE until HERE"
   ]
  },
  {
   "cell_type": "code",
   "execution_count": 102,
   "metadata": {},
   "outputs": [
    {
     "name": "stdout",
     "output_type": "stream",
     "text": [
      "[0 1 0 0 1 0 0 0 0 1 1 0 0 0 1 0 1 0 1 0 1 0 1 0 1 0 0 0 0 0 0 0 0 1 0 1 0\n",
      " 1 0 1 1 0 1 0 0 0 0 1 1 0 1 1 0 0 0 1 0 0 0 0 1 0 0 1 1 1 1 0 0 0 1 0 0 0\n",
      " 0 0 1 0 0 0 1 1 0 0 0 0 0 0 0 1 1 1 0 0 0 1 1 0 0 1 0 1 1 0 0 1 0 0 0 0 0\n",
      " 0 0 1 1 1 1 0 1 0 0 1 1 0 1 0 0 1 0 0 0 1 0 1 0 0 0 0 0 1 0 0 0 1 0 1 0 0\n",
      " 0 0 1 0 1 0 1 0 0 0 1 0 1 0 1 0 0 0 0 1 0 0 1 0 1 0 0 0 1 1 0]\n"
     ]
    },
    {
     "data": {
      "text/plain": [
       "0.7932960893854749"
      ]
     },
     "execution_count": 102,
     "metadata": {},
     "output_type": "execute_result"
    }
   ],
   "source": [
    "# Min-Max Scaler dataset\n",
    "# STUDENT CODE HERE (2pt)\n",
    "clf = tree.DecisionTreeClassifier(max_depth=3,random_state=17)\n",
    "clf.fit(x_train_mm, y_train)\n",
    "y_pred_mm=clf.predict(x_val_mm)\n",
    "print(y_pred_mm)\n",
    "accuracy_score(y_val, y_pred_mm)\n",
    "# STUDENT CODE until HERE"
   ]
  },
  {
   "cell_type": "markdown",
   "metadata": {},
   "source": [
    "<div class=\"alert alert-block alert-success\">\n",
    "<b>Question (1pt):</b> Compare the accuracy of the result of both scaling options to the original (without scaled datasets) performance with a tree depth of three. What do you observe? Why is this result not as expected? (Do not compare to the cross-validation result) Do you suggest to apply scaling in general?\n",
    "</div>\n",
    "\n",
    "<div class=\"alert alert-block alert-success\">\n",
    "<b>Answer:</b></div>\n"
   ]
  },
  {
   "cell_type": "markdown",
   "metadata": {},
   "source": [
    "## 2.4 RandomForests with scikit-learn"
   ]
  },
  {
   "cell_type": "markdown",
   "metadata": {},
   "source": [
    "Let's use not only one DecisionTree but several. By doing so we take multiple classifiers outputs into account than only a single one (Ensemble method - in this case Bagging). RandomForest classifiers are less prone to overfit."
   ]
  },
  {
   "cell_type": "code",
   "execution_count": 103,
   "metadata": {},
   "outputs": [
    {
     "name": "stderr",
     "output_type": "stream",
     "text": [
      "C:\\Users\\Flosc\\anaconda3\\envs\\lama_gpu\\lib\\site-packages\\sklearn\\model_selection\\_validation.py:598: DataConversionWarning: A column-vector y was passed when a 1d array was expected. Please change the shape of y to (n_samples,), for example using ravel().\n",
      "  estimator.fit(X_train, y_train, **fit_params)\n",
      "C:\\Users\\Flosc\\anaconda3\\envs\\lama_gpu\\lib\\site-packages\\sklearn\\model_selection\\_validation.py:598: DataConversionWarning: A column-vector y was passed when a 1d array was expected. Please change the shape of y to (n_samples,), for example using ravel().\n",
      "  estimator.fit(X_train, y_train, **fit_params)\n",
      "C:\\Users\\Flosc\\anaconda3\\envs\\lama_gpu\\lib\\site-packages\\sklearn\\model_selection\\_validation.py:598: DataConversionWarning: A column-vector y was passed when a 1d array was expected. Please change the shape of y to (n_samples,), for example using ravel().\n",
      "  estimator.fit(X_train, y_train, **fit_params)\n",
      "C:\\Users\\Flosc\\anaconda3\\envs\\lama_gpu\\lib\\site-packages\\sklearn\\model_selection\\_validation.py:598: DataConversionWarning: A column-vector y was passed when a 1d array was expected. Please change the shape of y to (n_samples,), for example using ravel().\n",
      "  estimator.fit(X_train, y_train, **fit_params)\n",
      "C:\\Users\\Flosc\\anaconda3\\envs\\lama_gpu\\lib\\site-packages\\sklearn\\model_selection\\_validation.py:598: DataConversionWarning: A column-vector y was passed when a 1d array was expected. Please change the shape of y to (n_samples,), for example using ravel().\n",
      "  estimator.fit(X_train, y_train, **fit_params)\n"
     ]
    },
    {
     "name": "stdout",
     "output_type": "stream",
     "text": [
      "Accuracy: 0.82 (+/- 0.08)\n"
     ]
    }
   ],
   "source": [
    "from sklearn.ensemble import RandomForestClassifier\n",
    "from sklearn.model_selection import StratifiedKFold\n",
    "\n",
    "random_forest = RandomForestClassifier(random_state=17)\n",
    "fold = StratifiedKFold(n_splits=5)\n",
    "\n",
    "scores = cross_val_score(random_forest, x_train, y_train, cv=fold)\n",
    "print(f'Accuracy: {scores.mean():0.2f} (+/- {scores.std() * 2:0.2f})')"
   ]
  },
  {
   "cell_type": "markdown",
   "metadata": {},
   "source": [
    "Nearly as good as our optimized decision tree and better than our unoptimized version by only using the RandomForestClassifiers default values and not being optimized. You should carry this MachineLearningTool in your pocket."
   ]
  }
 ],
 "metadata": {
  "interpreter": {
   "hash": "687f3923daa93ae2a0a75b71df2589348b374243f96147effbd831896c019279"
  },
  "kernelspec": {
   "display_name": "Python 3.7.11 64-bit ('lama_gpu': conda)",
   "name": "python3"
  },
  "language_info": {
   "codemirror_mode": {
    "name": "ipython",
    "version": 3
   },
   "file_extension": ".py",
   "mimetype": "text/x-python",
   "name": "python",
   "nbconvert_exporter": "python",
   "pygments_lexer": "ipython3",
   "version": "3.7.11"
  },
  "metadata": {
   "interpreter": {
    "hash": "ac59ebe37160ed0dfa835113d9b8498d9f09ceb179beaac4002f036b9467c963"
   }
  }
 },
 "nbformat": 4,
 "nbformat_minor": 2
}
